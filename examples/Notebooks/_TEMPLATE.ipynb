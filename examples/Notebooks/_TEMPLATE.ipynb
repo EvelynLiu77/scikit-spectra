{
 "metadata": {
  "name": "",
  "signature": "sha256:3d403cc2a818053ce22c840ce2f051d1f1e6634eafe40503c19ab50806bbe895"
 },
 "nbformat": 3,
 "nbformat_minor": 0,
 "worksheets": [
  {
   "cells": [
    {
     "cell_type": "markdown",
     "metadata": {},
     "source": [
      "-- <font color='gray'>**Adam Hughes**</font> \n",
      "\n",
      "-- <font color='gray'>**2/27/14**</font> \n",
      "\n",
      "-- <font color='gray'>**The George Washington University**</font> "
     ]
    },
    {
     "cell_type": "heading",
     "level": 1,
     "metadata": {},
     "source": [
      "TITLE"
     ]
    },
    {
     "cell_type": "heading",
     "level": 3,
     "metadata": {},
     "source": [
      "Objective"
     ]
    },
    {
     "cell_type": "markdown",
     "metadata": {},
     "source": [
      "::**DESCRIPTION OF OBJECTIVE**::"
     ]
    },
    {
     "cell_type": "heading",
     "level": 3,
     "metadata": {},
     "source": [
      "Environment Setup"
     ]
    },
    {
     "cell_type": "markdown",
     "metadata": {},
     "source": [
      "Configure notebook style (see NBCONFIG.ipynb), add imports and paths.  The **%run** magic used below <font color='red'>**requires IPython 2.0 or higher.**</font>"
     ]
    },
    {
     "cell_type": "code",
     "collapsed": false,
     "input": [
      "%run NBCONFIG.ipynb"
     ],
     "language": "python",
     "metadata": {},
     "outputs": [
      {
       "output_type": "stream",
       "stream": "stdout",
       "text": [
        "Populating the interactive namespace from numpy and matplotlib\n"
       ]
      },
      {
       "output_type": "stream",
       "stream": "stderr",
       "text": [
        "WARNING: pylab import has clobbered these variables: ['plotting']\n",
        "`%matplotlib` prevents importing * from pylab and numpy\n"
       ]
      },
      {
       "html": [
        "<style>\n",
        "#notebook_panel { /* main background */\n",
        "    background: #333;\n",
        "    color: #f6f6f6;\n",
        "}\n",
        "\n",
        "\n",
        "div #notebook { /* centre the content */\n",
        "    background: #FFFFF0;  /* IVORY */\n",
        "    color: #333;\n",
        "    width: 115ex;\n",
        "    margin: auto;\n",
        "    padding-left: 1em;\n",
        "    padding-right: 1em;\n",
        "    padding-top: 2ex;\n",
        "}\n",
        "\n",
        "\n",
        "div.text_cell_render {  /*Markdown cells */\n",
        "    font-family: Computer Modern Roman;\n",
        "}\n",
        "\n",
        "/* remove big margins around title */\n",
        "div.text_cell_render.border-box-sizing.rendered_html {\n",
        "    margin: 0; /*What is this */\n",
        "    padding: 0.05; /*Spacing between cells*/ \n",
        "    margin-left: 1ex;\n",
        "}\n",
        "div.cell.text_cell.border-box-sizing {\n",
        "    margin: 0;\n",
        "    padding: 0.05; \n",
        "}\n",
        "\n",
        ".rendered_html h1 {\n",
        "    margin: 0;\n",
        "    padding: 0;\n",
        "}\n",
        ".rendered_html h2 {\n",
        "    margin: 0;\n",
        "    padding: 0;\n",
        "}\n",
        ".rendered_html h3 {\n",
        "    margin: 0;\n",
        "    padding: 0;\n",
        "}\n",
        "\n",
        "/* Width of all cells */\n",
        "div.cell { /* set cell width to about 80 chars */\n",
        "    width: 55em;\n",
        "\n",
        "}\n",
        "\n",
        "/* Set font of coding cells (DONT KNOW WHY BUT NEED THIS) */\n",
        ".CodeMirror {\n",
        "    /* Preferred font is bold sawasdee, but here are backups */\n",
        "    font-family: \"Sawasdee\", \"Lucida Sans Typewriter\",\"Lucida Typewriter\", \n",
        "         \"Lucida Typewriter\", \"Courier New\", Courier, monospace;;\n",
        "    font-size: normal;\n",
        "    font-weight: 700; \n",
        "}\n",
        "\n",
        "div.cell.code_cell { /* Total code cell, in and out */\n",
        "    background: #FFFFF0;\n",
        "    border: none;\n",
        "    padding-top: 1ex;\n",
        "}\n",
        "\n",
        "div.input_area { /* box around box with code ??? */\n",
        "    border: none;\n",
        "    background: #f5f5f5;\n",
        "    border: 1px solid #fff;\n",
        "    border-radius: 10px;\n",
        "    padding-top: 0.5ex;\n",
        "    padding-bottom: 0.5ex;\n",
        "    padding-left: 0.5em;\n",
        "}\n",
        "\n",
        "div.input { /* box with code */\n",
        "}\n",
        "\n",
        "\n",
        "div.prompt { /* remove In/Out prompt */\n",
        "    display: none;\n",
        "}\n",
        "\n",
        "div.output_subarea { /* remove margin in front of output */\n",
        "    border: none;\n",
        "}\n",
        "\n",
        "div.cell.border-box-sizing.code_cell.running { \n",
        "    /* draw red dotted border around running cells */\n",
        "    border: 3px dotted #f33;\n",
        "}\n",
        "\n",
        "/* header colours and fonts */\n",
        "h1 { color: #444; }\n",
        "h2 { color: #444; font-style: oblique}\n",
        "h3 { color: #0000A0; font-weight: normal}\n",
        "h4 { color: #444; font-weight: oblique; font-size: large}\n",
        "\n",
        "\n",
        "</style>"
       ],
       "metadata": {},
       "output_type": "display_data",
       "text": [
        "<IPython.core.display.HTML at 0x4767ad0>"
       ]
      }
     ],
     "prompt_number": 3
    },
    {
     "cell_type": "heading",
     "level": 4,
     "metadata": {},
     "source": [
      "Step 1: ::Description Step 1::"
     ]
    },
    {
     "cell_type": "markdown",
     "metadata": {},
     "source": [
      "Explanation of step 1"
     ]
    },
    {
     "cell_type": "code",
     "collapsed": false,
     "input": [],
     "language": "python",
     "metadata": {},
     "outputs": [],
     "prompt_number": 3
    },
    {
     "cell_type": "markdown",
     "metadata": {},
     "source": [
      "<br>\n",
      "<hr>\n",
      "<div style=\"float:right; \\\">\n",
      "    <img src=\"https://raw.githubusercontent.com/hugadams/pyparty/master/pyparty/data/gwu.png\" \n",
      " align=right style=\"float:right; margin-left: 5px; margin-top: 0px; width:500px; height:250px\" />\n",
      "</div>\n",
      "\n",
      "\n",
      "\n",
      "<h3 style=\"margin-top:30px;\"> Questions or Feedback? </h3>\n",
      "\n",
      "* email: hugadams@gwmail.gwu.edu \n",
      "* twitter:  <a href=\"https://twitter.com/hughesadam87\" target=\"_blank\">@hughesadam87</a>\n",
      "* <a href=\"http://www.gwu.edu/~condmat/CME/reeves.html\" target=\"_blank\">Mark Reeves Physics Group</a>\n",
      "\n",
      "\n",
      "\n",
      "\n",
      "<h3 style=\"margin-top:30px;\"> References: </h3>\n",
      "\n",
      "* [1] : **REF 1**\n",
      "* [2] : **REF 2**\n",
      "\n",
      "\n",
      "\n",
      "\n",
      "\n",
      "<h3 style=\"margin-top:30px;\"> Related: </h3>\n",
      "\n",
      "   * <a href=\"https://github.com/hugadams/pyparty\" target=\"_blank\">pyparty: Image Analysis of Particles</a>\n",
      "   * <a href=\"https://github.com/hugadams/pyparty\" target=\"_blank\">pyuvvis: Exploratory Spectral Data Analysis</a>\n",
      "\n",
      "\n",
      "\n",
      "\n",
      "\n",
      "\n",
      "<h3 style=\"margin-top:30px;\">Notebook styling ideas:</h3>\n",
      "\n",
      "* <a href=\"http://blog.louic.nl/?p=683\" target=\"_blank\">Louic's web blog</a>\n",
      "* <a href=\"https://plot.ly/feed\" target=\"_blank\">Plotly</a>\n",
      "\n",
      "\n",
      "\n",
      "<br>\n",
      "<hr>\n",
      "<h4 style=\"margin-top:0px;\"> This notebook is free for redistribution. If citing, please reference as: </h4>\n",
      "\n",
      "- Hughes, A. (2012). [A Computational Framework for Plasmonic Nanobiosensing](https://www.researchgate.net/publication/236672995_A_Computational_Framework_for_Plasmonic_Nanobiosensing).  Python in Science Conference [SCIPY]. "
     ]
    }
   ],
   "metadata": {}
  }
 ]
}