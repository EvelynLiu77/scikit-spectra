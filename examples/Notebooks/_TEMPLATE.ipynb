{
 "metadata": {
  "name": "",
  "signature": "sha256:215d61a06af014fb43b88b442c85b96b13c9ad43a57c8d5071f8f7cc5ca507f9"
 },
 "nbformat": 3,
 "nbformat_minor": 0,
 "worksheets": [
  {
   "cells": [
    {
     "cell_type": "markdown",
     "metadata": {},
     "source": [
      "-- <font color='gray'>**Adam Hughes**</font> \n",
      "\n",
      "-- <font color='gray'>**2/27/14**</font> \n",
      "\n",
      "-- <font color='gray'>**The George Washington University**</font> "
     ]
    },
    {
     "cell_type": "heading",
     "level": 1,
     "metadata": {},
     "source": [
      "TITLE"
     ]
    },
    {
     "cell_type": "heading",
     "level": 3,
     "metadata": {},
     "source": [
      "Objective"
     ]
    },
    {
     "cell_type": "markdown",
     "metadata": {},
     "source": [
      "::**DESCRIPTION OF OBJECTIVE**::"
     ]
    },
    {
     "cell_type": "heading",
     "level": 3,
     "metadata": {},
     "source": [
      "Environment Setup"
     ]
    },
    {
     "cell_type": "markdown",
     "metadata": {},
     "source": [
      "Configure notebook style (see NBCONFIG.ipynb), add imports and paths.  The **%run** magic used below <font color='red'>**requires IPython 2.0 or higher.**</font>"
     ]
    },
    {
     "cell_type": "code",
     "collapsed": false,
     "input": [
      "%run NBCONFIG.ipynb"
     ],
     "language": "python",
     "metadata": {},
     "outputs": [
      {
       "output_type": "stream",
       "stream": "stdout",
       "text": [
        "Populating the interactive namespace from numpy and matplotlib\n"
       ]
      },
      {
       "output_type": "stream",
       "stream": "stderr",
       "text": [
        "WARNING: pylab import has clobbered these variables: ['plotting']\n",
        "`%matplotlib` prevents importing * from pylab and numpy\n"
       ]
      },
      {
       "html": [
        "<style>\n",
        "#notebook_panel { /* main background */\n",
        "    background: #333;\n",
        "    color: #f6f6f6;\n",
        "}\n",
        "\n",
        "\n",
        "div #notebook { /* centre the content */\n",
        "    background: #FFFFF0;  /* IVORY */\n",
        "    color: #333;\n",
        "    width: 115ex;\n",
        "    margin: auto;\n",
        "    padding-left: 1em;\n",
        "    padding-right: 1em;\n",
        "    padding-top: 2ex;\n",
        "}\n",
        "\n",
        "\n",
        "div.text_cell_render {  /*Markdown cells */\n",
        "    font-family: Computer Modern Roman;\n",
        "}\n",
        "\n",
        "/* remove big margins around title */\n",
        "div.text_cell_render.border-box-sizing.rendered_html {\n",
        "    margin: 0; /*What is this */\n",
        "    padding: 0.05; /*Spacing between cells*/ \n",
        "    margin-left: 1ex;\n",
        "}\n",
        "div.cell.text_cell.border-box-sizing {\n",
        "    margin: 0;\n",
        "    padding: 0.05; \n",
        "}\n",
        "\n",
        ".rendered_html h1 {\n",
        "    margin: 0;\n",
        "    padding: 0;\n",
        "}\n",
        ".rendered_html h2 {\n",
        "    margin: 0;\n",
        "    padding: 0;\n",
        "}\n",
        ".rendered_html h3 {\n",
        "    margin: 0;\n",
        "    padding: 0;\n",
        "}\n",
        "\n",
        "/* Width of all cells */\n",
        "div.cell { /* set cell width to about 80 chars */\n",
        "    width: 55em;\n",
        "\n",
        "}\n",
        "\n",
        "/* Set font of coding cells (DONT KNOW WHY BUT NEED THIS) */\n",
        ".CodeMirror {\n",
        "    /* Preferred font is bold sawasdee, but here are backups */\n",
        "    font-family: \"Sawasdee\", \"Lucida Sans Typewriter\",\"Lucida Typewriter\", \n",
        "         \"Lucida Typewriter\", \"Courier New\", Courier, monospace;;\n",
        "    font-size: normal;\n",
        "    font-weight: 700; \n",
        "}\n",
        "\n",
        "div.cell.code_cell { /* Total code cell, in and out */\n",
        "    background: #FFFFF0;\n",
        "    border: none;\n",
        "    padding-top: 1ex;\n",
        "}\n",
        "\n",
        "div.input_area { /* box around box with code ??? */\n",
        "    border: none;\n",
        "    background: #f5f5f5;\n",
        "    border: 1px solid #fff;\n",
        "    border-radius: 10px;\n",
        "    padding-top: 0.5ex;\n",
        "    padding-bottom: 0.5ex;\n",
        "    padding-left: 0.5em;\n",
        "}\n",
        "\n",
        "div.input { /* box with code */\n",
        "}\n",
        "\n",
        "\n",
        "div.prompt { /* remove In/Out prompt */\n",
        "    display: none;\n",
        "}\n",
        "\n",
        "div.output_subarea { /* remove margin in front of output */\n",
        "    border: none;\n",
        "}\n",
        "\n",
        "div.cell.border-box-sizing.code_cell.running { \n",
        "    /* draw red dotted border around running cells */\n",
        "    border: 3px dotted #f33;\n",
        "}\n",
        "\n",
        "/* header colours and fonts */\n",
        "h1 { color: #444; }\n",
        "h2 { color: #444; font-style: oblique}\n",
        "h3 { color: #0000A0; font-weight: normal}\n",
        "h4 { color: #444; font-weight: oblique; font-size: large}\n",
        "\n",
        "\n",
        "</style>"
       ],
       "metadata": {},
       "output_type": "display_data",
       "text": [
        "<IPython.core.display.HTML at 0x4767ad0>"
       ]
      }
     ],
     "prompt_number": 3
    },
    {
     "cell_type": "heading",
     "level": 4,
     "metadata": {},
     "source": [
      "Step 1: ::Description Step 1::"
     ]
    },
    {
     "cell_type": "markdown",
     "metadata": {},
     "source": [
      "Explanation of step 1"
     ]
    },
    {
     "cell_type": "code",
     "collapsed": false,
     "input": [],
     "language": "python",
     "metadata": {},
     "outputs": [],
     "prompt_number": 3
    },
    {
     "cell_type": "code",
     "collapsed": false,
     "input": [],
     "language": "python",
     "metadata": {},
     "outputs": [],
     "prompt_number": 3
    },
    {
     "cell_type": "heading",
     "level": 3,
     "metadata": {},
     "source": [
      "References"
     ]
    },
    {
     "cell_type": "markdown",
     "metadata": {},
     "source": [
      "- [1] : REF 1"
     ]
    },
    {
     "cell_type": "heading",
     "level": 3,
     "metadata": {},
     "source": [
      "Related"
     ]
    },
    {
     "cell_type": "markdown",
     "metadata": {},
     "source": [
      "- [pyuvvis](https://github.com/hugadams/pyuvvis)"
     ]
    },
    {
     "cell_type": "heading",
     "level": 3,
     "metadata": {},
     "source": [
      "Redistribution"
     ]
    },
    {
     "cell_type": "markdown",
     "metadata": {},
     "source": [
      "This notebook is free for redistribution.  If referencing, please cite as:\n",
      "\n",
      "- Hughes, A. (2012). [A Computational Framework for Plasmonic Nanobiosensing](https://www.researchgate.net/publication/236672995_A_Computational_Framework_for_Plasmonic_Nanobiosensing).  Python in Science Conference [SCIPY]. "
     ]
    },
    {
     "cell_type": "markdown",
     "metadata": {},
     "source": [
      "<br>\n",
      "<hr>\n",
      "\n",
      "<div style=\"float:right; \\\">\n",
      "    <img src=\"https://raw.githubusercontent.com/hugadams/pyparty/master/pyparty/data/gwu.png\" \n",
      " align=right style=\"float:right; margin-left: 5px; margin-top: 50px; width:500px; height:250px\" />\n",
      "</div>\n",
      "\n",
      "<h4 style=\"margin-top:80px;\"> Questions or Feedback? </h4>\n",
      "\n",
      "* email: hugadams@gwmail.gwu.edu \n",
      "* tweet: \n",
      "<a href=\"https://twitter.com/hughesadam87\" target=\"_blank\">@hughesadam87</a>\n",
      "* <a href=\"http://www.gwu.edu/~condmat/CME/reeves.html\" target=\"_blank\">Mark Reeves Physics Group</a>\n",
      "\n",
      "\n",
      "<h4 style=\"margin-top:30px;\">Notebook styling ideas</h4>\n",
      "\n",
      "* <a href=\"http://blog.louic.nl/?p=683\" target=\"_blank\">Louic's web blog</a>\n",
      "* <a href=\"https://plot.ly/feed\" target=\"_blank\">Plotly</a>\n",
      "\n",
      "<br>"
     ]
    }
   ],
   "metadata": {}
  }
 ]
}