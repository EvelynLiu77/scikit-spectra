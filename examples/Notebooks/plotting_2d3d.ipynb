{
 "metadata": {
  "name": "",
  "signature": "sha256:7e6552664dab2c98182bc5186cb771c21355bb544c763e2486637c4bc448718f"
 },
 "nbformat": 3,
 "nbformat_minor": 0,
 "worksheets": [
  {
   "cells": [
    {
     "cell_type": "heading",
     "level": 1,
     "metadata": {},
     "source": [
      "2D and 3D Plotting in Pyuvvis"
     ]
    },
    {
     "cell_type": "heading",
     "level": 3,
     "metadata": {},
     "source": [
      "Objective"
     ]
    },
    {
     "cell_type": "markdown",
     "metadata": {},
     "source": [
      "We will go over the basic 2d and 3D plotting API of pyuvvis."
     ]
    },
    {
     "cell_type": "heading",
     "level": 3,
     "metadata": {},
     "source": [
      "Environment Setup"
     ]
    },
    {
     "cell_type": "markdown",
     "metadata": {},
     "source": [
      "Configure notebook style (see NBCONFIG.ipynb), add imports and paths.  The **%run** magic used below <font color='red'>**requires IPython 2.0 or higher.**</font>"
     ]
    },
    {
     "cell_type": "code",
     "collapsed": false,
     "input": [
      "%run NBCONFIG.ipynb"
     ],
     "language": "python",
     "metadata": {},
     "outputs": []
    },
    {
     "cell_type": "heading",
     "level": 4,
     "metadata": {},
     "source": [
      "Step 1:: Load in some test data, plot absorbance of gold nanoparticles in water"
     ]
    },
    {
     "cell_type": "code",
     "collapsed": false,
     "input": [
      "from pyuvvis.data import aunps_glass\n",
      "\n",
      "# Absorbance of gold nanoparticles on galss\n",
      "ts = aunps_glass()\n",
      "ts.plot();"
     ],
     "language": "python",
     "metadata": {},
     "outputs": []
    },
    {
     "cell_type": "heading",
     "level": 3,
     "metadata": {},
     "source": [
      "Choosing the plot \"KIND\""
     ]
    },
    {
     "cell_type": "markdown",
     "metadata": {},
     "source": [
      "Pyuvvis strove to combine the matplotlib [contour API](http://matplotlib.org/examples/pylab_examples/contour_demo.html) and it's [3d API](http://matplotlib.org/mpl_toolkits/mplot3d/tutorial.html#wireframe-plots) into a single set of consisent keywords that already fit the 1-d plotting utilties.  Different plots can be selected through `ts.plot(kind=...)` keyword.  \n",
      "\n",
      "**First, let's see all of the various plot kinds available to our timespectra.**"
     ]
    },
    {
     "cell_type": "code",
     "collapsed": false,
     "input": [
      "ts.plot_kinds"
     ],
     "language": "python",
     "metadata": {},
     "outputs": []
    },
    {
     "cell_type": "code",
     "collapsed": true,
     "input": [],
     "language": "python",
     "metadata": {},
     "outputs": []
    },
    {
     "cell_type": "code",
     "collapsed": true,
     "input": [],
     "language": "python",
     "metadata": {},
     "outputs": []
    },
    {
     "cell_type": "heading",
     "level": 3,
     "metadata": {},
     "source": [
      "2D Plots/Contours"
     ]
    },
    {
     "cell_type": "code",
     "collapsed": false,
     "input": [
      "ts.plot(kind='contour');"
     ],
     "language": "python",
     "metadata": {},
     "outputs": []
    },
    {
     "cell_type": "markdown",
     "metadata": {},
     "source": [
      "Along with valid keywords to the pyuvvis 1d wrapper (xlabel, grid, tittle, cbar etc...) explained in the [1d plotting tutorial](http://nbviewer.ipython.org/github/hugadams/pyuvvis/blob/master/examples/Notebooks/Plotting.ipynb?create=1) , pyuvvis makes `fill` a keyword so that `contour` and `contourf` are no longer needed to handle this separation.  These are all shown off in the example below:"
     ]
    },
    {
     "cell_type": "code",
     "collapsed": false,
     "input": [
      "ts.plot(kind='contour', \n",
      "        fill=True,\n",
      "        contours=35,\n",
      "        grid='white',\n",
      "        cmap='hot',\n",
      "        xlabel='FOO X LABEL',\n",
      "        cbar=True);"
     ],
     "language": "python",
     "metadata": {},
     "outputs": []
    },
    {
     "cell_type": "heading",
     "level": 3,
     "metadata": {},
     "source": [
      "Default 3D Plots and general attributes"
     ]
    },
    {
     "cell_type": "markdown",
     "metadata": {},
     "source": [
      "Let's take a look at the default 3d plots with no customization.  They default to an unremarkable gray tone.  **After showing the default plots, we'll talk about general plot options, like choosing a view, and setting colors.**  After that, we'll get into each plot individually"
     ]
    },
    {
     "cell_type": "code",
     "collapsed": false,
     "input": [
      "for (idx, kind) in enumerate(['contour3d', 'spec3d', 'surf', 'waterfall', 'wire']):\n",
      "    ts.plot(kind=kind, title = 'KIND: %s' % kind.upper())"
     ],
     "language": "python",
     "metadata": {},
     "outputs": []
    },
    {
     "cell_type": "heading",
     "level": 4,
     "metadata": {},
     "source": [
      "Color/colormaps/colorbars"
     ]
    },
    {
     "cell_type": "markdown",
     "metadata": {},
     "source": [
      "There's currently a [matplotlib issue](https://github.com/matplotlib/matplotlib/issues/3562)  that <font color='red'>**colormaps on 3dplots aren't always rendered correctly unless the data has the same row and column numbers (ie 100 rows x 100 columns)</font>**. For now, let me cut a 100x100 section of the data for demonstration purposes.  This should be fixed in future versions.\n"
     ]
    },
    {
     "cell_type": "code",
     "collapsed": true,
     "input": [
      "ts = ts.iloc[0:100, 0:100]  #First 100 rows, first 100 columns"
     ],
     "language": "python",
     "metadata": {},
     "outputs": []
    },
    {
     "cell_type": "markdown",
     "metadata": {},
     "source": [
      "The `color`, `cmap` and `cbar` optionsshould work on any of the plots as we've seen with 1d specplots:"
     ]
    },
    {
     "cell_type": "code",
     "collapsed": false,
     "input": [
      "ts.plot(kind='surf', \n",
      "        cmap='jet',\n",
      "        alpha = 0.5, #Transparancy\n",
      "        cbar=True);"
     ],
     "language": "python",
     "metadata": {},
     "outputs": []
    },
    {
     "cell_type": "code",
     "collapsed": false,
     "input": [
      "ts.plot(kind='wire',\n",
      "        color = (1,0,0), #red\n",
      "        )"
     ],
     "language": "python",
     "metadata": {},
     "outputs": []
    },
    {
     "cell_type": "markdown",
     "metadata": {},
     "source": [
      "The `waterfall` and `surf` have a special `outline` color option that lets you quickly change the outline color apart from the surface:"
     ]
    },
    {
     "cell_type": "code",
     "collapsed": false,
     "input": [
      "ts.plot(kind='surf',\n",
      "        alpha=0.5, #Make surface transparent\n",
      "        outline='hot');"
     ],
     "language": "python",
     "metadata": {},
     "outputs": []
    },
    {
     "cell_type": "markdown",
     "metadata": {},
     "source": [
      "**Of course you could have got this by simply plotting a surface, and passing the same axes into wireplot.**"
     ]
    },
    {
     "cell_type": "code",
     "collapsed": false,
     "input": [
      "ax1 = ts.plot(kind='surf', cmap='hot', alpha=0.5)\n",
      "ts.plot(ax=ax1, kind='wire', color='pink');"
     ],
     "language": "python",
     "metadata": {},
     "outputs": []
    },
    {
     "cell_type": "heading",
     "level": 4,
     "metadata": {},
     "source": [
      "Isoviews"
     ]
    },
    {
     "cell_type": "markdown",
     "metadata": {},
     "source": [
      " <font color='blue'>**Matplotlib 3dplots outside of the notebook can be dragged/reoriented in 3D**</font>, but in the notebook, they have a fixed orientation.  **Matplotlib provides the `elev` and `azim` keywords to control the elevation and azimuth respectively.**  We've added a `view` keyword (1-6) to choose between some useful pre-set orientations:"
     ]
    },
    {
     "cell_type": "code",
     "collapsed": false,
     "input": [
      "f = plt.figure(figsize=(9,5))\n",
      "ax1 = f.add_subplot(121, projection='3d') #Multi 3d plot must be made this way\n",
      "ax2 = f.add_subplot(122, projection='3d')\n",
      "\n",
      "ts.plot(ax=ax1, kind='wire', color='teal', view=2)\n",
      "ts.plot(ax=ax2, kind='wire', color='teal', view=3);"
     ],
     "language": "python",
     "metadata": {},
     "outputs": []
    },
    {
     "cell_type": "heading",
     "level": 4,
     "metadata": {},
     "source": [
      "Strides"
     ]
    },
    {
     "cell_type": "markdown",
     "metadata": {},
     "source": [
      "The `wire` and `surfaces` in matplotlib use the `cstride/rstride` keywords to define the spacing between outlines.  We sometimes prefer to set a fixed number of strides, rather than thinking in terms of the spacing per stride.  **As such, we define the `c_iso` and `r_iso` keywords.**  For example, 50 column strides:"
     ]
    },
    {
     "cell_type": "code",
     "collapsed": false,
     "input": [
      "ts.plot(kind='wire', c_iso=50, color='green');"
     ],
     "language": "python",
     "metadata": {},
     "outputs": []
    },
    {
     "cell_type": "markdown",
     "metadata": {},
     "source": [
      "A fine mesh (50 rowstrides/50column strides) over a solid surface gives a nice mesh:"
     ]
    },
    {
     "cell_type": "code",
     "collapsed": false,
     "input": [
      "ts.plot(kind='surf', \n",
      "        r_iso=50,\n",
      "        c_iso=50, \n",
      "        outlines='black',\n",
      "        cmap='jet');"
     ],
     "language": "python",
     "metadata": {},
     "outputs": []
    },
    {
     "cell_type": "code",
     "collapsed": true,
     "input": [],
     "language": "python",
     "metadata": {},
     "outputs": []
    },
    {
     "cell_type": "heading",
     "level": 3,
     "metadata": {},
     "source": [
      "Customizing/Combining 3D Plots"
     ]
    },
    {
     "cell_type": "markdown",
     "metadata": {},
     "source": [
      "Pyuvvis aims to realy make 3d plotting quite accessible.  In doing so, we've added several convienence keywords and features to bring a consistent feel to the separate 3d plot types available in MPL.  Let's show off some general functionality with the basic `spec3d` plot:"
     ]
    },
    {
     "cell_type": "code",
     "collapsed": false,
     "input": [
      "ts = ts.iloc[0:100, 0:100]\n",
      "ts.varunit = 'dti'\n",
      "ts.plot(kind='spec3d');"
     ],
     "language": "python",
     "metadata": {},
     "outputs": []
    },
    {
     "cell_type": "code",
     "collapsed": false,
     "input": [
      "ts.plot(kind='surf', cmap='hot', outline='g');"
     ],
     "language": "python",
     "metadata": {},
     "outputs": []
    },
    {
     "cell_type": "code",
     "collapsed": false,
     "input": [
      "ts.plot(kind='wire', cmap='jet');"
     ],
     "language": "python",
     "metadata": {},
     "outputs": []
    },
    {
     "cell_type": "code",
     "collapsed": false,
     "input": [
      "ts.plot(kind='waterfall', color='red', outline='yellow', alpha=0.9);"
     ],
     "language": "python",
     "metadata": {},
     "outputs": []
    },
    {
     "cell_type": "code",
     "collapsed": true,
     "input": [],
     "language": "python",
     "metadata": {},
     "outputs": []
    },
    {
     "cell_type": "code",
     "collapsed": true,
     "input": [],
     "language": "python",
     "metadata": {},
     "outputs": []
    },
    {
     "cell_type": "markdown",
     "metadata": {},
     "source": [
      "<hr>\n",
      "<br>\n",
      "\n",
      "\n",
      "<div style=\"float:left; \\\">\n",
      "    <img src=\"https://avatars0.githubusercontent.com/u/1972276?s=460\" \n",
      " align=left; text-align:center; style=\"float:left; margin-left: 5px; margin-top: -25px; width:150px; height:150px\" /> \n",
      "</div>\n",
      "\n",
      "<div style=\"float:left; \\\"><a href=\"https://github.com/hugadams\">\n",
      "    <img src=\"https://assets-cdn.github.com/images/modules/logos_page/GitHub-Mark.png\" \n",
      " align=left; text-align:center; style=\"float:left; margin-left: 25px; margin-top: -25px; width:75px; height:75px\" /> \n",
      "</div>\n",
      "\n",
      "\n",
      "<div style=\"float:left; \\\"><a href=\"https://twitter.com/hughesadam87\">\n",
      "    <img src=\"http://paymentmagnates.com/wp-content/uploads/2014/04/twitter-icon.png\" \n",
      " align=left; text-align:center; style=\"float:left; margin-left: 25px; margin-top: -25px; width:75px; height:75px\" /> \n",
      "</div>\n",
      "\n",
      "<div style=\"float:left; \\\"><a href=\"https://www.researchgate.net/profile/Adam_Hughes2?ev=hdr_xprf\">\n",
      "    <img src=\"http://www.txhughes.com/images/button-researchgate.png\" \n",
      " align=left; text-align:center; style=\"float:left; margin-left: -175px; margin-top: 55px; width:75px; height:75px\" /> \n",
      "</div>\n",
      "\n",
      "<div style=\"float:left; \\\"><a href=\"https://www.linkedin.com/profile/view?id=121484744&trk=nav_responsive_tab_profile_picg\">\n",
      "    <img src=\"http://smallbusinessesdoitbetter.com/wordpress/wp-content/uploads/li.png\" \n",
      " align=left; text-align:center; style=\"float:left; margin-left: -75px; margin-top: 55px; width:75px; height:75px\" /> \n",
      "</div>\n",
      "\n",
      "<div style=\"float:center; \\\"><a href=\"http://www.gwu.edu/\">\n",
      "    <img src=\"https://raw.githubusercontent.com/hugadams/pyparty/master/pyparty/data/gwu.png\" \n",
      " align=center style=\"float:center; margin-right: 30px; margin-top: -35px; width:335px; height:180px\" />\n",
      "</div>\n",
      "\n",
      "\n",
      "<h4 style=\"margin-top:0px;\"> This notebook is free for redistribution. If citing, please reference as: </h4>\n",
      "- *Hughes, A. (2012). [A Computational Framework for Plasmonic Nanobiosensing](https://www.researchgate.net/publication/236672995_A_Computational_Framework_for_Plasmonic_Nanobiosensing).  Python in Science Conference [SCIPY].* \n",
      "\n",
      "\n",
      "<h3 style=\"margin-top:30px;\"> Questions or Feedback? </h3>\n",
      "\n",
      "* hugadams@gwmail.gwu.edu \n",
      "* twitter:  <a href=\"https://twitter.com/hughesadam87\" target=\"_blank\">@hughesadam87</a>\n",
      "* <a href=\"http://www.gwu.edu/~condmat/CME/reeves.html\" target=\"_blank\">Mark Reeves Biophysics Group</a>\n",
      "\n",
      "\n",
      "\n",
      "\n",
      "<h3 style=\"margin-top:30px;\"> References: </h3>\n",
      "\n",
      "* [1] : **REF 1**\n",
      "* [2] : **REF 2**\n",
      "\n",
      "\n",
      "\n",
      "\n",
      "\n",
      "<h3 style=\"margin-top:30px;\"> Related: </h3>\n",
      "\n",
      "   * <a href=\"https://github.com/hugadams/pyparty\" target=\"_blank\">pyuvvis: Exploratory Spectral Data Analysis</a>\n",
      "   * <a href=\"https://github.com/hugadams/pyparty\" target=\"_blank\">pyparty: Image Analysis of Particles</a>\n",
      "   * <a href=\"http://lorenabarba.com/\" target=\"_blank\">Lorena A. Barba (GWU Engineering)</a>\n",
      "\n",
      "\n",
      "\n",
      "\n",
      "\n",
      "<h3 style=\"margin-top:30px;\">Notebook styling ideas:</h3>\n",
      "\n",
      "* <a href=\"http://blog.louic.nl/?p=683\" target=\"_blank\">Louic's web blog</a>\n",
      "* <a href=\"https://plot.ly/feed\" target=\"_blank\">Plotly</a>\n",
      "* <a href=\"http://damon-is-a-geek.com/publication-ready-the-first-time-beautiful-reproducible-plots-with-matplotlib.html\" target=\"_blank\">Publication-ready the first time: Beautiful, reproducible plots with Matplotlib</a>\n",
      "\n",
      "<br>\n",
      "<hr>"
     ]
    }
   ],
   "metadata": {}
  }
 ]
}