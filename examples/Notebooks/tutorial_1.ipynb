{
 "metadata": {
  "kernelspec": {
   "codemirror_mode": {
    "name": "ipython",
    "version": 2
   },
   "display_name": "IPython (Python 2)",
   "language": "python",
   "name": "python2"
  },
  "name": "",
  "signature": "sha256:f4b85b8bf8bd74ca9fb474260354b03be057552134adff3f166ffe878cdfa5ec"
 },
 "nbformat": 3,
 "nbformat_minor": 0,
 "worksheets": [
  {
   "cells": [
    {
     "cell_type": "heading",
     "level": 1,
     "metadata": {},
     "source": [
      "Pyuvvis Basic Tutorial: Part 1- TimeSpectra"
     ]
    },
    {
     "cell_type": "heading",
     "level": 3,
     "metadata": {},
     "source": [
      "Objective"
     ]
    },
    {
     "cell_type": "markdown",
     "metadata": {},
     "source": [
      "Introduce `TimeSpectra` and its basic features, including:\n",
      "\n",
      "   - normalizing/referencing data (e.g. Absorbance vs. Transmitance)\n",
      "    \n",
      "   - changing spectral units\n",
      "    \n",
      "   - converting between interval and datetime representations\n",
      "   \n",
      "   - basic arithmetic/pandas operations\n",
      "   \n",
      "See [part 2](http://nbviewer.ipython.org/github/hugadams/pyuvvis/blob/master/examples/Notebooks/tutorial_2.ipynb?create=1) for `TimeSpectra` construction, I/O, slicing and advanced pandas operations."
     ]
    },
    {
     "cell_type": "heading",
     "level": 3,
     "metadata": {},
     "source": [
      "Environment Setup"
     ]
    },
    {
     "cell_type": "markdown",
     "metadata": {},
     "source": [
      "Configure notebook style (see NBCONFIG.ipynb), add imports and paths.  The **%run** magic used below <font color='red'>**requires IPython 2.0 or higher.**</font>"
     ]
    },
    {
     "cell_type": "code",
     "collapsed": false,
     "input": [
      "%run NBCONFIG.ipynb"
     ],
     "language": "python",
     "metadata": {},
     "outputs": [
      {
       "output_type": "stream",
       "stream": "stdout",
       "text": [
        "Populating the interactive namespace from numpy and matplotlib\n",
        "['dti', 'd', 'h', 'm', 'us', 's', 'ms', 'intvl', 'ns']\n"
       ]
      },
      {
       "ename": "ImportError",
       "evalue": "No module named pca_lite",
       "output_type": "pyerr",
       "traceback": [
        "\u001b[1;31m---------------------------------------------------------------------------\u001b[0m",
        "\u001b[1;31mImportError\u001b[0m                               Traceback (most recent call last)",
        "\u001b[1;32m<ipython-input-1-8f8bfcce2ae3>\u001b[0m in \u001b[0;36m<module>\u001b[1;34m()\u001b[0m\n\u001b[0;32m      1\u001b[0m \u001b[1;32mif\u001b[0m \u001b[0mNBSTYLE\u001b[0m\u001b[1;33m:\u001b[0m\u001b[1;33m\u001b[0m\u001b[0m\n\u001b[1;32m----> 2\u001b[1;33m     \u001b[1;32mfrom\u001b[0m \u001b[0mpyuvvis\u001b[0m\u001b[1;33m.\u001b[0m\u001b[0mbundled\u001b[0m \u001b[1;32mimport\u001b[0m \u001b[0mload_style\u001b[0m\u001b[1;33m\u001b[0m\u001b[0m\n\u001b[0m\u001b[0;32m      3\u001b[0m     \u001b[0mload_style\u001b[0m\u001b[1;33m(\u001b[0m\u001b[0mNBSTYLE\u001b[0m\u001b[1;33m)\u001b[0m\u001b[1;33m;\u001b[0m\u001b[1;33m\u001b[0m\u001b[0m\n",
        "\u001b[1;32m/home/glue/Desktop/PYUVVIS/pyuvvis/pyuvvis/__init__.py\u001b[0m in \u001b[0;36m<module>\u001b[1;34m()\u001b[0m\n\u001b[0;32m     10\u001b[0m \u001b[1;33m\u001b[0m\u001b[0m\n\u001b[0;32m     11\u001b[0m \u001b[1;31m### Correlation analysis\u001b[0m\u001b[1;33m\u001b[0m\u001b[1;33m\u001b[0m\u001b[0m\n\u001b[1;32m---> 12\u001b[1;33m \u001b[1;32mfrom\u001b[0m \u001b[0mpyuvvis\u001b[0m\u001b[1;33m.\u001b[0m\u001b[0mcore\u001b[0m\u001b[1;33m.\u001b[0m\u001b[0mcorr\u001b[0m \u001b[1;32mimport\u001b[0m \u001b[0mCorr2d\u001b[0m\u001b[1;33m\u001b[0m\u001b[0m\n\u001b[0m\u001b[0;32m     13\u001b[0m \u001b[1;33m\u001b[0m\u001b[0m\n\u001b[0;32m     14\u001b[0m \u001b[1;31m#from pyuvvis.core.specindex import SpecIndex\u001b[0m\u001b[1;33m\u001b[0m\u001b[1;33m\u001b[0m\u001b[0m\n",
        "\u001b[1;32m/home/glue/Desktop/PYUVVIS/pyuvvis/pyuvvis/core/corr.py\u001b[0m in \u001b[0;36m<module>\u001b[1;34m()\u001b[0m\n",
        "\u001b[1;31mImportError\u001b[0m: No module named pca_lite"
       ]
      }
     ],
     "prompt_number": 1
    },
    {
     "cell_type": "heading",
     "level": 3,
     "metadata": {},
     "source": [
      "Importing Test Data"
     ]
    },
    {
     "cell_type": "markdown",
     "metadata": {},
     "source": [
      "`pyuvvis` comes prepackaged with several test datasets; see the [test data tutorial](http://nbviewer.ipython.org/github/hugadams/pyuvvis/blob/master/examples/Notebooks/testdata.ipynb?create=1) for explanations of each set.  We will `aunps_glass()`, which is the spectral reflectance of a glass surface as it's coated with a monolayer of gold nanoparticles over time."
     ]
    },
    {
     "cell_type": "code",
     "collapsed": false,
     "input": [
      "from pyuvvis.data import aunps_glass\n",
      "\n",
      "ts = aunps_glass()\n",
      "ts"
     ],
     "language": "python",
     "metadata": {},
     "outputs": []
    },
    {
     "cell_type": "markdown",
     "metadata": {},
     "source": [
      "A `timespectra` is a pandas Dataframe with a **DateTime Index** along the colum axis, and **Spectral Data** along the rows.  "
     ]
    },
    {
     "cell_type": "code",
     "collapsed": false,
     "input": [
      "ts.plot(cbar=True);"
     ],
     "language": "python",
     "metadata": {},
     "outputs": []
    },
    {
     "cell_type": "heading",
     "level": 3,
     "metadata": {},
     "source": [
      "Spectral and Temporal Conversion"
     ]
    },
    {
     "cell_type": "markdown",
     "metadata": {},
     "source": [
      "This previous plot shows the dataset, colored by time.  *What if we wanted to change the spectral dimension, and maybe represent the data as an interval?*  First, let's see what types of spectral units and time intervals are supported:"
     ]
    },
    {
     "cell_type": "code",
     "collapsed": false,
     "input": [
      "ts.specunits(pprint=True)\n",
      "ts.varunits(pprint=True)"
     ],
     "language": "python",
     "metadata": {},
     "outputs": []
    },
    {
     "cell_type": "code",
     "collapsed": false,
     "input": [
      "t2 = ts.as_varunit('intvl')\n",
      "t2.specunit = 'ev'\n",
      "t2.plot(cbar=True, \n",
      "        colormap='bone', \n",
      "        title='AuNPs Glass in Electron volts');"
     ],
     "language": "python",
     "metadata": {},
     "outputs": []
    },
    {
     "cell_type": "markdown",
     "metadata": {},
     "source": [
      "By default, `as_interval()` returns time deltas, but we could also show this in seconds for example.  Let's look at how the area under the curves changes with time."
     ]
    },
    {
     "cell_type": "code",
     "collapsed": false,
     "input": [
      "from pyuvvis.plotting import areaplot\n",
      "areaplot(ts.as_varunit('s'));"
     ],
     "language": "python",
     "metadata": {},
     "outputs": []
    },
    {
     "cell_type": "heading",
     "level": 4,
     "metadata": {},
     "source": [
      "API for various units"
     ]
    },
    {
     "cell_type": "markdown",
     "metadata": {},
     "source": [
      "`Spectra` object support the following three unit types:\n",
      " \n",
      "   - **iunit**: Data intensity unit type ('Absorbance' vs. 'Transmittance' vs. 'Raw')\n",
      "   - **specunit (index/row label)**: Spectral unit (wavelength, wavenumber etc...)\n",
      "   - **varunit (column label)**: Variation/perturbation unit (time, temperature, pressure etc...)\n",
      "   \n",
      "While the most common perturbation variable in our work is time, a more general framework should not rely on explicit declarations of time.  \n",
      "\n",
      " <font color='blue'>**For each of these three units, the following API is supported**</font>:\n",
      "   - `xunit`: Return the current unit.\n",
      "       - e.g.  `ts.specunit`\n",
      "   - `full_xunit`: Return the full name of spectral unit\n",
      "       - e.g. `ts.full_specunit`\n",
      "   - `list_xunits`: Formatted printout of all available units.\n",
      "       - e.g. `ts.list_specunits()`\n",
      "   - `as_xunit`: Return a new Spectra object in that desired unit\n",
      "       - e.g. `ts_new = ts.as_specunit('nm')`\n",
      "    \n",
      "The API also supports unit setting (e.g. `ts.specunit = 'cm-1'`); however, setting the full specunit (e.g. `ts.full_specunit = inverse centimeters`) is not supported.\n",
      "\n",
      "The `TimeSpectra` extends this API to support interval units.  For example, `ts.as_interval(\"s\")`.  "
     ]
    },
    {
     "cell_type": "heading",
     "level": 4,
     "metadata": {},
     "source": [
      "Normalization and Intensity Representations"
     ]
    },
    {
     "cell_type": "markdown",
     "metadata": {},
     "source": [
      "So far, we have only looked at the raw data.  However, spectrsocopy almost always deals with normalized data.  For example, the **absorbance** is defined as:\n",
      "\n",
      "$A(\\lambda) = -\\log_{10} \\left[ \\frac{S(\\lambda)  - B(\\lambda) }{R(\\lambda)  - B(\\lambda) }\\right] $\n",
      "\n",
      "Where **S** is the spectra, **R** is a reference spectrum and **B** is a baseline spectra.  Because baseline and reference operations are SO common, `pyuvvis` tries to make juggling them very intuitive.\n",
      "\n",
      "Let's check out the supported intensity representations:"
     ]
    },
    {
     "cell_type": "code",
     "collapsed": false,
     "input": [
      "ts.iunits(pprint=True)"
     ],
     "language": "python",
     "metadata": {},
     "outputs": []
    },
    {
     "cell_type": "markdown",
     "metadata": {},
     "source": [
      "Note the **Inverse Transmittance**.  This merely means dividing the baseline-subtracted data by a single curve (eg. it's $A(\\lambda)$ without the $-log_{10}$).   Let's take a look at the absorbance using a dataset of AuNPs in $H_20$.  We will plot the dataset, its reference and its baseline (which has been pre-assigned) in a multiplot using `splot`, as simple wrapper to matplotlib's `plt.subplots()`."
     ]
    },
    {
     "cell_type": "code",
     "collapsed": false,
     "input": [
      "from pyuvvis.data import aunps_water\n",
      "from pyuvvis.plotting import splot\n",
      "\n",
      "ts_water = aunps_water().ix[400.:700.] #Focus on visible wavelengths \n",
      "ax1, ax2 = splot(1,2)\n",
      "\n",
      "ts_water.plot(ax=ax1)\n",
      "ts_water.baseline.plot(ax = ax2, color='r', ls='--')\n",
      "ts_water.reference.plot(ax = ax2, color='black', ls='--');"
     ],
     "language": "python",
     "metadata": {},
     "outputs": []
    },
    {
     "cell_type": "markdown",
     "metadata": {},
     "source": [
      "We see that the baseline for this dataset is set to $y=234 counts$ and the reference is actually the first curve in the dataset.  **Before using normalized data, don't to subtract the baseline!**.  The baseline can be subtracted or added back at any time through the `ts.sub_base()` and `ts.add_base()` methods.  The plot below shows the characteristic surface plasmon resonance peak of gold nanoparticles before and after proteins bind to them."
     ]
    },
    {
     "cell_type": "code",
     "collapsed": false,
     "input": [
      "ts_water.sub_base()\n",
      "ts_water.as_iunit('a').plot(cbar=True, colormap='hot_r');"
     ],
     "language": "python",
     "metadata": {},
     "outputs": []
    },
    {
     "cell_type": "heading",
     "level": 4,
     "metadata": {},
     "source": [
      "Changing the baseline/reference"
     ]
    },
    {
     "cell_type": "markdown",
     "metadata": {},
     "source": [
      "Baselines and references accept a variety of input types including:\n",
      "\n",
      "- `Column Index` : **ts.set_baseline(50)**\n",
      "       Integers are automatically interpreted as column indicies.\n",
      "\n",
      "- `Column Name` : **ts.set_baseline('2013-02-04 15:40:48')**\n",
      "       Strings must be valid column names.\n",
      "       \n",
      "- `Array` : **ts.set_baseline(np.random.randn( ts.shape[0] )**\n",
      "       Array must have the SAME length as ts.index\n",
      "       \n",
      "       \n",
      "For example, let's pass some guassian noise as our baseline, then subtract the baseline resulting in really noisy data."
     ]
    },
    {
     "cell_type": "code",
     "collapsed": false,
     "input": [
      "AMP = 100 #noise amplitude\n",
      "ts.baseline = AMP * np.random.randn(ts.shape[0])\n",
      "ts.sub_base()\n",
      "ts.plot();"
     ],
     "language": "python",
     "metadata": {},
     "outputs": []
    },
    {
     "cell_type": "markdown",
     "metadata": {},
     "source": [
      "**However, this operation is fully reversible!**"
     ]
    },
    {
     "cell_type": "code",
     "collapsed": false,
     "input": [
      "ts.add_base()\n",
      "ts.plot();"
     ],
     "language": "python",
     "metadata": {},
     "outputs": []
    },
    {
     "cell_type": "heading",
     "level": 3,
     "metadata": {},
     "source": [
      "Arithmetic Operations "
     ]
    },
    {
     "cell_type": "markdown",
     "metadata": {},
     "source": [
      "The timespectra should behave like a dataframe, so basic [pandas](http://pandas.pydata.org/) operations should just work.  Note that this behavior is not standard, so not every single operation is likely to work.   <font color='blue'>**At any time, the underlying dataframe may be access through the attribute,**</font> `ts._df()`.\n",
      "\n",
      "As an example of an arithmetic operation, let's square the TimeSpectra..."
     ]
    },
    {
     "cell_type": "code",
     "collapsed": false,
     "input": [
      "tsquared = ts**2\n",
      "tsquared.plot(title='ts squared',\n",
      "              cbar = True,\n",
      "              colormap='spectral');"
     ],
     "language": "python",
     "metadata": {},
     "outputs": []
    },
    {
     "cell_type": "markdown",
     "metadata": {},
     "source": [
      "or look at the column-wise mean... ( <font color='red'>some operations that return will lose some pyuvvis of the default plot settings</font>)"
     ]
    },
    {
     "cell_type": "code",
     "collapsed": false,
     "input": [
      "ts.mean().plot(title='$\\mu$ column-wise average')\n",
      "plt.ylabel('Average counts')\n",
      "plt.xlabel('Timestamp');"
     ],
     "language": "python",
     "metadata": {},
     "outputs": []
    },
    {
     "cell_type": "markdown",
     "metadata": {},
     "source": [
      "One very important method is `ts.apply()` which allows the user to pass an arbitrary curve function row or columnwise.  As a contrived example, consider a function that randomly adds noise to a curve with a 20% chance."
     ]
    },
    {
     "cell_type": "code",
     "collapsed": false,
     "input": [
      "def random_noise(curve):\n",
      "    if randint(1,6) == 5:     #20% chance of choosing 5\n",
      "        curve = curve + 25 * np.random.randn(len(curve))\n",
      "    return curve\n",
      "\n",
      "ts_noisy = ts.apply(random_noise, axis=1)\n",
      "ts_noisy.plot()"
     ],
     "language": "python",
     "metadata": {},
     "outputs": []
    },
    {
     "cell_type": "markdown",
     "metadata": {},
     "source": [
      "`apply` also works on functions that will return a single `Spectrum`.  For example, if we define a function that for each time curve, we return the quotient of its min and max, a `Spectrum` is returned.  This is equivalent to a pandas Series, except it retains certain metadata about the `Spectra` such as the `specunit` and baseline."
     ]
    },
    {
     "cell_type": "code",
     "collapsed": false,
     "input": [
      "def foo(series):\n",
      "    return series.min() /series.max()\n",
      "\n",
      "spectrum = ts.apply(foo)\n",
      "spectrum.plot(ylabel='Quotient', title='Spectrum: Quotient vs. time')\n",
      "print type(spectrum)\n",
      "\n",
      "# Print out first 5 values\n",
      "spectrum[0:5]"
     ],
     "language": "python",
     "metadata": {},
     "outputs": []
    },
    {
     "cell_type": "code",
     "collapsed": false,
     "input": [
      "ts.iloc[5,:]"
     ],
     "language": "python",
     "metadata": {},
     "outputs": []
    },
    {
     "cell_type": "markdown",
     "metadata": {},
     "source": [
      "See [part2](http://nbviewer.ipython.org/github/hugadams/pyuvvis/blob/master/examples/Notebooks/tutorial_2.ipynb?create=1) for slicing, IO and more advanced pandas functionality.  For working with multiple TimeSpectra at once, jump to the [SpecStack tutorial](http://nbviewer.ipython.org/github/hugadams/pyuvvis/blob/master/examples/Notebooks/testdata.ipynb?create=1)."
     ]
    },
    {
     "cell_type": "markdown",
     "metadata": {},
     "source": [
      "<hr>\n",
      "<br>\n",
      "\n",
      "\n",
      "<div style=\"float:left; \\\">\n",
      "    <img src=\"https://avatars0.githubusercontent.com/u/1972276?s=460\" \n",
      " align=left; text-align:center; style=\"float:left; margin-left: 5px; margin-top: -25px; width:150px; height:150px\" /> \n",
      "</div>\n",
      "\n",
      "<div style=\"float:left; \\\"><a href=\"https://github.com/hugadams\">\n",
      "    <img src=\"https://assets-cdn.github.com/images/modules/logos_page/GitHub-Mark.png\" \n",
      " align=left; text-align:center; style=\"float:left; margin-left: 25px; margin-top: -25px; width:75px; height:75px\" /> \n",
      "</div>\n",
      "\n",
      "\n",
      "<div style=\"float:left; \\\"><a href=\"https://twitter.com/hughesadam87\">\n",
      "    <img src=\"http://paymentmagnates.com/wp-content/uploads/2014/04/twitter-icon.png\" \n",
      " align=left; text-align:center; style=\"float:left; margin-left: 25px; margin-top: -25px; width:75px; height:75px\" /> \n",
      "</div>\n",
      "\n",
      "<div style=\"float:left; \\\"><a href=\"https://www.researchgate.net/profile/Adam_Hughes2?ev=hdr_xprf\">\n",
      "    <img src=\"http://www.txhughes.com/images/button-researchgate.png\" \n",
      " align=left; text-align:center; style=\"float:left; margin-left: -175px; margin-top: 55px; width:75px; height:75px\" /> \n",
      "</div>\n",
      "\n",
      "<div style=\"float:left; \\\"><a href=\"https://www.linkedin.com/profile/view?id=121484744&trk=nav_responsive_tab_profile_picg\">\n",
      "    <img src=\"http://smallbusinessesdoitbetter.com/wordpress/wp-content/uploads/li.png\" \n",
      " align=left; text-align:center; style=\"float:left; margin-left: -75px; margin-top: 55px; width:75px; height:75px\" /> \n",
      "</div>\n",
      "\n",
      "<div style=\"float:center; \\\"><a href=\"http://www.gwu.edu/\">\n",
      "    <img src=\"https://raw.githubusercontent.com/hugadams/pyparty/master/pyparty/data/gwu.png\" \n",
      " align=center style=\"float:center; margin-right: 30px; margin-top: -35px; width:335px; height:180px\" />\n",
      "</div>\n",
      "\n",
      "\n",
      "<h4 style=\"margin-top:0px;\"> This notebook is free for redistribution. If citing, please reference as: </h4>\n",
      "- *Hughes, A. (2012). [A Computational Framework for Plasmonic Nanobiosensing](https://www.researchgate.net/publication/236672995_A_Computational_Framework_for_Plasmonic_Nanobiosensing).  Python in Science Conference [SCIPY].* \n",
      "\n",
      "\n",
      "<h3 style=\"margin-top:30px;\"> Questions or Feedback? </h3>\n",
      "\n",
      "* hugadams@gwmail.gwu.edu \n",
      "* twitter:  <a href=\"https://twitter.com/hughesadam87\" target=\"_blank\">@hughesadam87</a>\n",
      "* <a href=\"http://www.gwu.edu/~condmat/CME/reeves.html\" target=\"_blank\">Mark Reeves Biophysics Group</a>\n",
      "\n",
      "\n",
      "\n",
      "\n",
      "<h3 style=\"margin-top:30px;\"> References: </h3>\n",
      "\n",
      "* [1] : **REF 1**\n",
      "* [2] : **REF 2**\n",
      "\n",
      "\n",
      "\n",
      "\n",
      "\n",
      "<h3 style=\"margin-top:30px;\"> Related: </h3>\n",
      "\n",
      "   * <a href=\"https://github.com/hugadams/pyparty\" target=\"_blank\">pyuvvis: Exploratory Spectral Data Analysis</a>\n",
      "   * <a href=\"https://github.com/hugadams/pyparty\" target=\"_blank\">pyparty: Image Analysis of Particles</a>\n",
      "   * <a href=\"http://lorenabarba.com/\" target=\"_blank\">Lorena A. Barba (GWU Engineering)</a>\n",
      "   * <a href=\"http://www.youtube.com/watch?v=W7RgkHM-B60\" target=\"_blank\">xray: extended arrays for scientific datasets</a>\n",
      "\n",
      "\n",
      "\n",
      "<h3 style=\"margin-top:30px;\">Notebook styling ideas:</h3>\n",
      "\n",
      "* <a href=\"http://blog.louic.nl/?p=683\" target=\"_blank\">Louic's web blog</a>\n",
      "* <a href=\"https://plot.ly/feed\" target=\"_blank\">Plotly</a>\n",
      "* <a href=\"http://damon-is-a-geek.com/publication-ready-the-first-time-beautiful-reproducible-plots-with-matplotlib.html\" target=\"_blank\">Publication-ready the first time: Beautiful, reproducible plots with Matplotlib</a>\n",
      "\n",
      "<br>\n",
      "<hr>"
     ]
    }
   ],
   "metadata": {}
  }
 ]
}