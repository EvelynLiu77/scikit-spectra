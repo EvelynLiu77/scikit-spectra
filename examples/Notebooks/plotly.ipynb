{
 "metadata": {
  "name": "",
  "signature": "sha256:a2f73bd2a0bc6ba11b0609340016ccf043a21629ab415b093af409ef3ddeeac8"
 },
 "nbformat": 3,
 "nbformat_minor": 0,
 "worksheets": [
  {
   "cells": [
    {
     "cell_type": "markdown",
     "metadata": {},
     "source": [
      "-- <font color='gray'>**Adam Hughes**</font> \n",
      "\n",
      "-- <font color='gray'>**5/24/14**</font> \n",
      "\n",
      "-- <font color='gray'>**The George Washington University**</font> "
     ]
    },
    {
     "cell_type": "heading",
     "level": 1,
     "metadata": {},
     "source": [
      "Interactive Plotting with Plotly"
     ]
    },
    {
     "cell_type": "markdown",
     "metadata": {},
     "source": [
      "::**DESCRIPTION OF OBJECTIVE**::"
     ]
    },
    {
     "cell_type": "heading",
     "level": 3,
     "metadata": {},
     "source": [
      "Environment Setup"
     ]
    },
    {
     "cell_type": "markdown",
     "metadata": {},
     "source": [
      "Configure notebook style (see NBCONFIG.ipynb), add imports and paths.  The **%run** magic used below <font color='red'>**requires IPython 2.0 or higher.**</font>"
     ]
    },
    {
     "cell_type": "code",
     "collapsed": false,
     "input": [
      "import plotly\n",
      "import plotly.plotly as py # Must call this before NBCONFIG for some reason...\n",
      "\n",
      "%run NBCONFIG.ipynb"
     ],
     "language": "python",
     "metadata": {},
     "outputs": [
      {
       "output_type": "stream",
       "stream": "stdout",
       "text": [
        "Populating the interactive namespace from numpy and matplotlib\n"
       ]
      },
      {
       "html": [
        "<style>\n",
        "#notebook_panel { /* main background */\n",
        "    background: #333;\n",
        "    color: #f6f6f6;\n",
        "}\n",
        "\n",
        "\n",
        "div #notebook { /* centre the content */\n",
        "    background: #FFFFF0;  /* IVORY */\n",
        "    color: #333;\n",
        "    width: 115ex;\n",
        "    margin: auto;\n",
        "    padding-left: 1em;\n",
        "    padding-right: 1em;\n",
        "    padding-top: 2ex;\n",
        "}\n",
        "\n",
        "\n",
        "div.text_cell_render {  /*Markdown cells */\n",
        "    font-family: Computer Modern Roman;\n",
        "}\n",
        "\n",
        "/* remove big margins around title */\n",
        "div.text_cell_render.border-box-sizing.rendered_html {\n",
        "    margin: 0; /*What is this */\n",
        "    padding: 0.05; /*Spacing between cells*/ \n",
        "    margin-left: 1ex;\n",
        "}\n",
        "div.cell.text_cell.border-box-sizing {\n",
        "    margin: 0;\n",
        "    padding: 0.05; \n",
        "}\n",
        "\n",
        ".rendered_html h1 {\n",
        "    margin: 0;\n",
        "    padding: 0;\n",
        "}\n",
        ".rendered_html h2 {\n",
        "    margin: 0;\n",
        "    padding: 0;\n",
        "}\n",
        ".rendered_html h3 {\n",
        "    margin: 0;\n",
        "    padding: 0;\n",
        "}\n",
        "\n",
        "/* Width of all cells */\n",
        "div.cell { /* set cell width to about 80 chars */\n",
        "    width: 55em;\n",
        "\n",
        "}\n",
        "\n",
        "/* Set font of coding cells (DONT KNOW WHY BUT NEED THIS) */\n",
        ".CodeMirror {\n",
        "    /* Preferred font is bold sawasdee, but here are backups */\n",
        "    font-family: \"Sawasdee\", \"Lucida Sans Typewriter\",\"Lucida Typewriter\", \n",
        "         \"Lucida Typewriter\", \"Courier New\", Courier, monospace;;\n",
        "    font-size: normal;\n",
        "    font-weight: 700; \n",
        "}\n",
        "\n",
        "div.cell.code_cell { /* Total code cell, in and out */\n",
        "    background: #FFFFF0;\n",
        "    border: none;\n",
        "    padding-top: 1ex;\n",
        "}\n",
        "\n",
        "div.input_area { /* box around box with code ??? */\n",
        "    border: none;\n",
        "    background: #f5f5f5;\n",
        "    border: 1px solid #fff;\n",
        "    border-radius: 10px;\n",
        "    padding-top: 0.5ex;\n",
        "    padding-bottom: 0.5ex;\n",
        "    padding-left: 0.5em;\n",
        "}\n",
        "\n",
        "div.input { /* box with code */\n",
        "}\n",
        "\n",
        "\n",
        "div.prompt { /* remove In/Out prompt */\n",
        "    display: none;\n",
        "}\n",
        "\n",
        "div.output_subarea { /* remove margin in front of output */\n",
        "    border: none;\n",
        "}\n",
        "\n",
        "div.cell.border-box-sizing.code_cell.running { \n",
        "    /* draw red dotted border around running cells */\n",
        "    border: 3px dotted #f33;\n",
        "}\n",
        "\n",
        "/* header colours and fonts */\n",
        "h1 { color: #444; }\n",
        "h2 { color: #444; font-style: oblique}\n",
        "h3 { color: #0000A0; font-weight: normal}\n",
        "h4 { color: #444; font-weight: oblique; font-size: large}\n",
        "\n",
        "\n",
        "</style>"
       ],
       "metadata": {},
       "output_type": "display_data",
       "text": [
        "<IPython.core.display.HTML at 0x508e0d0>"
       ]
      }
     ],
     "prompt_number": 7
    },
    {
     "cell_type": "code",
     "collapsed": false,
     "input": [
      "plotly.__version__"
     ],
     "language": "python",
     "metadata": {},
     "outputs": [
      {
       "metadata": {},
       "output_type": "pyout",
       "prompt_number": 8,
       "text": [
        "'1.0.22'"
       ]
      }
     ],
     "prompt_number": 8
    },
    {
     "cell_type": "code",
     "collapsed": false,
     "input": [],
     "language": "python",
     "metadata": {},
     "outputs": [],
     "prompt_number": 8
    },
    {
     "cell_type": "heading",
     "level": 4,
     "metadata": {},
     "source": [
      "Importing plotly and setting up a connection"
     ]
    },
    {
     "cell_type": "markdown",
     "metadata": {},
     "source": [
      "Explanation"
     ]
    },
    {
     "cell_type": "code",
     "collapsed": false,
     "input": [
      "py.sign_in('reeveslab', 'hfpi35mejw')"
     ],
     "language": "python",
     "metadata": {},
     "outputs": [],
     "prompt_number": 9
    },
    {
     "cell_type": "heading",
     "level": 4,
     "metadata": {},
     "source": [
      "Import a test spectra"
     ]
    },
    {
     "cell_type": "code",
     "collapsed": false,
     "input": [
      "from pyuvvis.data import test_spectra\n",
      "\n",
      "ts = test_spectra()\n",
      "ts = ts[ts.columns[0:4]] # Take first 10 time curves\n",
      "ts = ts.ix[400.0:730.0]   # Slice wavelengths 400:730nm"
     ],
     "language": "python",
     "metadata": {},
     "outputs": [
      {
       "output_type": "stream",
       "stream": "stderr",
       "text": [
        "06-01 17:26:45 WARNING  pyuvvis.core.timespectra:  SpecIndex unit was changed internally from \"None\" to \"nm\"\n"
       ]
      }
     ],
     "prompt_number": 10
    },
    {
     "cell_type": "heading",
     "level": 4,
     "metadata": {},
     "source": [
      "Importing plotly and setting up a connection"
     ]
    },
    {
     "cell_type": "markdown",
     "metadata": {},
     "source": [
      "Explanation of step 1"
     ]
    },
    {
     "cell_type": "code",
     "collapsed": false,
     "input": [
      "from pyuvvis.plotting.plotlywrapper import ply_figure\n",
      "import json\n",
      "\n",
      "fig = ply_figure(ts, color='jet')\n",
      "json.dumps(fig)\n",
      "\n",
      "#py.iplot(fig)"
     ],
     "language": "python",
     "metadata": {},
     "outputs": [
      {
       "metadata": {},
       "output_type": "pyout",
       "prompt_number": 11,
       "text": [
        "'{\"layout\": {\"plot_bgcolor\": \"#EFECEA\", \"title\": \"TestSpectra_1\", \"showlegend\": false, \"xaxis\": {\"ticks\": \"outside\", \"tickwidth\": 1.5, \"title\": \"nm\", \"ticklen\": 8, \"gridcolor\": \"#FFFFFF\", \"zeroline\": false}, \"yaxis\": {\"ticks\": \"outside\", \"tickwidth\": 1.5, \"title\": null, \"ticklen\": 8, \"gridcolor\": \"#FFFFFF\", \"zeroline\": false}}, \"data\": [{\"marker\": {\"color\": \"rgb(255,0,0)\", \"opacity\": 1.0}, \"name\": \"\", \"y\": [0.0, 0.12781268884595731, 0.25352882130598475, 0.37508623154425408, 0.49049097070487901, 0.59785001435469565, 0.69540231442732126, 0.78154768631255711, 0.85487305724607088, 0.91417564543781216, 0.95848268972378214, 0.98706740610875987, 0.99946090945921096, 0.99545990479066981, 0.9751300219867084, 0.93880473924892538, 0.88707991293698474, 0.8208040035276557, 0.74106415801987946, 0.64916837708105291, 0.546624059453093, 0.43511327556190804, 0.31646517592594925, 0.19262598695838523, 0.06562708633229894, -0.062448318420116493, -0.18949936149172872, -0.3134419800395129, -0.43224309979868858, -0.54395398431330788, -0.64674220074417776, -0.73892167790773744, -0.81898036349334546, -0.88560502678792274, -0.93770280006016749, -0.97441910525344944, -0.99515167192955367, -0.99956041652202055, -0.98757302084622578, -0.95938611835994059, -0.91546206871572156, -0.8565213735132845, -0.78353085765893249, -0.69768781019734871, -0.60040034475925597, -0.49326430177940839, -0.37803707136594644, -0.25660876621376483, -0.13097121742271833, -0.0031853017931379904], \"x\": [0.0, 0.12816326530612246, 0.25632653061224492, 0.38448979591836741, 0.51265306122448984, 0.64081632653061227, 0.76897959183673481, 0.89714285714285724, 1.0253061224489797, 1.1534693877551021, 1.2816326530612245, 1.409795918367347, 1.5379591836734696, 1.6661224489795921, 1.7942857142857145, 1.9224489795918369, 2.0506122448979593, 2.178775510204082, 2.3069387755102042, 2.4351020408163269, 2.5632653061224491, 2.6914285714285717, 2.8195918367346939, 2.9477551020408166, 3.0759183673469392, 3.2040816326530615, 3.3322448979591841, 3.4604081632653063, 3.588571428571429, 3.7167346938775512, 3.8448979591836738, 3.973061224489796, 4.1012244897959187, 4.2293877551020413, 4.357551020408164, 4.4857142857142858, 4.6138775510204084, 4.7420408163265311, 4.8702040816326537, 4.9983673469387755, 5.1265306122448981, 5.2546938775510208, 5.3828571428571435, 5.5110204081632661, 5.6391836734693879, 5.7673469387755105, 5.8955102040816332, 6.0236734693877558, 6.1518367346938785, 6.2800000000000002], \"type\": \"scatter\", \"mode\": \"lines\"}, {\"marker\": {\"color\": \"rgb(255,0,0)\", \"opacity\": 1.0}, \"name\": \"\", \"y\": [0.0, 0.12781268884595731, 0.25352882130598475, 0.37508623154425408, 0.49049097070487901, 0.59785001435469565, 0.69540231442732126, 0.78154768631255711, 0.85487305724607088, 0.91417564543781216, 0.95848268972378214, 0.98706740610875987, 0.99946090945921096, 0.99545990479066981, 0.9751300219867084, 0.93880473924892538, 0.88707991293698474, 0.8208040035276557, 0.74106415801987946, 0.64916837708105291, 0.546624059453093, 0.43511327556190804, 0.31646517592594925, 0.19262598695838523, 0.06562708633229894, -0.062448318420116493, -0.18949936149172872, -0.3134419800395129, -0.43224309979868858, -0.54395398431330788, -0.64674220074417776, -0.73892167790773744, -0.81898036349334546, -0.88560502678792274, -0.93770280006016749, -0.97441910525344944, -0.99515167192955367, -0.99956041652202055, -0.98757302084622578, -0.95938611835994059, -0.91546206871572156, -0.8565213735132845, -0.78353085765893249, -0.69768781019734871, -0.60040034475925597, -0.49326430177940839, -0.37803707136594644, -0.25660876621376483, -0.13097121742271833, -0.0031853017931379904], \"x\": [0.0, 0.12816326530612246, 0.25632653061224492, 0.38448979591836741, 0.51265306122448984, 0.64081632653061227, 0.76897959183673481, 0.89714285714285724, 1.0253061224489797, 1.1534693877551021, 1.2816326530612245, 1.409795918367347, 1.5379591836734696, 1.6661224489795921, 1.7942857142857145, 1.9224489795918369, 2.0506122448979593, 2.178775510204082, 2.3069387755102042, 2.4351020408163269, 2.5632653061224491, 2.6914285714285717, 2.8195918367346939, 2.9477551020408166, 3.0759183673469392, 3.2040816326530615, 3.3322448979591841, 3.4604081632653063, 3.588571428571429, 3.7167346938775512, 3.8448979591836738, 3.973061224489796, 4.1012244897959187, 4.2293877551020413, 4.357551020408164, 4.4857142857142858, 4.6138775510204084, 4.7420408163265311, 4.8702040816326537, 4.9983673469387755, 5.1265306122448981, 5.2546938775510208, 5.3828571428571435, 5.5110204081632661, 5.6391836734693879, 5.7673469387755105, 5.8955102040816332, 6.0236734693877558, 6.1518367346938785, 6.2800000000000002], \"type\": \"scatter\", \"mode\": \"lines\"}, {\"marker\": {\"color\": \"rgb(255,0,0)\", \"opacity\": 1.0}, \"name\": \"\", \"y\": [0.0, 0.12781268884595731, 0.25352882130598475, 0.37508623154425408, 0.49049097070487901, 0.59785001435469565, 0.69540231442732126, 0.78154768631255711, 0.85487305724607088, 0.91417564543781216, 0.95848268972378214, 0.98706740610875987, 0.99946090945921096, 0.99545990479066981, 0.9751300219867084, 0.93880473924892538, 0.88707991293698474, 0.8208040035276557, 0.74106415801987946, 0.64916837708105291, 0.546624059453093, 0.43511327556190804, 0.31646517592594925, 0.19262598695838523, 0.06562708633229894, -0.062448318420116493, -0.18949936149172872, -0.3134419800395129, -0.43224309979868858, -0.54395398431330788, -0.64674220074417776, -0.73892167790773744, -0.81898036349334546, -0.88560502678792274, -0.93770280006016749, -0.97441910525344944, -0.99515167192955367, -0.99956041652202055, -0.98757302084622578, -0.95938611835994059, -0.91546206871572156, -0.8565213735132845, -0.78353085765893249, -0.69768781019734871, -0.60040034475925597, -0.49326430177940839, -0.37803707136594644, -0.25660876621376483, -0.13097121742271833, -0.0031853017931379904], \"x\": [0.0, 0.12816326530612246, 0.25632653061224492, 0.38448979591836741, 0.51265306122448984, 0.64081632653061227, 0.76897959183673481, 0.89714285714285724, 1.0253061224489797, 1.1534693877551021, 1.2816326530612245, 1.409795918367347, 1.5379591836734696, 1.6661224489795921, 1.7942857142857145, 1.9224489795918369, 2.0506122448979593, 2.178775510204082, 2.3069387755102042, 2.4351020408163269, 2.5632653061224491, 2.6914285714285717, 2.8195918367346939, 2.9477551020408166, 3.0759183673469392, 3.2040816326530615, 3.3322448979591841, 3.4604081632653063, 3.588571428571429, 3.7167346938775512, 3.8448979591836738, 3.973061224489796, 4.1012244897959187, 4.2293877551020413, 4.357551020408164, 4.4857142857142858, 4.6138775510204084, 4.7420408163265311, 4.8702040816326537, 4.9983673469387755, 5.1265306122448981, 5.2546938775510208, 5.3828571428571435, 5.5110204081632661, 5.6391836734693879, 5.7673469387755105, 5.8955102040816332, 6.0236734693877558, 6.1518367346938785, 6.2800000000000002], \"type\": \"scatter\", \"mode\": \"lines\"}, {\"marker\": {\"color\": \"rgb(255,0,0)\", \"opacity\": 1.0}, \"name\": \"\", \"y\": [0.0, 0.12781268884595731, 0.25352882130598475, 0.37508623154425408, 0.49049097070487901, 0.59785001435469565, 0.69540231442732126, 0.78154768631255711, 0.85487305724607088, 0.91417564543781216, 0.95848268972378214, 0.98706740610875987, 0.99946090945921096, 0.99545990479066981, 0.9751300219867084, 0.93880473924892538, 0.88707991293698474, 0.8208040035276557, 0.74106415801987946, 0.64916837708105291, 0.546624059453093, 0.43511327556190804, 0.31646517592594925, 0.19262598695838523, 0.06562708633229894, -0.062448318420116493, -0.18949936149172872, -0.3134419800395129, -0.43224309979868858, -0.54395398431330788, -0.64674220074417776, -0.73892167790773744, -0.81898036349334546, -0.88560502678792274, -0.93770280006016749, -0.97441910525344944, -0.99515167192955367, -0.99956041652202055, -0.98757302084622578, -0.95938611835994059, -0.91546206871572156, -0.8565213735132845, -0.78353085765893249, -0.69768781019734871, -0.60040034475925597, -0.49326430177940839, -0.37803707136594644, -0.25660876621376483, -0.13097121742271833, -0.0031853017931379904], \"x\": [0.0, 0.12816326530612246, 0.25632653061224492, 0.38448979591836741, 0.51265306122448984, 0.64081632653061227, 0.76897959183673481, 0.89714285714285724, 1.0253061224489797, 1.1534693877551021, 1.2816326530612245, 1.409795918367347, 1.5379591836734696, 1.6661224489795921, 1.7942857142857145, 1.9224489795918369, 2.0506122448979593, 2.178775510204082, 2.3069387755102042, 2.4351020408163269, 2.5632653061224491, 2.6914285714285717, 2.8195918367346939, 2.9477551020408166, 3.0759183673469392, 3.2040816326530615, 3.3322448979591841, 3.4604081632653063, 3.588571428571429, 3.7167346938775512, 3.8448979591836738, 3.973061224489796, 4.1012244897959187, 4.2293877551020413, 4.357551020408164, 4.4857142857142858, 4.6138775510204084, 4.7420408163265311, 4.8702040816326537, 4.9983673469387755, 5.1265306122448981, 5.2546938775510208, 5.3828571428571435, 5.5110204081632661, 5.6391836734693879, 5.7673469387755105, 5.8955102040816332, 6.0236734693877558, 6.1518367346938785, 6.2800000000000002], \"type\": \"scatter\", \"mode\": \"lines\"}]}'"
       ]
      }
     ],
     "prompt_number": 11
    },
    {
     "cell_type": "code",
     "collapsed": false,
     "input": [
      "fig = ply_figure(ts, color='bone')\n",
      "py.iplot(fig)\n"
     ],
     "language": "python",
     "metadata": {},
     "outputs": [
      {
       "output_type": "stream",
       "stream": "stdout",
       "text": [
        "Uh oh, an error occured on the server. \n"
       ]
      },
      {
       "ename": "PlotlyAccountError",
       "evalue": "Uh oh, an error occured on the server. ",
       "output_type": "pyerr",
       "traceback": [
        "\u001b[1;31m---------------------------------------------------------------------------\u001b[0m\n\u001b[1;31mPlotlyAccountError\u001b[0m                        Traceback (most recent call last)",
        "\u001b[1;32m<ipython-input-12-8768e1bcd9e8>\u001b[0m in \u001b[0;36m<module>\u001b[1;34m()\u001b[0m\n\u001b[0;32m      1\u001b[0m \u001b[0mfig\u001b[0m \u001b[1;33m=\u001b[0m \u001b[0mply_figure\u001b[0m\u001b[1;33m(\u001b[0m\u001b[0mts\u001b[0m\u001b[1;33m,\u001b[0m \u001b[0mcolor\u001b[0m\u001b[1;33m=\u001b[0m\u001b[1;34m'bone'\u001b[0m\u001b[1;33m)\u001b[0m\u001b[1;33m\u001b[0m\u001b[0m\n\u001b[1;32m----> 2\u001b[1;33m \u001b[0mpy\u001b[0m\u001b[1;33m.\u001b[0m\u001b[0miplot\u001b[0m\u001b[1;33m(\u001b[0m\u001b[0mfig\u001b[0m\u001b[1;33m)\u001b[0m\u001b[1;33m\u001b[0m\u001b[0m\n\u001b[0m",
        "\u001b[1;32m/home/glue/Enthought/Canopy_64bit/User/lib/python2.7/site-packages/plotly/plotly/plotly.pyc\u001b[0m in \u001b[0;36miplot\u001b[1;34m(figure_or_data, **plot_options)\u001b[0m\n\u001b[0;32m    113\u001b[0m     \u001b[1;32mif\u001b[0m \u001b[1;34m'auto_open'\u001b[0m \u001b[1;32mnot\u001b[0m \u001b[1;32min\u001b[0m \u001b[0mplot_options\u001b[0m\u001b[1;33m:\u001b[0m\u001b[1;33m\u001b[0m\u001b[0m\n\u001b[0;32m    114\u001b[0m         \u001b[0mplot_options\u001b[0m\u001b[1;33m[\u001b[0m\u001b[1;34m'auto_open'\u001b[0m\u001b[1;33m]\u001b[0m \u001b[1;33m=\u001b[0m \u001b[0mFalse\u001b[0m\u001b[1;33m\u001b[0m\u001b[0m\n\u001b[1;32m--> 115\u001b[1;33m     \u001b[0mres\u001b[0m \u001b[1;33m=\u001b[0m \u001b[0mplot\u001b[0m\u001b[1;33m(\u001b[0m\u001b[0mfigure_or_data\u001b[0m\u001b[1;33m,\u001b[0m \u001b[1;33m**\u001b[0m\u001b[0mplot_options\u001b[0m\u001b[1;33m)\u001b[0m\u001b[1;33m\u001b[0m\u001b[0m\n\u001b[0m\u001b[0;32m    116\u001b[0m     \u001b[0murlsplit\u001b[0m \u001b[1;33m=\u001b[0m \u001b[0mres\u001b[0m\u001b[1;33m.\u001b[0m\u001b[0msplit\u001b[0m\u001b[1;33m(\u001b[0m\u001b[1;34m'/'\u001b[0m\u001b[1;33m)\u001b[0m\u001b[1;33m\u001b[0m\u001b[0m\n\u001b[0;32m    117\u001b[0m     \u001b[0musername\u001b[0m\u001b[1;33m,\u001b[0m \u001b[0mplot_id\u001b[0m \u001b[1;33m=\u001b[0m \u001b[0murlsplit\u001b[0m\u001b[1;33m[\u001b[0m\u001b[1;33m-\u001b[0m\u001b[1;36m2\u001b[0m\u001b[1;33m]\u001b[0m\u001b[1;33m[\u001b[0m\u001b[1;36m1\u001b[0m\u001b[1;33m:\u001b[0m\u001b[1;33m]\u001b[0m\u001b[1;33m,\u001b[0m \u001b[0murlsplit\u001b[0m\u001b[1;33m[\u001b[0m\u001b[1;33m-\u001b[0m\u001b[1;36m1\u001b[0m\u001b[1;33m]\u001b[0m  \u001b[1;31m# TODO: HACKY!\u001b[0m\u001b[1;33m\u001b[0m\u001b[0m\n",
        "\u001b[1;32m/home/glue/Enthought/Canopy_64bit/User/lib/python2.7/site-packages/plotly/plotly/plotly.pyc\u001b[0m in \u001b[0;36mplot\u001b[1;34m(figure_or_data, validate, **plot_options)\u001b[0m\n\u001b[0;32m    206\u001b[0m         \u001b[1;32mreturn\u001b[0m \u001b[0mres\u001b[0m\u001b[1;33m[\u001b[0m\u001b[1;34m'url'\u001b[0m\u001b[1;33m]\u001b[0m\u001b[1;33m\u001b[0m\u001b[0m\n\u001b[0;32m    207\u001b[0m     \u001b[1;32melse\u001b[0m\u001b[1;33m:\u001b[0m\u001b[1;33m\u001b[0m\u001b[0m\n\u001b[1;32m--> 208\u001b[1;33m         \u001b[1;32mraise\u001b[0m \u001b[0mexceptions\u001b[0m\u001b[1;33m.\u001b[0m\u001b[0mPlotlyAccountError\u001b[0m\u001b[1;33m(\u001b[0m\u001b[0mres\u001b[0m\u001b[1;33m[\u001b[0m\u001b[1;34m'error'\u001b[0m\u001b[1;33m]\u001b[0m\u001b[1;33m)\u001b[0m\u001b[1;33m\u001b[0m\u001b[0m\n\u001b[0m\u001b[0;32m    209\u001b[0m \u001b[1;33m\u001b[0m\u001b[0m\n\u001b[0;32m    210\u001b[0m \u001b[1;33m\u001b[0m\u001b[0m\n",
        "\u001b[1;31mPlotlyAccountError\u001b[0m: Uh oh, an error occured on the server. "
       ]
      }
     ],
     "prompt_number": 12
    },
    {
     "cell_type": "heading",
     "level": 3,
     "metadata": {},
     "source": [
      "References"
     ]
    },
    {
     "cell_type": "markdown",
     "metadata": {},
     "source": [
      "- [1] : REF 1"
     ]
    },
    {
     "cell_type": "heading",
     "level": 3,
     "metadata": {},
     "source": [
      "Related"
     ]
    },
    {
     "cell_type": "markdown",
     "metadata": {},
     "source": [
      "- [pyparty](https://github.com/hugadams/pyparty)"
     ]
    },
    {
     "cell_type": "heading",
     "level": 3,
     "metadata": {},
     "source": [
      "Redistribution"
     ]
    },
    {
     "cell_type": "markdown",
     "metadata": {},
     "source": [
      "This notebook is free for redistribution.  If referencing, please cite as:\n",
      "\n",
      "- Hughes, A. (2012). [A Computational Framework for Plasmonic Nanobiosensing](https://www.researchgate.net/publication/236672995_A_Computational_Framework_for_Plasmonic_Nanobiosensing).  Python in Science Conference [SCIPY]. "
     ]
    }
   ],
   "metadata": {}
  }
 ]
}