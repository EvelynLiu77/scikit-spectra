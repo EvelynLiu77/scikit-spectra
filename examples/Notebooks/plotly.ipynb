{
 "metadata": {
  "name": "",
  "signature": "sha256:90212baa8f5ec8435450ac9a120a73c9128ffa89aa43c94cdc027b0ca5743b3b"
 },
 "nbformat": 3,
 "nbformat_minor": 0,
 "worksheets": [
  {
   "cells": [
    {
     "cell_type": "heading",
     "level": 1,
     "metadata": {},
     "source": [
      "<h1> Interactive Plotting with Plotly: </h1>"
     ]
    },
    {
     "cell_type": "markdown",
     "metadata": {},
     "source": [
      "[plotly](https://plot.ly/feed) is a great resource for making interactive plots in the notebook, which are then backed up to a cloud and easily shared and collaborated upon through their web app.  We use plotly to back up our experimental data into interactive notebooks, which other students in our lab can then access through the web app, add annotation and explore the data.\n",
      "\n",
      "`pyparty` supports plotly through the both the excellent matplotlib wrapper (pass in a matplotlib plot, get out a plotly plot) and to a limited extent, through it's own API."
     ]
    },
    {
     "cell_type": "heading",
     "level": 3,
     "metadata": {},
     "source": [
      "Environment Setup"
     ]
    },
    {
     "cell_type": "markdown",
     "metadata": {},
     "source": [
      "Configure notebook style (see NBCONFIG.ipynb), add imports and paths.  The **%run** magic used below <font color='red'>**requires IPython 2.0 or higher.**</font>"
     ]
    },
    {
     "cell_type": "code",
     "collapsed": false,
     "input": [
      "%run NBCONFIG.ipynb"
     ],
     "language": "python",
     "metadata": {},
     "outputs": [
      {
       "output_type": "stream",
       "stream": "stdout",
       "text": [
        "Populating the interactive namespace from numpy and matplotlib\n"
       ]
      },
      {
       "html": [
        "<style>\n",
        "#notebook_panel { /* main background */\n",
        "    background: #333;\n",
        "    color: #f6f6f6;\n",
        "}\n",
        "\n",
        "\n",
        "div #notebook { /* centre the content */\n",
        "    background: #FFFFF0;  /* IVORY */\n",
        "    color: #333;\n",
        "    width: 115ex;\n",
        "    margin: auto;\n",
        "    padding-left: 1em;\n",
        "    padding-right: 1em;\n",
        "    padding-top: 2ex;\n",
        "}\n",
        "\n",
        "\n",
        "div.text_cell_render {  /*Markdown cells */\n",
        "    font-family: Computer Modern Roman;\n",
        "}\n",
        "\n",
        "/* remove big margins around title */\n",
        "div.text_cell_render.border-box-sizing.rendered_html {\n",
        "    margin: 0; /*What is this */\n",
        "    padding: 0.05; /*Spacing between cells*/ \n",
        "    margin-left: 1ex;\n",
        "}\n",
        "div.cell.text_cell.border-box-sizing {\n",
        "    margin: 0;\n",
        "    padding: 0.05; \n",
        "}\n",
        "\n",
        ".rendered_html h1 {\n",
        "    margin: 0;\n",
        "    padding: 0;\n",
        "}\n",
        ".rendered_html h2 {\n",
        "    margin: 0;\n",
        "    padding: 0;\n",
        "}\n",
        ".rendered_html h3 {\n",
        "    margin: 0;\n",
        "    padding: 0;\n",
        "}\n",
        "\n",
        "/* Width of all cells */\n",
        "div.cell { /* set cell width to about 80 chars */\n",
        "    width: 55em;\n",
        "\n",
        "}\n",
        "\n",
        "/* Set font of coding cells (DONT KNOW WHY BUT NEED THIS) */\n",
        ".CodeMirror {\n",
        "    /* Preferred font is bold sawasdee, but here are backups */\n",
        "    font-family: \"Sawasdee\", \"Lucida Sans Typewriter\",\"Lucida Typewriter\", \n",
        "         \"Lucida Typewriter\", \"Courier New\", Courier, monospace;;\n",
        "    font-size: normal;\n",
        "    font-weight: 700; \n",
        "}\n",
        "\n",
        "div.cell.code_cell { /* Total code cell, in and out */\n",
        "    background: #FFFFF0;\n",
        "    border: none;\n",
        "    padding-top: 1ex;\n",
        "}\n",
        "\n",
        "div.input_area { /* box around box with code ??? */\n",
        "    border: none;\n",
        "    background: #f5f5f5;\n",
        "    border: 1px solid #fff;\n",
        "    border-radius: 10px;\n",
        "    padding-top: 0.5ex;\n",
        "    padding-bottom: 0.5ex;\n",
        "    padding-left: 0.5em;\n",
        "}\n",
        "\n",
        "div.input { /* box with code */\n",
        "}\n",
        "\n",
        "\n",
        "div.prompt { /* remove In/Out prompt */\n",
        "    display: none;\n",
        "}\n",
        "\n",
        "div.output_subarea { /* remove margin in front of output */\n",
        "    border: none;\n",
        "}\n",
        "\n",
        "div.cell.border-box-sizing.code_cell.running { \n",
        "    /* draw red dotted border around running cells */\n",
        "    border: 3px dotted #f33;\n",
        "}\n",
        "\n",
        "/* header colours and fonts */\n",
        "h1 { color: #444; }\n",
        "h2 { color: #444; font-style: oblique}\n",
        "h3 { color: #0000A0; font-weight: normal}\n",
        "h4 { color: #444; font-weight: oblique; font-size: large}\n",
        "\n",
        "\n",
        "</style>"
       ],
       "metadata": {},
       "output_type": "display_data",
       "text": [
        "<IPython.core.display.HTML at 0x3f78a90>"
       ]
      }
     ],
     "prompt_number": 1
    },
    {
     "cell_type": "heading",
     "level": 4,
     "metadata": {},
     "source": [
      "Importing plotly and setting up a connection"
     ]
    },
    {
     "cell_type": "markdown",
     "metadata": {},
     "source": [
      "To use plotly, you need an account (this will automatically sync your generated plots to the web). <font color='red'>**For privacy, we are leaving our username/pw out of this tutorial.**</font>"
     ]
    },
    {
     "cell_type": "code",
     "collapsed": false,
     "input": [
      "import plotly.plotly as py\n",
      "#import plotly.tools as tls\n",
      "\n",
      "#tls.get_credentials()\n",
      "#py.sign_in('user', 'pw')"
     ],
     "language": "python",
     "metadata": {},
     "outputs": [
      {
       "ename": "ImportError",
       "evalue": "cannot import name exceptions",
       "output_type": "pyerr",
       "traceback": [
        "\u001b[1;31m---------------------------------------------------------------------------\u001b[0m\n\u001b[1;31mImportError\u001b[0m                               Traceback (most recent call last)",
        "\u001b[1;32m<ipython-input-3-bd46b6da962d>\u001b[0m in \u001b[0;36m<module>\u001b[1;34m()\u001b[0m\n\u001b[1;32m----> 1\u001b[1;33m \u001b[1;32mimport\u001b[0m \u001b[0mplotly\u001b[0m\u001b[1;33m.\u001b[0m\u001b[0mplotly\u001b[0m \u001b[1;32mas\u001b[0m \u001b[0mpy\u001b[0m\u001b[1;33m\u001b[0m\u001b[0m\n\u001b[0m\u001b[0;32m      2\u001b[0m \u001b[1;31m#import plotly.tools as tls\u001b[0m\u001b[1;33m\u001b[0m\u001b[1;33m\u001b[0m\u001b[0m\n\u001b[0;32m      3\u001b[0m \u001b[1;33m\u001b[0m\u001b[0m\n\u001b[0;32m      4\u001b[0m \u001b[1;31m#tls.get_credentials()\u001b[0m\u001b[1;33m\u001b[0m\u001b[1;33m\u001b[0m\u001b[0m\n\u001b[0;32m      5\u001b[0m \u001b[1;31m#py.sign_in('user', 'pw')\u001b[0m\u001b[1;33m\u001b[0m\u001b[1;33m\u001b[0m\u001b[0m\n",
        "\u001b[1;32m/home/glue/Enthought/Canopy_64bit/User/lib/python2.7/site-packages/plotly-1.0.26-py2.7.egg/plotly/__init__.py\u001b[0m in \u001b[0;36m<module>\u001b[1;34m()\u001b[0m\n\u001b[0;32m      1\u001b[0m \u001b[1;32mfrom\u001b[0m \u001b[1;33m.\u001b[0m \u001b[0mversion\u001b[0m \u001b[1;32mimport\u001b[0m \u001b[0m__version__\u001b[0m\u001b[1;33m\u001b[0m\u001b[0m\n\u001b[1;32m----> 2\u001b[1;33m \u001b[1;32mimport\u001b[0m \u001b[0mgraph_objs\u001b[0m\u001b[1;33m\u001b[0m\u001b[0m\n\u001b[0m\u001b[0;32m      3\u001b[0m \u001b[1;32mimport\u001b[0m \u001b[0mplotly\u001b[0m\u001b[1;33m\u001b[0m\u001b[0m\n\u001b[0;32m      4\u001b[0m \u001b[1;32mimport\u001b[0m \u001b[0mtools\u001b[0m\u001b[1;33m\u001b[0m\u001b[0m\n\u001b[0;32m      5\u001b[0m \u001b[1;32mimport\u001b[0m \u001b[0mutils\u001b[0m\u001b[1;33m\u001b[0m\u001b[0m\n",
        "\u001b[1;32m/home/glue/Enthought/Canopy_64bit/User/lib/python2.7/site-packages/plotly-1.0.26-py2.7.egg/plotly/graph_objs/__init__.py\u001b[0m in \u001b[0;36m<module>\u001b[1;34m()\u001b[0m\n\u001b[0;32m     44\u001b[0m \u001b[1;33m\u001b[0m\u001b[0m\n\u001b[0;32m     45\u001b[0m \"\"\"\n\u001b[1;32m---> 46\u001b[1;33m \u001b[1;32mfrom\u001b[0m \u001b[0mgraph_objs\u001b[0m \u001b[1;32mimport\u001b[0m \u001b[1;33m*\u001b[0m\u001b[1;33m\u001b[0m\u001b[0m\n\u001b[0m\u001b[0;32m     47\u001b[0m \u001b[1;33m\u001b[0m\u001b[0m\n\u001b[0;32m     48\u001b[0m __all__ = [\"Data\",\n",
        "\u001b[1;32m/home/glue/Enthought/Canopy_64bit/User/lib/python2.7/site-packages/plotly-1.0.26-py2.7.egg/plotly/graph_objs/graph_objs.py\u001b[0m in \u001b[0;36m<module>\u001b[1;34m()\u001b[0m\n\u001b[0;32m     27\u001b[0m \u001b[1;32mimport\u001b[0m \u001b[0mjson\u001b[0m\u001b[1;33m\u001b[0m\u001b[0m\n\u001b[0;32m     28\u001b[0m \u001b[1;32mimport\u001b[0m \u001b[0mtextwrap\u001b[0m\u001b[1;33m\u001b[0m\u001b[0m\n\u001b[1;32m---> 29\u001b[1;33m \u001b[1;32mfrom\u001b[0m \u001b[1;33m.\u001b[0m\u001b[1;33m.\u001b[0m \u001b[1;32mimport\u001b[0m \u001b[0mexceptions\u001b[0m\u001b[1;33m\u001b[0m\u001b[0m\n\u001b[0m\u001b[0;32m     30\u001b[0m \u001b[1;32mfrom\u001b[0m \u001b[1;33m.\u001b[0m\u001b[1;33m.\u001b[0m \u001b[1;32mimport\u001b[0m \u001b[0mutils\u001b[0m\u001b[1;33m\u001b[0m\u001b[0m\n\u001b[0;32m     31\u001b[0m \u001b[1;33m\u001b[0m\u001b[0m\n",
        "\u001b[1;31mImportError\u001b[0m: cannot import name exceptions"
       ]
      }
     ],
     "prompt_number": 3
    },
    {
     "cell_type": "heading",
     "level": 4,
     "metadata": {},
     "source": [
      "Import a test spectra"
     ]
    },
    {
     "cell_type": "markdown",
     "metadata": {},
     "source": [
      "Let's import a test spectral and plot it in matplotlib."
     ]
    },
    {
     "cell_type": "code",
     "collapsed": false,
     "input": [
      "from pyuvvis.data import test_spectra\n",
      "from pyuvvis.plotting import specplot\n",
      "\n",
      "ts = test_spectra(name='FOO SPECTRA')\n",
      "ts = ts[ts.columns[0:25]] # Take first 10 time curves\n",
      "ts = ts.ix[400.0:730.0]   # Slice wavelengths 400:730nm\n",
      "\n",
      "fig = specplot(ts)"
     ],
     "language": "python",
     "metadata": {},
     "outputs": []
    },
    {
     "cell_type": "markdown",
     "metadata": {},
     "source": [
      "If we want to make the equivalent plotly plot, then we need to use *mpl.subplots*  to generate a figure.  This figure is then passed to plotly!  Just past that axes instance right into any pyuvvis plotting call."
     ]
    },
    {
     "cell_type": "code",
     "collapsed": false,
     "input": [
      "fig, ax = plt.subplots(1,1)\n",
      "specplot(ts, ax=ax)\n",
      "\n",
      "py.iplot_mpl(fig, resize=False)"
     ],
     "language": "python",
     "metadata": {},
     "outputs": []
    },
    {
     "cell_type": "markdown",
     "metadata": {},
     "source": [
      "Notice we made use of plotly's `iplot_mpl()` wrapper.  This does a good job of converting matplotlib figures to plotly while preserving most plot features.  **The mapping is [not always perfect](https://github.com/plotly/python-api/issues/28), so we can update plot features as follows:** "
     ]
    },
    {
     "cell_type": "code",
     "collapsed": false,
     "input": [
      "#Update the plot background color in plotly, as this was not transferred properly.\n",
      "\n",
      "import plotly.tools as tls\n",
      "\n",
      "# Convert matplotlib figure to plotly figure object\n",
      "fig_plotly = tls.mpl_to_plotly(fig)\n",
      "\n",
      "# Add 'plot_bgcolor' to layout\n",
      "fig_plotly['layout'].update(plot_bgcolor='rgb(128,128,128)')\n",
      "\n",
      "# Send updated figure object to plotly\n",
      "py.iplot(fig_plotly,filename='matplotlylib-bgcolor-test1')"
     ],
     "language": "python",
     "metadata": {},
     "outputs": []
    },
    {
     "cell_type": "heading",
     "level": 3,
     "metadata": {},
     "source": [
      "Using the pyuvvis plotly API directly"
     ]
    },
    {
     "cell_type": "markdown",
     "metadata": {},
     "source": [
      "`pyparty 0.2` comes with a limited direct plotly API.  For now, most of the behavior available can be gotten through the `iplot_mpl` wrapper as shown above, but soon we hope to provide better support for [plotly streaming](https://github.com/plotly/Streaming-Demos), among other featuers."
     ]
    },
    {
     "cell_type": "heading",
     "level": 4,
     "metadata": {},
     "source": [
      "Direct acces to pyuvvis plotly wrapper"
     ]
    },
    {
     "cell_type": "code",
     "collapsed": false,
     "input": [
      "from pyuvvis.plotting.plotlywrapper import ply_fig\n",
      "\n",
      "fig = ply_fig(ts, color='jet', width=5, opacity=0.2)\n",
      "py.iplot(fig)"
     ],
     "language": "python",
     "metadata": {},
     "outputs": []
    },
    {
     "cell_type": "markdown",
     "metadata": {},
     "source": [
      "Notice that `ply_figure` accepts plotly keywords and not matplotlib keywords (ie *opacity* instead of *alpha*).\n",
      "\n",
      "<font color='red'>**`ply_fig` interprets all keywords as line options (eg width, opacity); however, layout keywords can be passed as well**</font>"
     ]
    },
    {
     "cell_type": "code",
     "collapsed": false,
     "input": [
      "fig = ply_fig(ts, \n",
      "                 color='RdBu', \n",
      "                 opacity=0.1,\n",
      "                 width=0.0001,\n",
      "                 layout=dict(title='Recolored', \n",
      "                               showlegend=True,\n",
      "                               plot_bgcolor='rgb(128,128,128)')\n",
      "                 )\n",
      "py.iplot(fig)"
     ],
     "language": "python",
     "metadata": {},
     "outputs": []
    },
    {
     "cell_type": "heading",
     "level": 4,
     "metadata": {},
     "source": [
      "For convenience, any matplotlib colormap or solid color (eg 'red') can be passed into the ply_fig, and it should just work."
     ]
    },
    {
     "cell_type": "heading",
     "level": 3,
     "metadata": {},
     "source": [
      "Just a few more examples"
     ]
    },
    {
     "cell_type": "markdown",
     "metadata": {},
     "source": [
      "Area plot directly from ts and ply_fig"
     ]
    },
    {
     "cell_type": "code",
     "collapsed": false,
     "input": [
      "area = ts.area().transpose()\n",
      "\n",
      "fig = ply_fig(area, color='purple', points=True, layout={'title':'Area vs. Time'})\n",
      "py.iplot(fig, resize=False)"
     ],
     "language": "python",
     "metadata": {},
     "outputs": []
    },
    {
     "cell_type": "code",
     "collapsed": false,
     "input": [
      "from pyuvvis.plotting import range_timeplot\n",
      "\n",
      "range_timeplot(ts.wavelength_slices(5));"
     ],
     "language": "python",
     "metadata": {},
     "outputs": []
    },
    {
     "cell_type": "code",
     "collapsed": false,
     "input": [
      "fig, ax = plt.subplots(1,1)\n",
      "\n",
      "range_timeplot(ts.wavelength_slices(5), ax=ax)\n",
      "py.iplot_mpl(fig, resize=False)"
     ],
     "language": "python",
     "metadata": {},
     "outputs": []
    },
    {
     "cell_type": "code",
     "collapsed": false,
     "input": [
      "f, axes = plt.subplots(1,3, figsize=(10,6))\n",
      "\n",
      "specplot(ts, ax=axes[0])\n",
      "specplot(ts, ax=axes[1], color='gray', sharey=axes[0])\n",
      "specplot(ts, ax=axes[2], color='autumn', sharey=axes[0]);"
     ],
     "language": "python",
     "metadata": {},
     "outputs": []
    },
    {
     "cell_type": "code",
     "collapsed": false,
     "input": [
      "py.iplot_mpl(f, resize=False)"
     ],
     "language": "python",
     "metadata": {},
     "outputs": []
    },
    {
     "cell_type": "markdown",
     "metadata": {},
     "source": [
      "<hr>\n",
      "<br>\n",
      "\n",
      "\n",
      "<div style=\"float:left; \\\">\n",
      "    <img src=\"https://avatars0.githubusercontent.com/u/1972276?s=460\" \n",
      " align=left; text-align:center; style=\"float:left; margin-left: 5px; margin-top: -25px; width:150px; height:150px\" /> \n",
      "</div>\n",
      "\n",
      "<div style=\"float:left; \\\"><a href=\"https://github.com/hugadams\">\n",
      "    <img src=\"https://assets-cdn.github.com/images/modules/logos_page/GitHub-Mark.png\" \n",
      " align=left; text-align:center; style=\"float:left; margin-left: 25px; margin-top: -25px; width:75px; height:75px\" /> \n",
      "</div>\n",
      "\n",
      "\n",
      "<div style=\"float:left; \\\"><a href=\"https://twitter.com/hughesadam87\">\n",
      "    <img src=\"http://paymentmagnates.com/wp-content/uploads/2014/04/twitter-icon.png\" \n",
      " align=left; text-align:center; style=\"float:left; margin-left: 25px; margin-top: -25px; width:75px; height:75px\" /> \n",
      "</div>\n",
      "\n",
      "<div style=\"float:left; \\\"><a href=\"https://www.researchgate.net/profile/Adam_Hughes2?ev=hdr_xprf\">\n",
      "    <img src=\"http://www.txhughes.com/images/button-researchgate.png\" \n",
      " align=left; text-align:center; style=\"float:left; margin-left: -175px; margin-top: 55px; width:75px; height:75px\" /> \n",
      "</div>\n",
      "\n",
      "<div style=\"float:left; \\\"><a href=\"https://www.linkedin.com/profile/view?id=121484744&trk=nav_responsive_tab_profile_picg\">\n",
      "    <img src=\"http://smallbusinessesdoitbetter.com/wordpress/wp-content/uploads/li.png\" \n",
      " align=left; text-align:center; style=\"float:left; margin-left: -75px; margin-top: 55px; width:75px; height:75px\" /> \n",
      "</div>\n",
      "\n",
      "<div style=\"float:center; \\\"><a href=\"http://www.gwu.edu/\">\n",
      "    <img src=\"https://raw.githubusercontent.com/hugadams/pyparty/master/pyparty/data/gwu.png\" \n",
      " align=center style=\"float:center; margin-right: 30px; margin-top: -35px; width:335px; height:180px\" />\n",
      "</div>\n",
      "\n",
      "\n",
      "<h4 style=\"margin-top:0px;\"> This notebook is free for redistribution. If citing, please reference as: </h4>\n",
      "- *Hughes, A. (2012). [A Computational Framework for Plasmonic Nanobiosensing](https://www.researchgate.net/publication/236672995_A_Computational_Framework_for_Plasmonic_Nanobiosensing).  Python in Science Conference [SCIPY].* \n",
      "\n",
      "\n",
      "<h3 style=\"margin-top:30px;\"> Questions or Feedback? </h3>\n",
      "\n",
      "* hugadams@gwmail.gwu.edu \n",
      "* twitter:  <a href=\"https://twitter.com/hughesadam87\" target=\"_blank\">@hughesadam87</a>\n",
      "* <a href=\"http://www.gwu.edu/~condmat/CME/reeves.html\" target=\"_blank\">Mark Reeves Biophysics Group</a>\n",
      "\n",
      "\n",
      "\n",
      "\n",
      "<h3 style=\"margin-top:30px;\"> References: </h3>\n",
      "\n",
      "* [1] : **REF 1**\n",
      "* [2] : **REF 2**\n",
      "\n",
      "\n",
      "\n",
      "\n",
      "\n",
      "<h3 style=\"margin-top:30px;\"> Related: </h3>\n",
      "\n",
      "   * <a href=\"https://github.com/hugadams/pyparty\" target=\"_blank\">pyuvvis: Exploratory Spectral Data Analysis</a>\n",
      "   * <a href=\"https://github.com/hugadams/pyparty\" target=\"_blank\">pyparty: Image Analysis of Particles</a>\n",
      "   * <a href=\"http://lorenabarba.com/\" target=\"_blank\">Lorena A. Barba (GWU Engineering)</a>\n",
      "\n",
      "\n",
      "\n",
      "\n",
      "\n",
      "<h3 style=\"margin-top:30px;\">Notebook styling ideas:</h3>\n",
      "\n",
      "* <a href=\"http://blog.louic.nl/?p=683\" target=\"_blank\">Louic's web blog</a>\n",
      "* <a href=\"https://plot.ly/feed\" target=\"_blank\">Plotly</a>\n",
      "* <a href=\"http://damon-is-a-geek.com/publication-ready-the-first-time-beautiful-reproducible-plots-with-matplotlib.html\" target=\"_blank\">Publication-ready the first time: Beautiful, reproducible plots with Matplotlib</a>\n",
      "\n",
      "<br>\n",
      "<hr>"
     ]
    }
   ],
   "metadata": {}
  }
 ]
}