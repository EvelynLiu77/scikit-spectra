{
 "metadata": {
  "name": "",
  "signature": "sha256:96e3b9b9801ebed564849c36714e344113c3c669c594aebaca7c95f9e15be1b4"
 },
 "nbformat": 3,
 "nbformat_minor": 0,
 "worksheets": [
  {
   "cells": [
    {
     "cell_type": "heading",
     "level": 1,
     "metadata": {},
     "source": [
      "Units Systems and Custom Index Objects"
     ]
    },
    {
     "cell_type": "heading",
     "level": 3,
     "metadata": {},
     "source": [
      "Objective"
     ]
    },
    {
     "cell_type": "markdown",
     "metadata": {},
     "source": [
      "This guide gets into the nuts and bolts of pyuvvis units and Indexing objects.  This will explain how pyuvvis converts between various units (e.g. nm $\\rightarrow$ hz) and how you can implement your own Index objects with their own conversions.  We demonstrate this by building a `PressureIndex` to represent pressure as the perturbation in a spectroscopy experiment."
     ]
    },
    {
     "cell_type": "heading",
     "level": 3,
     "metadata": {},
     "source": [
      "Environment Setup"
     ]
    },
    {
     "cell_type": "markdown",
     "metadata": {},
     "source": [
      "Configure notebook style (see NBCONFIG.ipynb), add imports and paths.  The **%run** magic used below <font color='red'>**requires IPython 2.0 or higher.**</font>"
     ]
    },
    {
     "cell_type": "code",
     "collapsed": false,
     "input": [
      "%run NBCONFIG.ipynb"
     ],
     "language": "python",
     "metadata": {},
     "outputs": [
      {
       "output_type": "stream",
       "stream": "stdout",
       "text": [
        "Populating the interactive namespace from numpy and matplotlib\n",
        "['dti', 'd', 'h', 'm', 'us', 's', 'ms', 'intvl', 'ns']"
       ]
      },
      {
       "output_type": "stream",
       "stream": "stdout",
       "text": [
        "\n"
       ]
      },
      {
       "html": [
        "<style>\n",
        "#notebook_panel { /* main background */\n",
        "    background: #333;\n",
        "    color: #f6f6f6;\n",
        "}\n",
        "\n",
        "\n",
        "div #notebook { /* centre the content */\n",
        "    background: #FFFFF0;  /* IVORY */\n",
        "    color: #333;\n",
        "    width: 115ex;\n",
        "    margin: auto;\n",
        "    padding-left: 1em;\n",
        "    padding-right: 1em;\n",
        "    padding-top: 2ex;\n",
        "}\n",
        "\n",
        "\n",
        "div.text_cell_render {  /*Markdown cells */\n",
        "    font-family: Computer Modern Roman;\n",
        "}\n",
        "\n",
        "/* remove big margins around title */\n",
        "div.text_cell_render.border-box-sizing.rendered_html {\n",
        "    margin: 0; /*What is this */\n",
        "    padding: 0.05; /*Spacing between cells*/ \n",
        "    margin-left: 1ex;\n",
        "}\n",
        "div.cell.text_cell.border-box-sizing {\n",
        "    margin: 0;\n",
        "    padding: 0.05; \n",
        "}\n",
        "\n",
        ".rendered_html h1 {\n",
        "    margin: 0;\n",
        "    padding: 0;\n",
        "}\n",
        ".rendered_html h2 {\n",
        "    margin: 0;\n",
        "    padding: 0;\n",
        "}\n",
        ".rendered_html h3 {\n",
        "    margin: 0;\n",
        "    padding: 0;\n",
        "}\n",
        "\n",
        "/* Width of all cells */\n",
        "div.cell { /* set cell width to about 80 chars */\n",
        "    width: 55em;\n",
        "\n",
        "}\n",
        "\n",
        "/* Set font of coding cells (DONT KNOW WHY BUT NEED THIS) */\n",
        ".CodeMirror {\n",
        "    /* Preferred font is bold sawasdee, but here are backups */\n",
        "    font-family: \"Sawasdee\", \"Lucida Sans Typewriter\",\"Lucida Typewriter\", \n",
        "         \"Lucida Typewriter\", \"Courier New\", Courier, monospace;;\n",
        "    font-size: normal;\n",
        "    font-weight: 700; \n",
        "}\n",
        "\n",
        "div.cell.code_cell { /* Total code cell, in and out */\n",
        "    background: #FFFFF0;\n",
        "    border: none;\n",
        "    padding-top: 1ex;\n",
        "}\n",
        "\n",
        "div.input_area { /* box around box with code ??? */\n",
        "    border: none;\n",
        "    background: #f5f5f5;\n",
        "    border: 1px solid #fff;\n",
        "    border-radius: 10px;\n",
        "    padding-top: 0.5ex;\n",
        "    padding-bottom: 0.5ex;\n",
        "    padding-left: 0.5em;\n",
        "}\n",
        "\n",
        "div.input { /* box with code */\n",
        "}\n",
        "\n",
        "\n",
        "div.prompt { /* remove In/Out prompt */\n",
        "    display: none;\n",
        "}\n",
        "\n",
        "div.output_subarea { /* remove margin in front of output */\n",
        "    border: none;\n",
        "}\n",
        "\n",
        "div.cell.border-box-sizing.code_cell.running { \n",
        "    /* draw red dotted border around running cells */\n",
        "    border: 3px dotted #f33;\n",
        "}\n",
        "\n",
        "/* header colours and fonts */\n",
        "h1 { color: #444; }\n",
        "h2 { color: #444; font-style: oblique}\n",
        "h3 { color: #0000A0; font-weight: normal}\n",
        "h4 { color: #444; font-weight: oblique; font-size: large}\n",
        "\n",
        "\n",
        "</style>"
       ],
       "metadata": {},
       "output_type": "display_data",
       "text": [
        "<IPython.core.display.HTML object>"
       ]
      }
     ],
     "prompt_number": 1
    },
    {
     "cell_type": "heading",
     "level": 3,
     "metadata": {},
     "source": [
      "The SpecIndex Class and Units"
     ]
    },
    {
     "cell_type": "markdown",
     "metadata": {},
     "source": [
      "Let's take a look at a `TimeSpectra` and its underlying `SpecIndex`"
     ]
    },
    {
     "cell_type": "code",
     "collapsed": false,
     "input": [
      "from pyuvvis.data import aunps_glass\n",
      "ts=aunps_glass()\n",
      "ts.index[0:3]"
     ],
     "language": "python",
     "metadata": {},
     "outputs": [
      {
       "metadata": {},
       "output_type": "pyout",
       "prompt_number": 2,
       "text": [
        "SpecIndex[nm]([430.1, 430.47, 430.85], dtype='float64')"
       ]
      }
     ],
     "prompt_number": 2
    },
    {
     "cell_type": "markdown",
     "metadata": {},
     "source": [
      "Recall that we can convert to various unit systems:"
     ]
    },
    {
     "cell_type": "code",
     "collapsed": false,
     "input": [
      "ts.list_specunits()\n",
      "\n",
      "print ts.as_specunit('ev').index[0:3]\n",
      "print ts.as_specunit('k').index[0:3]\n",
      "print ts.as_specunit(None).index[0:3]"
     ],
     "language": "python",
     "metadata": {},
     "outputs": [
      {
       "output_type": "stream",
       "stream": "stdout",
       "text": [
        "\n",
        "Key \tDescription\n",
        "-------------------\n",
        "\n",
        "None \tno unit\n",
        "cm \tcentimeters\n",
        "cm-1 \tinverse centimeters\n",
        "ev \telectron volts\n",
        "f \thertz\n",
        "k \tinverse meters\n",
        "m \tmeters\n",
        "nm \tnanometers\n",
        "um \tmicrons\n",
        "um-1 \tinverse microns\n",
        "w \tradians per second\n",
        "\n",
        "\n",
        "SpecIndex[ev]([2.88268243823, 2.88020469878, 2.87766442308], dtype='float64')\n",
        "SpecIndex[k]([2325040.68821, 2323042.25614, 2320993.38517], dtype='float64')\n",
        "SpecIndex[None]([430.1, 430.47, 430.85], dtype='float64')\n"
       ]
      }
     ],
     "prompt_number": 3
    },
    {
     "cell_type": "markdown",
     "metadata": {},
     "source": [
      "Under the hood, `SpecIndex` is using a `convert()` method to transfer between the unit types.  Let's instantiate a SpecIndex() from scratch and convert units through the SpecIndex's API directly:"
     ]
    },
    {
     "cell_type": "code",
     "collapsed": false,
     "input": [
      "from pyuvvis.core.specindex import SpecIndex\n",
      "\n",
      "index = SpecIndex([1,2,3], unit='cm')\n",
      "print index\n",
      "print index.convert('nm')"
     ],
     "language": "python",
     "metadata": {},
     "outputs": [
      {
       "output_type": "stream",
       "stream": "stdout",
       "text": [
        "SpecIndex[cm]([1.0, 2.0, 3.0], dtype='float64')\n",
        "SpecIndex[nm]([10000000.0, 20000000.0, 30000000.0], dtype='float64')\n"
       ]
      }
     ],
     "prompt_number": 4
    },
    {
     "cell_type": "heading",
     "level": 3,
     "metadata": {},
     "source": [
      "The TimeIndex"
     ]
    },
    {
     "cell_type": "markdown",
     "metadata": {},
     "source": [
      "The `TimeIndex` is a slightly more complex Index (supports dtype=`object` and `float64` used to store interval representations of time.  It can store datetimes (timestamps), timedeltas and cumulative time intervals like the number of seconds passed."
     ]
    },
    {
     "cell_type": "code",
     "collapsed": false,
     "input": [
      "ts.list_varunits()"
     ],
     "language": "python",
     "metadata": {},
     "outputs": [
      {
       "output_type": "stream",
       "stream": "stdout",
       "text": [
        "\n",
        "Key \tDescription\n",
        "-------------------\n",
        "\n",
        "None \tno unit\n",
        "d \tdays\n",
        "dti \ttimestamp\n",
        "h \thours\n",
        "intvl \tinterval\n",
        "m \tminutes\n",
        "ms \tmilliseconds\n",
        "ns \tnanoseconds\n",
        "s \tseconds\n",
        "us \tmicroseconds\n",
        "\n",
        "\n"
       ]
      }
     ],
     "prompt_number": 5
    },
    {
     "cell_type": "markdown",
     "metadata": {},
     "source": [
      "On the test data, we have stored timestamps:"
     ]
    },
    {
     "cell_type": "code",
     "collapsed": false,
     "input": [
      "ts.columns[0:5]"
     ],
     "language": "python",
     "metadata": {},
     "outputs": [
      {
       "metadata": {},
       "output_type": "pyout",
       "prompt_number": 6,
       "text": [
        "TimeIndex[dti]([2014-05-22 15:38:23, 2014-05-22 15:38:26, 2014-05-22 15:38:30, 2014-05-22 15:38:34, 2014-05-22 15:38:37], dtype='object')"
       ]
      }
     ],
     "prompt_number": 6
    },
    {
     "cell_type": "markdown",
     "metadata": {},
     "source": [
      "We can convert these to timedeltas (`unit=intv`) or cumulative minutes (`unit=m`)."
     ]
    },
    {
     "cell_type": "code",
     "collapsed": false,
     "input": [
      "print ts.as_varunit('intvl').columns[0:5]\n",
      "print ts.as_varunit('m').columns[0:5]"
     ],
     "language": "python",
     "metadata": {},
     "outputs": [
      {
       "output_type": "stream",
       "stream": "stdout",
       "text": [
        "TimeIndex[intvl]([0:00:00, 0:00:03, 0:00:07, 0:00:11, 0:00:14], dtype='object')\n",
        "TimeIndex[m]([0.0, 0.05, 0.116666666667, 0.183333333333, 0.233333333333], dtype='float64')\n"
       ]
      }
     ],
     "prompt_number": 7
    },
    {
     "cell_type": "markdown",
     "metadata": {},
     "source": [
      "The TimeIndex stores metadata from the TimeStamps to let it regenerate the timestamp data after converting to an interval:"
     ]
    },
    {
     "cell_type": "code",
     "collapsed": false,
     "input": [
      "cols = ts.columns[0:2]\n",
      "print cols\n",
      "print cols.convert('m')\n",
      "print cols.convert('m').convert('dti')[0:2] #Convert to min then back to datetimeindex"
     ],
     "language": "python",
     "metadata": {},
     "outputs": [
      {
       "output_type": "stream",
       "stream": "stdout",
       "text": [
        "TimeIndex[dti]([2014-05-22 15:38:23, 2014-05-22 15:38:26], dtype='object')\n",
        "TimeIndex[m]([0.0, 0.05], dtype='float64')\n",
        "TimeIndex[dti]([2014-05-22 15:38:23, 2014-05-23 15:38:23], dtype='object')\n"
       ]
      }
     ],
     "prompt_number": 8
    },
    {
     "cell_type": "heading",
     "level": 3,
     "metadata": {},
     "source": [
      "The Unit Class"
     ]
    },
    {
     "cell_type": "markdown",
     "metadata": {},
     "source": [
      "`SpecIndex` and `TimeIndex` use stored `Units`, which are a special datastructure that contain all of the metadata of a particular unit system, including *conversion metadata.*  This is stored in the `_unit` attribute on the index."
     ]
    },
    {
     "cell_type": "code",
     "collapsed": false,
     "input": [
      "print index._unit"
     ],
     "language": "python",
     "metadata": {},
     "outputs": [
      {
       "output_type": "stream",
       "stream": "stdout",
       "text": [
        "<pyuvvis.units.specunits.Centimeters object at 0x3d89750>\n"
       ]
      }
     ],
     "prompt_number": 9
    },
    {
     "cell_type": "markdown",
     "metadata": {},
     "source": [
      "The unit stores a short name, long name, mathematical symbol, and other metadata about the spectral unit, in this case **cm**:"
     ]
    },
    {
     "cell_type": "code",
     "collapsed": false,
     "input": [
      "u = index._unit\n",
      "print u.short\n",
      "print u.full\n",
      "print u.symbol\n",
      "print u.category"
     ],
     "language": "python",
     "metadata": {},
     "outputs": [
      {
       "output_type": "stream",
       "stream": "stdout",
       "text": [
        "cm\n",
        "centimeters\n",
        "\\lambda\n",
        "wavelength\n"
       ]
      }
     ],
     "prompt_number": 10
    },
    {
     "cell_type": "markdown",
     "metadata": {},
     "source": [
      "`TimeSpectra` plotting and printout will refer to this metadata for various formatting cases.  For example, in 2d correlation plots, the `unit.symbol` attribute is used for annotating the cross plot."
     ]
    },
    {
     "cell_type": "heading",
     "level": 3,
     "metadata": {},
     "source": [
      "Building a Custom Unit System"
     ]
    },
    {
     "cell_type": "markdown",
     "metadata": {},
     "source": [
      "Imagine now we want to create an index that stores values of pressure, for example in Pascals.  To do so, we subclass from the `Unit` pyuvvis baseclass:"
     ]
    },
    {
     "cell_type": "code",
     "collapsed": false,
     "input": [
      "from pyuvvis.units.abcunits import Unit\n",
      "\n",
      "class Pascal(Unit):\n",
      "    short = 'pa'\n",
      "    full = 'Pascals'\n",
      "    symbol = 'r$\\rho$' #For math rendering in certain plots\n",
      "    _canonical = True\n",
      "    \n",
      "    def to_canonical(self, x):\n",
      "       return x\n",
      "      \n",
      "    def from_canonical(self, x):\n",
      "       return x"
     ],
     "language": "python",
     "metadata": {},
     "outputs": [],
     "prompt_number": 11
    },
    {
     "cell_type": "markdown",
     "metadata": {},
     "source": [
      "Ok, so let's try to understand this.  First, we created a new class called `Pascals` with various metadata.  If we needed the pressure unit system to have additional metadata or methods, we could have created an intermediate subclass, `PressureUnit`, but because we aren't adding any custom functionality, we'll subclass directly from `Unit`.  \n",
      "\n",
      "Notice the use of `_canonical`.  This indicates that we choose Pascals as our primary pressure unit.  Therefore, when we do conversions from and to other pressure units, they will pass through Pascals.  This will be more clear when we make our next system of units.  In addition, the `to_canonical()` and `from_canonical()` are functions that convert an array from Pascals to the canonical pressure unit.  Since Pascals is the canonical unit, these don't actually do anything!\n",
      "\n",
      "Now let's show what the class for `Atmosphere` units should look like.  Recall that to convert from **Pa** to **Atm**:\n",
      "\n",
      "$1 atm = 1.01325 \\times 10^{5} Pa$\n",
      "\n",
      "Likewise, to convert from Atm to Pa:\n",
      "\n",
      "$1 pa = 9.86923267 \\times 10^{-6} atm$"
     ]
    },
    {
     "cell_type": "code",
     "collapsed": false,
     "input": [
      "Pa2Atm = 101325 #pa in 1 atm\n",
      "\n",
      "class Atmosphere(Unit):\n",
      "    short = 'atm'\n",
      "    full = 'Atmospheres'\n",
      "    symbol = 'r$\\rho$' #For math rendering in certain plots\n",
      "    \n",
      "    def to_canonical(self, x):\n",
      "       return x * Pa2Atm\n",
      "      \n",
      "    def from_canonical(self, x):\n",
      "       return x / Pa2Atm"
     ],
     "language": "python",
     "metadata": {},
     "outputs": [],
     "prompt_number": 12
    },
    {
     "cell_type": "markdown",
     "metadata": {},
     "source": [
      "Notice that we've defined the conversion: $\\;\\;atm \\rightarrow Pa\\;\\;\\;$    via `to_canonical()` \n",
      "\n",
      "and\n",
      "\n",
      "$Pa \\rightarrow atm\\;\\;\\;$ via `from_canonical()`.\n",
      "\n",
      "Let's double check they are correct:"
     ]
    },
    {
     "cell_type": "code",
     "collapsed": false,
     "input": [
      "atm = Atmosphere()\n",
      "print '1 atm to pa', atm.to_canonical(1.0)\n",
      "print '1 pa to atm', atm.from_canonical(1.0)"
     ],
     "language": "python",
     "metadata": {},
     "outputs": [
      {
       "output_type": "stream",
       "stream": "stdout",
       "text": [
        "1 atm to pa 101325.0\n",
        "1 pa to atm 9.86923266716e-06\n"
       ]
      }
     ],
     "prompt_number": 13
    },
    {
     "cell_type": "markdown",
     "metadata": {},
     "source": [
      "As expected, this also works on Numpy arrays:"
     ]
    },
    {
     "cell_type": "code",
     "collapsed": false,
     "input": [
      "atmospheres = np.linspace(1,5,5)\n",
      "\n",
      "print 'atmospheres', atmospheres\n",
      "print 'pascals', atm.to_canonical(atmospheres)"
     ],
     "language": "python",
     "metadata": {},
     "outputs": [
      {
       "output_type": "stream",
       "stream": "stdout",
       "text": [
        "atmospheres [ 1.  2.  3.  4.  5.]\n",
        "pascals [ 101325.  202650.  303975.  405300.  506625.]\n"
       ]
      }
     ],
     "prompt_number": 14
    },
    {
     "cell_type": "heading",
     "level": 4,
     "metadata": {},
     "source": [
      "Pressure units of Bars"
     ]
    },
    {
     "cell_type": "markdown",
     "metadata": {},
     "source": [
      "We repeat this process for `Bars`.  Again, we only need to worry about converting to Pascals, the canonical unit.  <font color='blue'>**By going through the canonical unit, we don't have to worry about all of the various permutations of different units**</font>; defining `to_canonical()` and `from_canonical()` is sufficient.  Here's the correct class for Bars:"
     ]
    },
    {
     "cell_type": "code",
     "collapsed": false,
     "input": [
      "Pa2Bar = 100000 #pa in 1 bar\n",
      "\n",
      "class Bar(Unit):\n",
      "    short = 'b'\n",
      "    full = 'Bars'\n",
      "    symbol = 'r$\\rho$' #For math rendering in certain plots\n",
      "    \n",
      "    def to_canonical(self, x):\n",
      "       return x * Pa2Bar\n",
      "      \n",
      "    def from_canonical(self, x):\n",
      "       return x / Pa2Bar\n",
      "    \n",
      "bunit = Bar()\n",
      "bars = np.linspace(1,5,5)\n",
      "\n",
      "print 'bars', bars\n",
      "print 'pascals', bunit.to_canonical(bars)    "
     ],
     "language": "python",
     "metadata": {},
     "outputs": [
      {
       "output_type": "stream",
       "stream": "stdout",
       "text": [
        "bars [ 1.  2.  3.  4.  5.]\n",
        "pascals [ 100000.  200000.  300000.  400000.  500000.]\n"
       ]
      }
     ],
     "prompt_number": 15
    },
    {
     "cell_type": "heading",
     "level": 3,
     "metadata": {},
     "source": [
      "Building the Custom Index"
     ]
    },
    {
     "cell_type": "markdown",
     "metadata": {},
     "source": [
      "Alright, so we've defined our 3 new pressure units.  How do we make them into a valid Index object?  It's actually quite easy and only takes 2 steps:"
     ]
    },
    {
     "cell_type": "heading",
     "level": 4,
     "metadata": {},
     "source": [
      "Step 1: Make a Dicionary of Units"
     ]
    },
    {
     "cell_type": "markdown",
     "metadata": {},
     "source": [
      "We need to take all of our new units and create a dictionary.  The keys of the dictionary should be the **short** attribute of the unit, and the values will refer to the objects themselves.  Something like:"
     ]
    },
    {
     "cell_type": "code",
     "collapsed": false,
     "input": [
      "pressure_units = [Atmosphere(), Bar(), Pascal()]\n",
      "pressure_dict = dict((unit.short, unit) for unit in pressure_units)\n",
      "pressure_dict"
     ],
     "language": "python",
     "metadata": {},
     "outputs": [
      {
       "metadata": {},
       "output_type": "pyout",
       "prompt_number": 16,
       "text": [
        "{'atm': <__main__.Atmosphere at 0x3f2e110>,\n",
        " 'b': <__main__.Bar at 0x3f2e050>,\n",
        " 'pa': <__main__.Pascal at 0x3f2e250>}"
       ]
      }
     ],
     "prompt_number": 16
    },
    {
     "cell_type": "heading",
     "level": 4,
     "metadata": {},
     "source": [
      "Step 2:  Subclass the ConversionIndex class"
     ]
    },
    {
     "cell_type": "markdown",
     "metadata": {},
     "source": [
      "pyuvvis includes a `ConversionIndex` class that is designed for creating Indexes from Units as we've done.  All we need to do is sublcass and reference out `pressure_dict` dictionary that we've already created.  It's that simple:"
     ]
    },
    {
     "cell_type": "code",
     "collapsed": false,
     "input": [
      "from pyuvvis.core.abcindex import ConversionFloat64Index\n",
      "\n",
      "class PressureIndex(ConversionFloat64Index):\n",
      "    unitdict = pressure_dict"
     ],
     "language": "python",
     "metadata": {},
     "outputs": [],
     "prompt_number": 17
    },
    {
     "cell_type": "heading",
     "level": 4,
     "metadata": {},
     "source": [
      "Step 3: Test in it out"
     ]
    },
    {
     "cell_type": "code",
     "collapsed": false,
     "input": [
      "pindex = PressureIndex([1,2,3], unit='pa')\n",
      "pindex"
     ],
     "language": "python",
     "metadata": {},
     "outputs": [
      {
       "metadata": {},
       "output_type": "pyout",
       "prompt_number": 18,
       "text": [
        "PressureIndex[pa]([1.0, 2.0, 3.0], dtype='float64')"
       ]
      }
     ],
     "prompt_number": 18
    },
    {
     "cell_type": "code",
     "collapsed": false,
     "input": [
      "print pindex.convert('atm')\n",
      "print pindex.convert('b')\n",
      "print pindex.convert(None)"
     ],
     "language": "python",
     "metadata": {},
     "outputs": [
      {
       "output_type": "stream",
       "stream": "stdout",
       "text": [
        "PressureIndex[atm]([9.86923266716e-06, 1.97384653343e-05, 2.96076980015e-05], dtype='float64')\n",
        "PressureIndex[b]([1e-05, 2e-05, 3e-05], dtype='float64')\n",
        "PressureIndex[None]([1.0, 2.0, 3.0], dtype='float64')\n"
       ]
      }
     ],
     "prompt_number": 19
    },
    {
     "cell_type": "heading",
     "level": 3,
     "metadata": {},
     "source": [
      "Adding our Index to a pyuvvis Spectra"
     ]
    },
    {
     "cell_type": "markdown",
     "metadata": {},
     "source": [
      "Since pyuvvis Spectra are basically pandas dataframes, it should be easy to merely overwrite the Index with our custom objects; however, **pyuvvis strictly enforces Index typing** in its basic Spectra and TimeSpectra classes.  This is a design choice to prevent novices from acidentally overwriting a spectral index with a pertubation index.  For example, overwriting the wavelengths with pressures, when strictly speaking, pressure should be the perturbation variable.   <font color='red'>**Trying it will give us an error:**</font>"
     ]
    },
    {
     "cell_type": "code",
     "collapsed": false,
     "input": [
      "# THIS SHOULD RAISE AN ERROR\n",
      "ts.columns = PressureIndex(np.linspace(0,1,len(ts.index)), unit='atm')"
     ],
     "language": "python",
     "metadata": {},
     "outputs": [
      {
       "output_type": "stream",
       "stream": "stderr",
       "text": [
        "ERROR:pyuvvis.core.spectra:AuNPs Glass (good)._valid_columns() failed  {See trace below}\n",
        "\n"
       ]
      },
      {
       "output_type": "stream",
       "stream": "stderr",
       "text": [
        "Traceback (most recent call last):\n",
        "  File \"/home/glue/Desktop/PYUVVIS/pyuvvis/pyuvvis/logger.py\", line 228, in _wraps\n",
        "    return fcn(*args, **kwargs)\n",
        "  File \"/home/glue/Desktop/PYUVVIS/pyuvvis/pyuvvis/core/spectra.py\", line 979, in _valid_columns\n",
        "    (type(columns), self._strict_index))\n",
        "SpecError: User passed columns of type <class '__main__.PressureIndex'> but <class 'pyuvvis.core.specindex.SpecIndex'> required.\n"
       ]
      },
      {
       "ename": "LogExit",
       "evalue": "",
       "output_type": "pyerr",
       "traceback": [
        "An exception has occurred, use %tb to see the full traceback.\n",
        "\u001b[1;31mLogExit\u001b[0m\n"
       ]
      },
      {
       "output_type": "stream",
       "stream": "stderr",
       "text": [
        "To exit: use 'exit', 'quit', or Ctrl-D.\n"
       ]
      }
     ],
     "prompt_number": 20
    },
    {
     "cell_type": "heading",
     "level": 4,
     "metadata": {},
     "source": [
      "Workaround 1: Remove this typing on TimeSpectra object creation"
     ]
    },
    {
     "cell_type": "markdown",
     "metadata": {},
     "source": [
      "We can override the typecasting rules through the **strict_columns** and **strict_index** keywords.  Setting them to `False` will remove the dependency.  This is boilerplate that can be copied directly:"
     ]
    },
    {
     "cell_type": "code",
     "collapsed": false,
     "input": [
      "test = aunps_glass(strict_columns=False, specunit='nm')"
     ],
     "language": "python",
     "metadata": {},
     "outputs": []
    },
    {
     "cell_type": "markdown",
     "metadata": {},
     "source": [
      "Try it out with the data from the previous TimeSpectra with the timecolumns replace with pressure units."
     ]
    },
    {
     "cell_type": "code",
     "collapsed": false,
     "input": [
      "test.columns = PressureIndex(np.linspace(0,50,len(ts.columns)), unit='pa')\n",
      "test.plot(cbar=True);"
     ],
     "language": "python",
     "metadata": {},
     "outputs": []
    },
    {
     "cell_type": "markdown",
     "metadata": {},
     "source": [
      "Where this is really sensless; pascals is not a spectral variable, it is perturbative variable, but we see the stringency has been removed."
     ]
    },
    {
     "cell_type": "heading",
     "level": 4,
     "metadata": {},
     "source": [
      "Workaround 2: Subclass Spectra"
     ]
    },
    {
     "cell_type": "markdown",
     "metadata": {},
     "source": [
      "A permanent workaround is to create a new baseclass from **Spectra** that doesn't have this stringency.  We do this through the **force_columns** and **force_index** keywords.  Setting them to None will remove the typecasting, or we can set them to a different type, in this case `PressureIndex`:"
     ]
    },
    {
     "cell_type": "code",
     "collapsed": false,
     "input": [
      "from pyuvvis.core.spectra import Spectra\n",
      "\n",
      "class PressureSpectra(Spectra):\n",
      "    \"\"\" Overwrite __init__ to force the perturbation variable to pressure \"\"\"\n",
      "\n",
      "    def __init__(self, *dfargs, **dfkwargs):\n",
      "        dfkwargs.setdefault('strict_columns', PressureIndex)\n",
      "        super(PressureSpectra, self).__init__(*dfargs, **dfkwargs)"
     ],
     "language": "python",
     "metadata": {},
     "outputs": []
    },
    {
     "cell_type": "markdown",
     "metadata": {},
     "source": [
      "We'll pass the same data and spectral index from the TimeSpectra, but the columns will be automatically converted to pressure units.  Because we pass no columns, pandas assigns values 0-100, and then pyuvvis will float-convert and force into a pressure index."
     ]
    },
    {
     "cell_type": "code",
     "collapsed": false,
     "input": [
      "ps = PressureSpectra(data=np.array(ts.data),\n",
      "                           index=ts.index,\n",
      "                           varunit='pa',\n",
      "                           )\n",
      "ps.plot(cbar=True)\n",
      "ps.columns"
     ],
     "language": "python",
     "metadata": {},
     "outputs": []
    },
    {
     "cell_type": "markdown",
     "metadata": {},
     "source": [
      "This should translate in general to the plotting and unit system API in pyuvvis."
     ]
    },
    {
     "cell_type": "code",
     "collapsed": false,
     "input": [
      "from pyuvvis.plotting import areaplot\n",
      "areaplot(ps.as_varunit('atm'));"
     ],
     "language": "python",
     "metadata": {},
     "outputs": []
    },
    {
     "cell_type": "heading",
     "level": 3,
     "metadata": {},
     "source": [
      "A Complete Example"
     ]
    },
    {
     "cell_type": "markdown",
     "metadata": {},
     "source": [
      "Here is the code required (sans custom logging) to create the pyuvvis `TempSpectra`:"
     ]
    },
    {
     "cell_type": "code",
     "collapsed": false,
     "input": [
      "\"\"\"Provides core \"TempSpectra\" class. \"\"\"\n",
      "\n",
      "from pyuvvis.core.spectra import Spectra\n",
      "from pyuvvis.units import TEMPUNITS\n",
      "from pyuvvis.core.specindex import SpecIndex\n",
      "from pyuvvis.core.abcindex import ConversionFloat64Index\n",
      "\n",
      "class TempIndex(ConversionFloat64Index):\n",
      "   \"\"\" Temperature Index of Float64 values \"\"\"\n",
      "   unitdict = TEMPUNITS  \n",
      "\n",
      "class TempSpectra(Spectra):\n",
      "   \"\"\"Spectral Index (rows) with Temperature Variation (columns) \"\"\"\n",
      "   def __init__(self, *dfargs, **dfkwargs):\n",
      "      dfkwargs['strict_columns'] = TempIndex\n",
      "      dfkwargs['strict_index'] = SpecIndex\n",
      "      super(TempSpectra, self).__init__(*dfargs, **dfkwargs)"
     ],
     "language": "python",
     "metadata": {},
     "outputs": []
    },
    {
     "cell_type": "markdown",
     "metadata": {},
     "source": [
      "And to test it:"
     ]
    },
    {
     "cell_type": "code",
     "collapsed": false,
     "input": [
      "tempspec = TempSpectra(np.random.randn(50,50), \n",
      "                       specunit='ev',\n",
      "                       varunit='C')\n",
      "\n",
      "tempspec.plot(cbar=True,\n",
      "              colormap='BuGn',\n",
      "              title='Temperature Spectra Example');"
     ],
     "language": "python",
     "metadata": {},
     "outputs": []
    },
    {
     "cell_type": "markdown",
     "metadata": {},
     "source": [
      "<hr>\n",
      "<br>\n",
      "\n",
      "\n",
      "<div style=\"float:left; \\\">\n",
      "    <img src=\"https://avatars0.githubusercontent.com/u/1972276?s=460\" \n",
      " align=left; text-align:center; style=\"float:left; margin-left: 5px; margin-top: -25px; width:150px; height:150px\" /> \n",
      "</div>\n",
      "\n",
      "<div style=\"float:left; \\\"><a href=\"https://github.com/hugadams\">\n",
      "    <img src=\"https://assets-cdn.github.com/images/modules/logos_page/GitHub-Mark.png\" \n",
      " align=left; text-align:center; style=\"float:left; margin-left: 25px; margin-top: -25px; width:75px; height:75px\" /> \n",
      "</div>\n",
      "\n",
      "\n",
      "<div style=\"float:left; \\\"><a href=\"https://twitter.com/hughesadam87\">\n",
      "    <img src=\"http://paymentmagnates.com/wp-content/uploads/2014/04/twitter-icon.png\" \n",
      " align=left; text-align:center; style=\"float:left; margin-left: 25px; margin-top: -25px; width:75px; height:75px\" /> \n",
      "</div>\n",
      "\n",
      "<div style=\"float:left; \\\"><a href=\"https://www.researchgate.net/profile/Adam_Hughes2?ev=hdr_xprf\">\n",
      "    <img src=\"http://www.txhughes.com/images/button-researchgate.png\" \n",
      " align=left; text-align:center; style=\"float:left; margin-left: -175px; margin-top: 55px; width:75px; height:75px\" /> \n",
      "</div>\n",
      "\n",
      "<div style=\"float:left; \\\"><a href=\"https://www.linkedin.com/profile/view?id=121484744&trk=nav_responsive_tab_profile_picg\">\n",
      "    <img src=\"http://smallbusinessesdoitbetter.com/wordpress/wp-content/uploads/li.png\" \n",
      " align=left; text-align:center; style=\"float:left; margin-left: -75px; margin-top: 55px; width:75px; height:75px\" /> \n",
      "</div>\n",
      "\n",
      "<div style=\"float:center; \\\"><a href=\"http://www.gwu.edu/\">\n",
      "    <img src=\"https://raw.githubusercontent.com/hugadams/pyparty/master/pyparty/data/gwu.png\" \n",
      " align=center style=\"float:center; margin-right: 30px; margin-top: -35px; width:335px; height:180px\" />\n",
      "</div>\n",
      "\n",
      "\n",
      "<h4 style=\"margin-top:0px;\"> This notebook is free for redistribution. If citing, please reference as: </h4>\n",
      "- *Hughes, A. (2012). [A Computational Framework for Plasmonic Nanobiosensing](https://www.researchgate.net/publication/236672995_A_Computational_Framework_for_Plasmonic_Nanobiosensing).  Python in Science Conference [SCIPY].* \n",
      "\n",
      "\n",
      "<h3 style=\"margin-top:30px;\"> Questions or Feedback? </h3>\n",
      "\n",
      "* hugadams@gwmail.gwu.edu \n",
      "* twitter:  <a href=\"https://twitter.com/hughesadam87\" target=\"_blank\">@hughesadam87</a>\n",
      "* <a href=\"http://www.gwu.edu/~condmat/CME/reeves.html\" target=\"_blank\">Mark Reeves Biophysics Group</a>\n",
      "\n",
      "\n",
      "\n",
      "\n",
      "<h3 style=\"margin-top:30px;\"> References: </h3>\n",
      "\n",
      "* [1] : **REF 1**\n",
      "* [2] : **REF 2**\n",
      "\n",
      "\n",
      "\n",
      "\n",
      "\n",
      "<h3 style=\"margin-top:30px;\"> Related: </h3>\n",
      "\n",
      "   * <a href=\"https://github.com/hugadams/pyparty\" target=\"_blank\">pyuvvis: Exploratory Spectral Data Analysis</a>\n",
      "   * <a href=\"https://github.com/hugadams/pyparty\" target=\"_blank\">pyparty: Image Analysis of Particles</a>\n",
      "   * <a href=\"http://lorenabarba.com/\" target=\"_blank\">Lorena A. Barba (GWU Engineering)</a>\n",
      "   * <a href=\"http://www.youtube.com/watch?v=W7RgkHM-B60\" target=\"_blank\">xray: extended arrays for scientific datasets</a>\n",
      "\n",
      "\n",
      "\n",
      "<h3 style=\"margin-top:30px;\">Notebook styling ideas:</h3>\n",
      "\n",
      "* <a href=\"http://blog.louic.nl/?p=683\" target=\"_blank\">Louic's web blog</a>\n",
      "* <a href=\"https://plot.ly/feed\" target=\"_blank\">Plotly</a>\n",
      "* <a href=\"http://damon-is-a-geek.com/publication-ready-the-first-time-beautiful-reproducible-plots-with-matplotlib.html\" target=\"_blank\">Publication-ready the first time: Beautiful, reproducible plots with Matplotlib</a>\n",
      "\n",
      "<br>\n",
      "<hr>"
     ]
    }
   ],
   "metadata": {}
  }
 ]
}