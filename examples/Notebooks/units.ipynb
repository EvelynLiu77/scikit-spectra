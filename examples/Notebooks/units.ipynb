{
 "cells": [
  {
   "cell_type": "markdown",
   "metadata": {},
   "source": [
    "# Units Systems and Custom Conversion Index"
   ]
  },
  {
   "cell_type": "markdown",
   "metadata": {},
   "source": [
    "### Objective"
   ]
  },
  {
   "cell_type": "markdown",
   "metadata": {},
   "source": [
    "This will explain how skspec converts between various units (e.g. nm $\\rightarrow$ hz) and how you can implement your own **Conversion Index objects**. We demonstrate this by building a `PressureIndex` to represent pressure as the perturbation in a spectroscopy experiment.\n",
    "\n",
    "<font color='blue'>**If you are just adding a custom unit but don't need to convert between unit systems, use the simple approach**</font> presented in the [http://nbviewer.ipython.org/urls/raw.github.com/hugadams/skspec/master/examples/Notebooks/basic_units.ipynb](basic units tutorial)."
   ]
  },
  {
   "cell_type": "markdown",
   "metadata": {},
   "source": [
    "### Environment Setup"
   ]
  },
  {
   "cell_type": "markdown",
   "metadata": {},
   "source": [
    "Configure notebook style (see NBCONFIG.ipynb), add imports and paths.  The **%run** magic used below <font color='red'>**requires IPython 2.0 or higher.**</font>"
   ]
  },
  {
   "cell_type": "code",
   "execution_count": 1,
   "metadata": {
    "collapsed": false
   },
   "outputs": [
    {
     "name": "stdout",
     "output_type": "stream",
     "text": [
      "Populating the interactive namespace from numpy and matplotlib\n",
      "['dti', 'd', 'h', 'm', 'us', 's', 'ms', 'intvl', 'ns']\n"
     ]
    },
    {
     "name": "stderr",
     "output_type": "stream",
     "text": [
      "/home/glue/anaconda/lib/python2.7/site-packages/IPython/nbformat/current.py:19: UserWarning: IPython.nbformat.current is deprecated.\n",
      "\n",
      "- use IPython.nbformat for read/write/validate public API\n",
      "- use IPython.nbformat.vX directly to composing notebooks of a particular version\n",
      "\n",
      "  \"\"\")\n"
     ]
    },
    {
     "data": {
      "text/html": [
       "<style>\n",
       "#notebook_panel { /* main background */\n",
       "    background: #333;\n",
       "    color: #f6f6f6;\n",
       "}\n",
       "\n",
       "\n",
       "div #notebook { /* centre the content */\n",
       "    background: #FFFFF0;  /* IVORY */\n",
       "    color: #333;\n",
       "    width: 115ex;\n",
       "    margin: auto;\n",
       "    padding-left: 1em;\n",
       "    padding-right: 1em;\n",
       "    padding-top: 2ex;\n",
       "}\n",
       "\n",
       "\n",
       "div.text_cell_render {  /*Markdown cells */\n",
       "    font-family: Computer Modern Roman;\n",
       "}\n",
       "\n",
       "/* remove big margins around title */\n",
       "div.text_cell_render.border-box-sizing.rendered_html {\n",
       "    margin: 0; /*What is this */\n",
       "    padding: 0.05; /*Spacing between cells*/ \n",
       "    margin-left: 1ex;\n",
       "}\n",
       "div.cell.text_cell.border-box-sizing {\n",
       "    margin: 0;\n",
       "    padding: 0.05; \n",
       "}\n",
       "\n",
       ".rendered_html h1 {\n",
       "    margin: 0;\n",
       "    padding: 0;\n",
       "}\n",
       ".rendered_html h2 {\n",
       "    margin: 0;\n",
       "    padding: 0;\n",
       "}\n",
       ".rendered_html h3 {\n",
       "    margin: 0;\n",
       "    padding: 0;\n",
       "}\n",
       "\n",
       "/* Width of all cells */\n",
       "div.cell { /* set cell width to about 80 chars */\n",
       "    width: 55em;\n",
       "\n",
       "}\n",
       "\n",
       "/* Set font of coding cells (DONT KNOW WHY BUT NEED THIS) */\n",
       ".CodeMirror {\n",
       "    /* Preferred font is bold sawasdee, but here are backups */\n",
       "    font-family: \"Sawasdee\", \"Lucida Sans Typewriter\",\"Lucida Typewriter\", \n",
       "         \"Lucida Typewriter\", \"Courier New\", Courier, monospace;;\n",
       "    font-size: normal;\n",
       "    font-weight: 700; \n",
       "}\n",
       "\n",
       "div.cell.code_cell { /* Total code cell, in and out */\n",
       "    background: #FFFFF0;\n",
       "    border: none;\n",
       "    padding-top: 1ex;\n",
       "}\n",
       "\n",
       "div.input_area { /* box around box with code ??? */\n",
       "    border: none;\n",
       "    background: #f5f5f5;\n",
       "    border: 1px solid #fff;\n",
       "    border-radius: 10px;\n",
       "    padding-top: 0.5ex;\n",
       "    padding-bottom: 0.5ex;\n",
       "    padding-left: 0.5em;\n",
       "}\n",
       "\n",
       "div.input { /* box with code */\n",
       "}\n",
       "\n",
       "\n",
       "div.prompt { /* remove In/Out prompt */\n",
       "    display: none;\n",
       "}\n",
       "\n",
       "div.output_subarea { /* remove margin in front of output */\n",
       "    border: none;\n",
       "}\n",
       "\n",
       "div.cell.border-box-sizing.code_cell.running { \n",
       "    /* draw red dotted border around running cells */\n",
       "    border: 3px dotted #f33;\n",
       "}\n",
       "\n",
       "/* header colours and fonts */\n",
       "h1 { color: #444; }\n",
       "h2 { color: #444; font-style: oblique}\n",
       "h3 { color: #0000A0; font-weight: normal}\n",
       "h4 { color: #444; font-weight: oblique; font-size: large}\n",
       "\n",
       "\n",
       "</style>"
      ],
      "text/plain": [
       "<IPython.core.display.HTML object>"
      ]
     },
     "metadata": {},
     "output_type": "display_data"
    }
   ],
   "source": [
    "%run NBCONFIG.ipynb"
   ]
  },
  {
   "cell_type": "markdown",
   "metadata": {},
   "source": [
    "### The SpecIndex"
   ]
  },
  {
   "cell_type": "markdown",
   "metadata": {},
   "source": [
    "Let's take a look at a `TimeSpectra` and its underlying `SpecIndex`"
   ]
  },
  {
   "cell_type": "code",
   "execution_count": 2,
   "metadata": {
    "collapsed": false
   },
   "outputs": [
    {
     "data": {
      "text/plain": [
       "SpecIndex[nm]([430.1, 430.47, 430.85], dtype='float64')"
      ]
     },
     "execution_count": 2,
     "metadata": {},
     "output_type": "execute_result"
    }
   ],
   "source": [
    "from skspec.data import aunps_glass\n",
    "ts=aunps_glass()\n",
    "\n",
    "ts.index[0:3]"
   ]
  },
  {
   "cell_type": "markdown",
   "metadata": {},
   "source": [
    "Recall that we can convert to various unit systems:"
   ]
  },
  {
   "cell_type": "code",
   "execution_count": 3,
   "metadata": {
    "collapsed": false
   },
   "outputs": [
    {
     "name": "stdout",
     "output_type": "stream",
     "text": [
      "SpecIndex[ev]([2.88268243823, 2.88020469878, 2.87766442308], dtype='float64')\n",
      "SpecIndex[k]([2325040.68821, 2323042.25614, 2320993.38517], dtype='float64')\n",
      "SpecIndex[None]([430.1, 430.47, 430.85], dtype='float64')\n"
     ]
    }
   ],
   "source": [
    "ts.specunits\n",
    "\n",
    "print ts.as_specunit('ev').index[0:3]\n",
    "print ts.as_specunit('k').index[0:3]\n",
    "print ts.as_specunit(None).index[0:3]"
   ]
  },
  {
   "cell_type": "markdown",
   "metadata": {},
   "source": [
    "Under the hood, `SpecIndex` is using a `convert()` method to transfer between the unit types.  Let's instantiate a SpecIndex() from scratch and convert units through the SpecIndex's API directly:"
   ]
  },
  {
   "cell_type": "code",
   "execution_count": 4,
   "metadata": {
    "collapsed": false
   },
   "outputs": [
    {
     "name": "stdout",
     "output_type": "stream",
     "text": [
      "SpecIndex[cm]([1.0, 2.0, 3.0], dtype='float64')\n",
      "SpecIndex[nm]([10000000.0, 20000000.0, 30000000.0], dtype='float64')\n"
     ]
    }
   ],
   "source": [
    "from skspec.core.specindex import SpecIndex\n",
    "\n",
    "index = SpecIndex([1,2,3], unit='cm')\n",
    "print index\n",
    "print index.convert('nm')"
   ]
  },
  {
   "cell_type": "markdown",
   "metadata": {},
   "source": [
    "### The TimeIndex"
   ]
  },
  {
   "cell_type": "markdown",
   "metadata": {},
   "source": [
    "The `TimeIndex` is a slightly more complex Index (supports dtype=`object` and `float64` used to store interval representations of time.  It can store datetimes (timestamps), timedeltas and cumulative time intervals like the number of seconds passed."
   ]
  },
  {
   "cell_type": "code",
   "execution_count": 5,
   "metadata": {
    "collapsed": false
   },
   "outputs": [
    {
     "data": {
      "text/plain": [
       "{None: 'No unit',\n",
       " 'd': 'days',\n",
       " 'dti': 'timestamp',\n",
       " 'h': 'hours',\n",
       " 'intvl': 'interval',\n",
       " 'm': 'minutes',\n",
       " 'ms': 'milliseconds',\n",
       " 'ns': 'nanoseconds',\n",
       " 's': 'seconds',\n",
       " 'us': 'microseconds'}"
      ]
     },
     "execution_count": 5,
     "metadata": {},
     "output_type": "execute_result"
    }
   ],
   "source": [
    "ts.varunits()"
   ]
  },
  {
   "cell_type": "markdown",
   "metadata": {},
   "source": [
    "On the test data, we have stored timestamps:"
   ]
  },
  {
   "cell_type": "code",
   "execution_count": 6,
   "metadata": {
    "collapsed": false
   },
   "outputs": [
    {
     "data": {
      "text/plain": [
       "TimeIndex[dti]([2014-05-22 15:38:23, 2014-05-22 15:38:26, 2014-05-22 15:38:30, 2014-05-22 15:38:34, 2014-05-22 15:38:37], dtype='object')"
      ]
     },
     "execution_count": 6,
     "metadata": {},
     "output_type": "execute_result"
    }
   ],
   "source": [
    "ts.columns[0:5]"
   ]
  },
  {
   "cell_type": "markdown",
   "metadata": {},
   "source": [
    "We can convert these to timedeltas (`unit=intv`) or cumulative minutes (`unit=m`)."
   ]
  },
  {
   "cell_type": "code",
   "execution_count": 7,
   "metadata": {
    "collapsed": false
   },
   "outputs": [
    {
     "name": "stdout",
     "output_type": "stream",
     "text": [
      "TimeIndex[intvl]([0:00:00, 0:00:03, 0:00:07, 0:00:11, 0:00:14], dtype='object')\n",
      "TimeIndex[m]([0.0, 0.05, 0.116666666667, 0.183333333333, 0.233333333333], dtype='float64')\n"
     ]
    }
   ],
   "source": [
    "print ts.as_varunit('intvl').columns[0:5]\n",
    "print ts.as_varunit('m').columns[0:5]\n"
   ]
  },
  {
   "cell_type": "markdown",
   "metadata": {},
   "source": [
    "The TimeIndex stores metadata from the TimeStamps to let it regenerate the timestamp data after converting to an interval:"
   ]
  },
  {
   "cell_type": "code",
   "execution_count": 8,
   "metadata": {
    "collapsed": false
   },
   "outputs": [
    {
     "data": {
      "text/plain": [
       "TimeIndex[dti]([2014-05-22 15:38:23, 2014-05-22 15:38:26, 2014-05-22 15:38:30, 2014-05-22 15:38:34, 2014-05-22 15:38:37], dtype='object')"
      ]
     },
     "execution_count": 8,
     "metadata": {},
     "output_type": "execute_result"
    }
   ],
   "source": [
    "ts.as_varunit('m').as_varunit('dti').columns[0:5]"
   ]
  },
  {
   "cell_type": "markdown",
   "metadata": {},
   "source": [
    "Internally, the datetimeindex is stored in `ts.columns.datetimeindex`:"
   ]
  },
  {
   "cell_type": "code",
   "execution_count": 9,
   "metadata": {
    "collapsed": false
   },
   "outputs": [
    {
     "data": {
      "text/plain": [
       "<class 'pandas.tseries.index.DatetimeIndex'>\n",
       "[2014-05-22 15:38:23, ..., 2014-05-22 15:44:25]\n",
       "Length: 100, Freq: None, Timezone: None"
      ]
     },
     "execution_count": 9,
     "metadata": {},
     "output_type": "execute_result"
    }
   ],
   "source": [
    "ts.columns.datetimeindex"
   ]
  },
  {
   "cell_type": "markdown",
   "metadata": {},
   "source": [
    "### The Unit Class"
   ]
  },
  {
   "cell_type": "markdown",
   "metadata": {},
   "source": [
    "`SpecIndex` and `TimeIndex` use stored `Units`, which are a special datastructure that contain all of the metadata of a particular unit system, including *conversion metadata.*  This is stored in the `_unit` attribute on the index."
   ]
  },
  {
   "cell_type": "code",
   "execution_count": 10,
   "metadata": {
    "collapsed": false
   },
   "outputs": [
    {
     "name": "stdout",
     "output_type": "stream",
     "text": [
      "<skspec.units.specunits.Centimeters object at 0x7feb24608b90>\n"
     ]
    }
   ],
   "source": [
    "print index._unit"
   ]
  },
  {
   "cell_type": "markdown",
   "metadata": {},
   "source": [
    "The unit stores a short name, long name, mathematical symbol, and other metadata about the spectral unit, in this case **cm**:"
   ]
  },
  {
   "cell_type": "code",
   "execution_count": 11,
   "metadata": {
    "collapsed": false
   },
   "outputs": [
    {
     "name": "stdout",
     "output_type": "stream",
     "text": [
      "cm\n",
      "centimeters\n",
      "\\lambda\n",
      "wavelength\n"
     ]
    }
   ],
   "source": [
    "u = index._unit\n",
    "print u.short\n",
    "print u.full\n",
    "print u.symbol\n",
    "print u.category"
   ]
  },
  {
   "cell_type": "markdown",
   "metadata": {},
   "source": [
    "`TimeSpectra` plotting and printout will refer to this metadata for various formatting cases.  For example, in 2d correlation plots, the `unit.symbol` attribute is used for annotating the cross plot."
   ]
  },
  {
   "cell_type": "markdown",
   "metadata": {},
   "source": [
    "### Building a Custom Conversion Unit System"
   ]
  },
  {
   "cell_type": "markdown",
   "metadata": {},
   "source": [
    "Imagine now we want to create an index that stores values of pressure, for example in Pascals.  To do so, we subclass from the `Unit` skspec baseclass:"
   ]
  },
  {
   "cell_type": "code",
   "execution_count": 12,
   "metadata": {
    "collapsed": false
   },
   "outputs": [],
   "source": [
    "from skspec.units.abcunits import ConversionUnit\n",
    "\n",
    "class Pascal(ConversionUnit):\n",
    "    short = 'pa'\n",
    "    full = 'Pascals'\n",
    "    symbol = 'r$\\rho$' #For math rendering in certain plots\n",
    "    _canonical = True\n",
    "    \n",
    "    def to_canonical(self, x):\n",
    "       return x\n",
    "      \n",
    "    def from_canonical(self, x):\n",
    "       return x"
   ]
  },
  {
   "cell_type": "markdown",
   "metadata": {},
   "source": [
    "Ok, so let's try to understand this.  First, we created a new class called `Pascals` with various metadata.  If we needed the pressure unit system to have additional metadata or methods, we could have created an intermediate subclass, `PressureUnit`, but because we aren't adding any custom functionality, we'll subclass directly from `Unit`.  \n",
    "\n",
    "Notice the use of `_canonical`.  This indicates that we choose Pascals as our primary pressure unit.  Therefore, when we do conversions from and to other pressure units, they will pass through Pascals.  This will be more clear when we make our next system of units.  In addition, the `to_canonical()` and `from_canonical()` are functions that convert an array from Pascals to the canonical pressure unit.  Since Pascals is the canonical unit, these don't actually do anything!\n",
    "\n",
    "Now let's show what the class for `Atmosphere` units should look like.  Recall that to convert from **Pa** to **Atm**:\n",
    "\n",
    "$1 atm = 1.01325 \\times 10^{5} Pa$\n",
    "\n",
    "Likewise, to convert from Atm to Pa:\n",
    "\n",
    "$1 pa = 9.86923267 \\times 10^{-6} atm$"
   ]
  },
  {
   "cell_type": "code",
   "execution_count": 13,
   "metadata": {
    "collapsed": false
   },
   "outputs": [],
   "source": [
    "Pa2Atm = 101325 #pa in 1 atm\n",
    "\n",
    "class Atmosphere(ConversionUnit):\n",
    "    short = 'atm'\n",
    "    full = 'Atmospheres'\n",
    "    symbol = 'r$\\rho$' #For math rendering in certain plots\n",
    "    \n",
    "    def to_canonical(self, x):\n",
    "       return x * Pa2Atm\n",
    "      \n",
    "    def from_canonical(self, x):\n",
    "       return x / Pa2Atm"
   ]
  },
  {
   "cell_type": "markdown",
   "metadata": {},
   "source": [
    "Notice that we've defined the conversion: $\\;\\;atm \\rightarrow Pa\\;\\;\\;$    via `to_canonical()` \n",
    "\n",
    "and\n",
    "\n",
    "$Pa \\rightarrow atm\\;\\;\\;$ via `from_canonical()`.\n",
    "\n",
    "Let's double check they are correct:"
   ]
  },
  {
   "cell_type": "code",
   "execution_count": 14,
   "metadata": {
    "collapsed": false
   },
   "outputs": [
    {
     "name": "stdout",
     "output_type": "stream",
     "text": [
      "1 atm to pa 101325.0\n",
      "1 pa to atm 9.86923266716e-06\n"
     ]
    }
   ],
   "source": [
    "atm = Atmosphere()\n",
    "print '1 atm to pa', atm.to_canonical(1.0)\n",
    "print '1 pa to atm', atm.from_canonical(1.0)"
   ]
  },
  {
   "cell_type": "markdown",
   "metadata": {},
   "source": [
    "As expected, this also works on Numpy arrays:"
   ]
  },
  {
   "cell_type": "code",
   "execution_count": 15,
   "metadata": {
    "collapsed": false
   },
   "outputs": [
    {
     "name": "stdout",
     "output_type": "stream",
     "text": [
      "atmospheres [ 1.  2.  3.  4.  5.]\n",
      "pascals [ 101325.  202650.  303975.  405300.  506625.]\n"
     ]
    }
   ],
   "source": [
    "atmospheres = np.linspace(1,5,5)\n",
    "\n",
    "print 'atmospheres', atmospheres\n",
    "print 'pascals', atm.to_canonical(atmospheres)"
   ]
  },
  {
   "cell_type": "markdown",
   "metadata": {},
   "source": [
    "#### Pressure units of Bars"
   ]
  },
  {
   "cell_type": "markdown",
   "metadata": {},
   "source": [
    "We repeat this process for `Bars`.  Again, we only need to worry about converting to Pascals, the canonical unit.  <font color='blue'>**By going through the canonical unit, we don't have to worry about all of the various permutations of different units**</font>; defining `to_canonical()` and `from_canonical()` is sufficient.  Here's the correct class for Bars:"
   ]
  },
  {
   "cell_type": "code",
   "execution_count": 16,
   "metadata": {
    "collapsed": false
   },
   "outputs": [
    {
     "name": "stdout",
     "output_type": "stream",
     "text": [
      "bars [ 1.  2.  3.  4.  5.]\n",
      "pascals [ 100000.  200000.  300000.  400000.  500000.]\n"
     ]
    }
   ],
   "source": [
    "Pa2Bar = 100000 #pa in 1 bar\n",
    "\n",
    "class Bar(ConversionUnit):\n",
    "    short = 'b'\n",
    "    full = 'Bars'\n",
    "    symbol = 'r$\\rho$' #For math rendering in certain plots\n",
    "    \n",
    "    def to_canonical(self, x):\n",
    "       return x * Pa2Bar\n",
    "      \n",
    "    def from_canonical(self, x):\n",
    "       return x / Pa2Bar\n",
    "    \n",
    "bunit = Bar()\n",
    "bars = np.linspace(1,5,5)\n",
    "\n",
    "print 'bars', bars\n",
    "print 'pascals', bunit.to_canonical(bars)    "
   ]
  },
  {
   "cell_type": "markdown",
   "metadata": {},
   "source": [
    "### Building the Custom Index"
   ]
  },
  {
   "cell_type": "markdown",
   "metadata": {},
   "source": [
    "Alright, so we've defined our 3 new pressure units.  How do we make them into a valid Index object?  It's actually quite easy and only takes 2 steps:"
   ]
  },
  {
   "cell_type": "markdown",
   "metadata": {},
   "source": [
    "#### Step 1: Make a Dicionary of Units"
   ]
  },
  {
   "cell_type": "markdown",
   "metadata": {},
   "source": [
    "We need to take all of our new units and create a dictionary.  The keys of the dictionary should be the **short** attribute of the unit, and the values will refer to the objects themselves.  Something like:"
   ]
  },
  {
   "cell_type": "code",
   "execution_count": 17,
   "metadata": {
    "collapsed": false
   },
   "outputs": [
    {
     "data": {
      "text/plain": [
       "{'atm': <__main__.Atmosphere at 0x7feb245aaed0>,\n",
       " 'b': <__main__.Bar at 0x7feb245417d0>,\n",
       " 'pa': <__main__.Pascal at 0x7feb24541850>}"
      ]
     },
     "execution_count": 17,
     "metadata": {},
     "output_type": "execute_result"
    }
   ],
   "source": [
    "pressure_units = [Atmosphere(), Bar(), Pascal()]\n",
    "pressure_dict = dict((unit.short, unit) for unit in pressure_units)\n",
    "pressure_dict"
   ]
  },
  {
   "cell_type": "markdown",
   "metadata": {},
   "source": [
    "#### Step 2:  Subclass the ConversionIndex class"
   ]
  },
  {
   "cell_type": "markdown",
   "metadata": {},
   "source": [
    "skspec includes a `ConversionIndex` class that is designed for creating Indexes from Units as we've done.  All we need to do is sublcass and reference out `pressure_dict` dictionary that we've already created.  It's that simple:"
   ]
  },
  {
   "cell_type": "code",
   "execution_count": 18,
   "metadata": {
    "collapsed": false
   },
   "outputs": [],
   "source": [
    "from skspec.core.abcindex import ConversionFloat64Index\n",
    "\n",
    "class PressureIndex(ConversionFloat64Index):\n",
    "    unitdict = pressure_dict"
   ]
  },
  {
   "cell_type": "markdown",
   "metadata": {},
   "source": [
    "#### Step 3: Test in it out"
   ]
  },
  {
   "cell_type": "code",
   "execution_count": 19,
   "metadata": {
    "collapsed": false
   },
   "outputs": [
    {
     "data": {
      "text/plain": [
       "PressureIndex[pa]([1.0, 2.0, 3.0], dtype='float64')"
      ]
     },
     "execution_count": 19,
     "metadata": {},
     "output_type": "execute_result"
    }
   ],
   "source": [
    "pindex = PressureIndex([1,2,3], unit='pa')\n",
    "pindex"
   ]
  },
  {
   "cell_type": "code",
   "execution_count": 20,
   "metadata": {
    "collapsed": false
   },
   "outputs": [
    {
     "name": "stdout",
     "output_type": "stream",
     "text": [
      "PressureIndex[atm]([9.86923266716e-06, 1.97384653343e-05, 2.96076980015e-05], dtype='float64')\n",
      "PressureIndex[b]([1e-05, 2e-05, 3e-05], dtype='float64')\n",
      "PressureIndex[None]([1.0, 2.0, 3.0], dtype='float64')\n"
     ]
    }
   ],
   "source": [
    "print pindex.convert('atm')\n",
    "print pindex.convert('b')\n",
    "print pindex.convert(None)"
   ]
  },
  {
   "cell_type": "markdown",
   "metadata": {},
   "source": [
    "### Adding our Index to a skspec Spectra"
   ]
  },
  {
   "cell_type": "markdown",
   "metadata": {},
   "source": [
    "Since skspec Spectra are basically pandas dataframes, it should be easy to merely overwrite the Index with our custom objects; however, **skspec strictly enforces Index typing** in its basic Spectra and TimeSpectra classes.  This is a design choice to prevent novices from acidentally overwriting a spectral index with a pertubation index.  For example, overwriting the wavelengths with pressures, when strictly speaking, pressure should be the perturbation variable.   <font color='red'>**Trying it will give us an error:**</font>"
   ]
  },
  {
   "cell_type": "code",
   "execution_count": 21,
   "metadata": {
    "collapsed": false
   },
   "outputs": [
    {
     "ename": "SpecError",
     "evalue": "Invalid column type: <class '__main__.PressureIndex'>; require <class 'skspec.core.timeindex.TimeIndex'>.",
     "output_type": "error",
     "traceback": [
      "\u001b[1;31m---------------------------------------------------------------------------\u001b[0m",
      "\u001b[1;31mSpecError\u001b[0m                                 Traceback (most recent call last)",
      "\u001b[1;32m<ipython-input-21-d1677fb0ef58>\u001b[0m in \u001b[0;36m<module>\u001b[1;34m()\u001b[0m\n\u001b[0;32m      1\u001b[0m \u001b[1;31m# THIS SHOULD RAISE AN ERROR\u001b[0m\u001b[1;33m\u001b[0m\u001b[1;33m\u001b[0m\u001b[0m\n\u001b[1;32m----> 2\u001b[1;33m \u001b[0mts\u001b[0m\u001b[1;33m.\u001b[0m\u001b[0mcolumns\u001b[0m \u001b[1;33m=\u001b[0m \u001b[0mPressureIndex\u001b[0m\u001b[1;33m(\u001b[0m\u001b[0mnp\u001b[0m\u001b[1;33m.\u001b[0m\u001b[0mlinspace\u001b[0m\u001b[1;33m(\u001b[0m\u001b[1;36m0\u001b[0m\u001b[1;33m,\u001b[0m\u001b[1;36m1\u001b[0m\u001b[1;33m,\u001b[0m\u001b[0mlen\u001b[0m\u001b[1;33m(\u001b[0m\u001b[0mts\u001b[0m\u001b[1;33m.\u001b[0m\u001b[0mindex\u001b[0m\u001b[1;33m)\u001b[0m\u001b[1;33m)\u001b[0m\u001b[1;33m,\u001b[0m \u001b[0munit\u001b[0m\u001b[1;33m=\u001b[0m\u001b[1;34m'atm'\u001b[0m\u001b[1;33m)\u001b[0m\u001b[1;33m\u001b[0m\u001b[0m\n\u001b[0m",
      "\u001b[1;32m/home/glue/anaconda/lib/python2.7/site-packages/scikit_spectra-0.3.2_1-py2.7.egg/skspec/pandas_utils/metadframe.pyc\u001b[0m in \u001b[0;36m__setattr__\u001b[1;34m(self, name, value)\u001b[0m\n\u001b[0;32m    119\u001b[0m         conflicts when possible.'''\n\u001b[0;32m    120\u001b[0m \u001b[1;33m\u001b[0m\u001b[0m\n\u001b[1;32m--> 121\u001b[1;33m         \u001b[0msuper\u001b[0m\u001b[1;33m(\u001b[0m\u001b[0mMetaPandasObject\u001b[0m\u001b[1;33m,\u001b[0m \u001b[0mself\u001b[0m\u001b[1;33m)\u001b[0m\u001b[1;33m.\u001b[0m\u001b[0m__setattr__\u001b[0m\u001b[1;33m(\u001b[0m\u001b[0mname\u001b[0m\u001b[1;33m,\u001b[0m \u001b[0mvalue\u001b[0m\u001b[1;33m)\u001b[0m\u001b[1;33m\u001b[0m\u001b[0m\n\u001b[0m\u001b[0;32m    122\u001b[0m         \u001b[1;32mif\u001b[0m \u001b[0mname\u001b[0m \u001b[1;32min\u001b[0m \u001b[0m_dfattrs\u001b[0m\u001b[1;33m:\u001b[0m\u001b[1;33m\u001b[0m\u001b[0m\n\u001b[0;32m    123\u001b[0m             \u001b[0msetattr\u001b[0m\u001b[1;33m(\u001b[0m\u001b[0mself\u001b[0m\u001b[1;33m.\u001b[0m\u001b[0m_frame\u001b[0m\u001b[1;33m,\u001b[0m \u001b[0mname\u001b[0m\u001b[1;33m,\u001b[0m \u001b[0mvalue\u001b[0m\u001b[1;33m)\u001b[0m\u001b[1;33m\u001b[0m\u001b[0m\n",
      "\u001b[1;32m/home/glue/anaconda/lib/python2.7/site-packages/scikit_spectra-0.3.2_1-py2.7.egg/skspec/core/spectra.pyc\u001b[0m in \u001b[0;36mcolumns\u001b[1;34m(self, columns)\u001b[0m\n\u001b[0;32m   1283\u001b[0m    \u001b[1;33m@\u001b[0m\u001b[0mcolumns\u001b[0m\u001b[1;33m.\u001b[0m\u001b[0msetter\u001b[0m\u001b[1;33m\u001b[0m\u001b[0m\n\u001b[0;32m   1284\u001b[0m    \u001b[1;32mdef\u001b[0m \u001b[0mcolumns\u001b[0m\u001b[1;33m(\u001b[0m\u001b[0mself\u001b[0m\u001b[1;33m,\u001b[0m \u001b[0mcolumns\u001b[0m\u001b[1;33m)\u001b[0m\u001b[1;33m:\u001b[0m\u001b[1;33m\u001b[0m\u001b[0m\n\u001b[1;32m-> 1285\u001b[1;33m       \u001b[0mself\u001b[0m\u001b[1;33m.\u001b[0m\u001b[0m_frame\u001b[0m\u001b[1;33m.\u001b[0m\u001b[0mcolumns\u001b[0m \u001b[1;33m=\u001b[0m \u001b[0mself\u001b[0m\u001b[1;33m.\u001b[0m\u001b[0m_valid_columns\u001b[0m\u001b[1;33m(\u001b[0m\u001b[0mcolumns\u001b[0m\u001b[1;33m)\u001b[0m\u001b[1;33m\u001b[0m\u001b[0m\n\u001b[0m\u001b[0;32m   1286\u001b[0m \u001b[1;33m\u001b[0m\u001b[0m\n\u001b[0;32m   1287\u001b[0m \u001b[1;33m\u001b[0m\u001b[0m\n",
      "\u001b[1;32m/home/glue/anaconda/lib/python2.7/site-packages/scikit_spectra-0.3.2_1-py2.7.egg/skspec/core/spectra.pyc\u001b[0m in \u001b[0;36m_valid_columns\u001b[1;34m(self, columns)\u001b[0m\n\u001b[0;32m   1241\u001b[0m             \u001b[1;32mif\u001b[0m \u001b[0misinstance\u001b[0m\u001b[1;33m(\u001b[0m\u001b[0mcolumns\u001b[0m\u001b[1;33m,\u001b[0m \u001b[0mConversionIndex\u001b[0m\u001b[1;33m)\u001b[0m \u001b[1;32mor\u001b[0m \u001b[0misinstance\u001b[0m\u001b[1;33m(\u001b[0m\u001b[0mcolumns\u001b[0m\u001b[1;33m,\u001b[0m \u001b[0mCustomIndex\u001b[0m\u001b[1;33m)\u001b[0m\u001b[1;33m:\u001b[0m\u001b[1;33m\u001b[0m\u001b[0m\n\u001b[0;32m   1242\u001b[0m                raise SpecError('Invalid column type: %s; require %s.' % \n\u001b[1;32m-> 1243\u001b[1;33m                                (type(columns), self._strict_columns))\n\u001b[0m\u001b[0;32m   1244\u001b[0m \u001b[1;33m\u001b[0m\u001b[0m\n\u001b[0;32m   1245\u001b[0m \u001b[1;33m\u001b[0m\u001b[0m\n",
      "\u001b[1;31mSpecError\u001b[0m: Invalid column type: <class '__main__.PressureIndex'>; require <class 'skspec.core.timeindex.TimeIndex'>."
     ]
    }
   ],
   "source": [
    "# THIS SHOULD RAISE AN ERROR\n",
    "ts.columns = PressureIndex(np.linspace(0,1,len(ts.index)), unit='atm')"
   ]
  },
  {
   "cell_type": "markdown",
   "metadata": {},
   "source": [
    "#### Workaround 1: Remove this typing on TimeSpectra object creation"
   ]
  },
  {
   "cell_type": "markdown",
   "metadata": {},
   "source": [
    "We can override the typecasting rules through the **strict_columns** and **strict_index** keywords.  Setting them to `False` will remove the dependency.  This is boilerplate that can be copied directly:"
   ]
  },
  {
   "cell_type": "code",
   "execution_count": 24,
   "metadata": {
    "collapsed": false
   },
   "outputs": [
    {
     "ename": "SpecError",
     "evalue": "Unit API only supported by skspec ConversionIndex got type <class 'pandas.tseries.index.DatetimeIndex'>",
     "output_type": "error",
     "traceback": [
      "\u001b[1;31m---------------------------------------------------------------------------\u001b[0m",
      "\u001b[1;31mSpecError\u001b[0m                                 Traceback (most recent call last)",
      "\u001b[1;32m<ipython-input-24-03d580a993b4>\u001b[0m in \u001b[0;36m<module>\u001b[1;34m()\u001b[0m\n\u001b[1;32m----> 1\u001b[1;33m \u001b[0mtest\u001b[0m \u001b[1;33m=\u001b[0m \u001b[0maunps_glass\u001b[0m\u001b[1;33m(\u001b[0m\u001b[0mstrict_columns\u001b[0m\u001b[1;33m=\u001b[0m\u001b[0mFalse\u001b[0m\u001b[1;33m,\u001b[0m \u001b[0mspecunit\u001b[0m\u001b[1;33m=\u001b[0m\u001b[1;34m'nm'\u001b[0m\u001b[1;33m)\u001b[0m\u001b[1;33m\u001b[0m\u001b[0m\n\u001b[0m",
      "\u001b[1;32m/home/glue/anaconda/lib/python2.7/site-packages/scikit_spectra-0.3.2_1-py2.7.egg/skspec/data/__init__.pyc\u001b[0m in \u001b[0;36maunps_glass\u001b[1;34m(*args, **kwargs)\u001b[0m\n\u001b[0;32m    153\u001b[0m     \u001b[1;32mif\u001b[0m \u001b[0mstyle\u001b[0m \u001b[1;33m==\u001b[0m \u001b[1;36m1\u001b[0m \u001b[1;32mor\u001b[0m \u001b[0mstyle\u001b[0m \u001b[1;33m==\u001b[0m \u001b[1;34m'good'\u001b[0m\u001b[1;33m:\u001b[0m\u001b[1;33m\u001b[0m\u001b[0m\n\u001b[0;32m    154\u001b[0m         \u001b[0mkwargs\u001b[0m\u001b[1;33m.\u001b[0m\u001b[0msetdefault\u001b[0m\u001b[1;33m(\u001b[0m\u001b[1;34m'name'\u001b[0m\u001b[1;33m,\u001b[0m \u001b[1;34m'AuNPs Glass (good)'\u001b[0m\u001b[1;33m)\u001b[0m\u001b[1;33m\u001b[0m\u001b[0m\n\u001b[1;32m--> 155\u001b[1;33m         \u001b[1;32mreturn\u001b[0m \u001b[0m_load_gwuspec\u001b[0m\u001b[1;33m(\u001b[0m\u001b[1;34m'aunps_glass_good.csv'\u001b[0m\u001b[1;33m,\u001b[0m \u001b[1;33m*\u001b[0m\u001b[0margs\u001b[0m\u001b[1;33m,\u001b[0m \u001b[1;33m**\u001b[0m\u001b[0mkwargs\u001b[0m\u001b[1;33m)\u001b[0m\u001b[1;33m\u001b[0m\u001b[0m\n\u001b[0m\u001b[0;32m    156\u001b[0m \u001b[1;33m\u001b[0m\u001b[0m\n\u001b[0;32m    157\u001b[0m \u001b[1;33m\u001b[0m\u001b[0m\n",
      "\u001b[1;32m/home/glue/anaconda/lib/python2.7/site-packages/scikit_spectra-0.3.2_1-py2.7.egg/skspec/data/__init__.pyc\u001b[0m in \u001b[0;36m_load_gwuspec\u001b[1;34m(filepath, *args, **kwargs)\u001b[0m\n\u001b[0;32m     56\u001b[0m     \u001b[0mkwargs\u001b[0m\u001b[1;33m.\u001b[0m\u001b[0msetdefault\u001b[0m\u001b[1;33m(\u001b[0m\u001b[1;34m'specunit'\u001b[0m\u001b[1;33m,\u001b[0m \u001b[1;34m'nm'\u001b[0m\u001b[1;33m)\u001b[0m\u001b[1;33m\u001b[0m\u001b[0m\n\u001b[0;32m     57\u001b[0m \u001b[1;33m\u001b[0m\u001b[0m\n\u001b[1;32m---> 58\u001b[1;33m     \u001b[0mts\u001b[0m \u001b[1;33m=\u001b[0m \u001b[0mload_ts\u001b[0m\u001b[1;33m(\u001b[0m\u001b[0mfilepath\u001b[0m\u001b[1;33m,\u001b[0m \u001b[1;33m*\u001b[0m\u001b[0margs\u001b[0m\u001b[1;33m,\u001b[0m \u001b[1;33m**\u001b[0m\u001b[0mkwargs\u001b[0m\u001b[1;33m)\u001b[0m\u001b[1;33m\u001b[0m\u001b[0m\n\u001b[0m\u001b[0;32m     59\u001b[0m \u001b[1;33m\u001b[0m\u001b[0m\n\u001b[0;32m     60\u001b[0m     \u001b[1;31m# Baselines removed apriori with dynamic_baseline\u001b[0m\u001b[1;33m\u001b[0m\u001b[1;33m\u001b[0m\u001b[0m\n",
      "\u001b[1;32m/home/glue/anaconda/lib/python2.7/site-packages/scikit_spectra-0.3.2_1-py2.7.egg/skspec/data/__init__.pyc\u001b[0m in \u001b[0;36mload_ts\u001b[1;34m(filepath, *args, **kwargs)\u001b[0m\n\u001b[0;32m     32\u001b[0m \u001b[1;33m\u001b[0m\u001b[0m\n\u001b[0;32m     33\u001b[0m     \u001b[1;32mif\u001b[0m \u001b[0mext\u001b[0m \u001b[1;33m==\u001b[0m \u001b[1;34m'.csv'\u001b[0m\u001b[1;33m:\u001b[0m\u001b[1;33m\u001b[0m\u001b[0m\n\u001b[1;32m---> 34\u001b[1;33m         \u001b[1;32mreturn\u001b[0m \u001b[0mTimeSpectra\u001b[0m\u001b[1;33m.\u001b[0m\u001b[0mfrom_csv\u001b[0m\u001b[1;33m(\u001b[0m\u001b[0mfilepath\u001b[0m\u001b[1;33m,\u001b[0m \u001b[1;33m*\u001b[0m\u001b[0margs\u001b[0m\u001b[1;33m,\u001b[0m \u001b[1;33m**\u001b[0m\u001b[0mkwargs\u001b[0m\u001b[1;33m)\u001b[0m\u001b[1;33m\u001b[0m\u001b[0m\n\u001b[0m\u001b[0;32m     35\u001b[0m \u001b[1;33m\u001b[0m\u001b[0m\n\u001b[0;32m     36\u001b[0m     \u001b[1;31m#  XXX INCOMPLETE FUNCTIONALITY\u001b[0m\u001b[1;33m\u001b[0m\u001b[1;33m\u001b[0m\u001b[0m\n",
      "\u001b[1;32m/home/glue/anaconda/lib/python2.7/site-packages/scikit_spectra-0.3.2_1-py2.7.egg/skspec/core/spectra.pyc\u001b[0m in \u001b[0;36mfrom_csv\u001b[1;34m(cls, filepath_or_buffer, header_datetime, index_datetime, **kwargs)\u001b[0m\n\u001b[0;32m   1671\u001b[0m          \u001b[1;32melse\u001b[0m\u001b[1;33m:\u001b[0m\u001b[1;33m\u001b[0m\u001b[0m\n\u001b[0;32m   1672\u001b[0m             \u001b[0mkwargs\u001b[0m\u001b[1;33m[\u001b[0m\u001b[1;34m'specunit'\u001b[0m\u001b[1;33m]\u001b[0m \u001b[1;33m=\u001b[0m \u001b[1;34m'dti'\u001b[0m\u001b[1;33m\u001b[0m\u001b[0m\n\u001b[1;32m-> 1673\u001b[1;33m       \u001b[1;32mreturn\u001b[0m \u001b[0mcls\u001b[0m\u001b[1;33m(\u001b[0m\u001b[0mdf\u001b[0m\u001b[1;33m,\u001b[0m \u001b[1;33m**\u001b[0m\u001b[0mkwargs\u001b[0m\u001b[1;33m)\u001b[0m\u001b[1;33m\u001b[0m\u001b[0m\n\u001b[0m\u001b[0;32m   1674\u001b[0m \u001b[1;33m\u001b[0m\u001b[0m\n\u001b[0;32m   1675\u001b[0m \u001b[1;33m\u001b[0m\u001b[0m\n",
      "\u001b[1;32m/home/glue/anaconda/lib/python2.7/site-packages/scikit_spectra-0.3.2_1-py2.7.egg/skspec/core/timespectra.pyc\u001b[0m in \u001b[0;36m__init__\u001b[1;34m(self, *dfargs, **dfkwargs)\u001b[0m\n\u001b[0;32m     35\u001b[0m     \u001b[1;32mdef\u001b[0m \u001b[0m__init__\u001b[0m\u001b[1;33m(\u001b[0m\u001b[0mself\u001b[0m\u001b[1;33m,\u001b[0m \u001b[1;33m*\u001b[0m\u001b[0mdfargs\u001b[0m\u001b[1;33m,\u001b[0m \u001b[1;33m**\u001b[0m\u001b[0mdfkwargs\u001b[0m\u001b[1;33m)\u001b[0m\u001b[1;33m:\u001b[0m\u001b[1;33m\u001b[0m\u001b[0m\n\u001b[0;32m     36\u001b[0m         \u001b[0mdfkwargs\u001b[0m\u001b[1;33m.\u001b[0m\u001b[0msetdefault\u001b[0m\u001b[1;33m(\u001b[0m\u001b[1;34m'strict_columns'\u001b[0m\u001b[1;33m,\u001b[0m \u001b[0mTimeIndex\u001b[0m\u001b[1;33m)\u001b[0m\u001b[1;33m\u001b[0m\u001b[0m\n\u001b[1;32m---> 37\u001b[1;33m         \u001b[0msuper\u001b[0m\u001b[1;33m(\u001b[0m\u001b[0mTimeSpectra\u001b[0m\u001b[1;33m,\u001b[0m \u001b[0mself\u001b[0m\u001b[1;33m)\u001b[0m\u001b[1;33m.\u001b[0m\u001b[0m__init__\u001b[0m\u001b[1;33m(\u001b[0m\u001b[1;33m*\u001b[0m\u001b[0mdfargs\u001b[0m\u001b[1;33m,\u001b[0m \u001b[1;33m**\u001b[0m\u001b[0mdfkwargs\u001b[0m\u001b[1;33m)\u001b[0m\u001b[1;33m\u001b[0m\u001b[0m\n\u001b[0m\u001b[0;32m     38\u001b[0m \u001b[1;33m\u001b[0m\u001b[0m\n\u001b[0;32m     39\u001b[0m \u001b[1;33m\u001b[0m\u001b[0m\n",
      "\u001b[1;32m/home/glue/anaconda/lib/python2.7/site-packages/scikit_spectra-0.3.2_1-py2.7.egg/skspec/core/spectra.pyc\u001b[0m in \u001b[0;36m__init__\u001b[1;34m(self, *dfargs, **dfkwargs)\u001b[0m\n\u001b[0;32m    388\u001b[0m       \u001b[0mself\u001b[0m\u001b[1;33m.\u001b[0m\u001b[0m_frame\u001b[0m\u001b[1;33m.\u001b[0m\u001b[0mcolumns\u001b[0m \u001b[1;33m=\u001b[0m \u001b[0mself\u001b[0m\u001b[1;33m.\u001b[0m\u001b[0m_valid_columns\u001b[0m\u001b[1;33m(\u001b[0m\u001b[0mself\u001b[0m\u001b[1;33m.\u001b[0m\u001b[0mcolumns\u001b[0m\u001b[1;33m)\u001b[0m\u001b[1;33m\u001b[0m\u001b[0m\n\u001b[0;32m    389\u001b[0m       \u001b[1;32mif\u001b[0m \u001b[0mvarunit\u001b[0m\u001b[1;33m:\u001b[0m\u001b[1;33m\u001b[0m\u001b[0m\n\u001b[1;32m--> 390\u001b[1;33m          \u001b[0mself\u001b[0m\u001b[1;33m.\u001b[0m\u001b[0mvarunit\u001b[0m \u001b[1;33m=\u001b[0m \u001b[0mvarunit\u001b[0m\u001b[1;33m\u001b[0m\u001b[0m\n\u001b[0m\u001b[0;32m    391\u001b[0m \u001b[1;31m#         self._frame.columns = self._frame.columns.convert(varunit)\u001b[0m\u001b[1;33m\u001b[0m\u001b[1;33m\u001b[0m\u001b[0m\n\u001b[0;32m    392\u001b[0m \u001b[1;33m\u001b[0m\u001b[0m\n",
      "\u001b[1;32m/home/glue/anaconda/lib/python2.7/site-packages/scikit_spectra-0.3.2_1-py2.7.egg/skspec/pandas_utils/metadframe.pyc\u001b[0m in \u001b[0;36m__setattr__\u001b[1;34m(self, name, value)\u001b[0m\n\u001b[0;32m    119\u001b[0m         conflicts when possible.'''\n\u001b[0;32m    120\u001b[0m \u001b[1;33m\u001b[0m\u001b[0m\n\u001b[1;32m--> 121\u001b[1;33m         \u001b[0msuper\u001b[0m\u001b[1;33m(\u001b[0m\u001b[0mMetaPandasObject\u001b[0m\u001b[1;33m,\u001b[0m \u001b[0mself\u001b[0m\u001b[1;33m)\u001b[0m\u001b[1;33m.\u001b[0m\u001b[0m__setattr__\u001b[0m\u001b[1;33m(\u001b[0m\u001b[0mname\u001b[0m\u001b[1;33m,\u001b[0m \u001b[0mvalue\u001b[0m\u001b[1;33m)\u001b[0m\u001b[1;33m\u001b[0m\u001b[0m\n\u001b[0m\u001b[0;32m    122\u001b[0m         \u001b[1;32mif\u001b[0m \u001b[0mname\u001b[0m \u001b[1;32min\u001b[0m \u001b[0m_dfattrs\u001b[0m\u001b[1;33m:\u001b[0m\u001b[1;33m\u001b[0m\u001b[0m\n\u001b[0;32m    123\u001b[0m             \u001b[0msetattr\u001b[0m\u001b[1;33m(\u001b[0m\u001b[0mself\u001b[0m\u001b[1;33m.\u001b[0m\u001b[0m_frame\u001b[0m\u001b[1;33m,\u001b[0m \u001b[0mname\u001b[0m\u001b[1;33m,\u001b[0m \u001b[0mvalue\u001b[0m\u001b[1;33m)\u001b[0m\u001b[1;33m\u001b[0m\u001b[0m\n",
      "\u001b[1;32m/home/glue/anaconda/lib/python2.7/site-packages/scikit_spectra-0.3.2_1-py2.7.egg/skspec/core/spectra.pyc\u001b[0m in \u001b[0;36mvarunit\u001b[1;34m(self, unit)\u001b[0m\n\u001b[0;32m    854\u001b[0m       \u001b[1;31m# If string\u001b[0m\u001b[1;33m\u001b[0m\u001b[1;33m\u001b[0m\u001b[0m\n\u001b[0;32m    855\u001b[0m       \u001b[1;32melse\u001b[0m\u001b[1;33m:\u001b[0m\u001b[1;33m\u001b[0m\u001b[0m\n\u001b[1;32m--> 856\u001b[1;33m          \u001b[0m_valid_indextype\u001b[0m\u001b[1;33m(\u001b[0m\u001b[0mself\u001b[0m\u001b[1;33m.\u001b[0m\u001b[0mcolumns\u001b[0m\u001b[1;33m)\u001b[0m \u001b[1;31m#Raises error in corner cases (leave)\u001b[0m\u001b[1;33m\u001b[0m\u001b[0m\n\u001b[0m\u001b[0;32m    857\u001b[0m          \u001b[0mself\u001b[0m\u001b[1;33m.\u001b[0m\u001b[0mcolumns\u001b[0m \u001b[1;33m=\u001b[0m \u001b[0mself\u001b[0m\u001b[1;33m.\u001b[0m\u001b[0m_frame\u001b[0m\u001b[1;33m.\u001b[0m\u001b[0mcolumns\u001b[0m\u001b[1;33m.\u001b[0m\u001b[0mconvert\u001b[0m\u001b[1;33m(\u001b[0m\u001b[0munit\u001b[0m\u001b[1;33m)\u001b[0m\u001b[1;33m\u001b[0m\u001b[0m\n\u001b[0;32m    858\u001b[0m \u001b[1;33m\u001b[0m\u001b[0m\n",
      "\u001b[1;32m/home/glue/anaconda/lib/python2.7/site-packages/scikit_spectra-0.3.2_1-py2.7.egg/skspec/core/spectra.pyc\u001b[0m in \u001b[0;36m_valid_indextype\u001b[1;34m(index)\u001b[0m\n\u001b[0;32m     96\u001b[0m    \u001b[1;32mexcept\u001b[0m \u001b[0mAttributeError\u001b[0m\u001b[1;33m:\u001b[0m\u001b[1;33m\u001b[0m\u001b[0m\n\u001b[0;32m     97\u001b[0m       raise SpecError('Unit API only supported by skspec ConversionIndex'\n\u001b[1;32m---> 98\u001b[1;33m                       ' got type %s' % type(index))    \n\u001b[0m\u001b[0;32m     99\u001b[0m \u001b[1;33m\u001b[0m\u001b[0m\n\u001b[0;32m    100\u001b[0m \u001b[1;33m\u001b[0m\u001b[0m\n",
      "\u001b[1;31mSpecError\u001b[0m: Unit API only supported by skspec ConversionIndex got type <class 'pandas.tseries.index.DatetimeIndex'>"
     ]
    }
   ],
   "source": [
    "test = aunps_glass(strict_columns=False, specunit='nm')"
   ]
  },
  {
   "cell_type": "markdown",
   "metadata": {},
   "source": [
    "Try it out with the data from the previous TimeSpectra with the timecolumns replace with pressure units."
   ]
  },
  {
   "cell_type": "code",
   "execution_count": 23,
   "metadata": {
    "collapsed": false
   },
   "outputs": [
    {
     "ename": "AttributeError",
     "evalue": "'instancemethod' object has no attribute 'columns'",
     "output_type": "error",
     "traceback": [
      "\u001b[1;31m---------------------------------------------------------------------------\u001b[0m",
      "\u001b[1;31mAttributeError\u001b[0m                            Traceback (most recent call last)",
      "\u001b[1;32m<ipython-input-23-a0cb4e476511>\u001b[0m in \u001b[0;36m<module>\u001b[1;34m()\u001b[0m\n\u001b[1;32m----> 1\u001b[1;33m \u001b[0mtest\u001b[0m\u001b[1;33m.\u001b[0m\u001b[0mcolumns\u001b[0m \u001b[1;33m=\u001b[0m \u001b[0mPressureIndex\u001b[0m\u001b[1;33m(\u001b[0m\u001b[0mnp\u001b[0m\u001b[1;33m.\u001b[0m\u001b[0mlinspace\u001b[0m\u001b[1;33m(\u001b[0m\u001b[1;36m0\u001b[0m\u001b[1;33m,\u001b[0m\u001b[1;36m50\u001b[0m\u001b[1;33m,\u001b[0m\u001b[0mlen\u001b[0m\u001b[1;33m(\u001b[0m\u001b[0mts\u001b[0m\u001b[1;33m.\u001b[0m\u001b[0mcolumns\u001b[0m\u001b[1;33m)\u001b[0m\u001b[1;33m)\u001b[0m\u001b[1;33m,\u001b[0m \u001b[0munit\u001b[0m\u001b[1;33m=\u001b[0m\u001b[1;34m'pa'\u001b[0m\u001b[1;33m)\u001b[0m\u001b[1;33m\u001b[0m\u001b[0m\n\u001b[0m\u001b[0;32m      2\u001b[0m \u001b[0mtest\u001b[0m\u001b[1;33m.\u001b[0m\u001b[0mplot\u001b[0m\u001b[1;33m(\u001b[0m\u001b[0mcbar\u001b[0m\u001b[1;33m=\u001b[0m\u001b[0mTrue\u001b[0m\u001b[1;33m)\u001b[0m\u001b[1;33m;\u001b[0m\u001b[1;33m\u001b[0m\u001b[0m\n",
      "\u001b[1;31mAttributeError\u001b[0m: 'instancemethod' object has no attribute 'columns'"
     ]
    }
   ],
   "source": [
    "test.columns = PressureIndex(np.linspace(0,50,len(ts.columns)), unit='pa')\n",
    "test.plot(cbar=True);"
   ]
  },
  {
   "cell_type": "markdown",
   "metadata": {},
   "source": [
    "**The point of this example was to show that the strict-typing has been removed.**  Pressure as a spectral variable doesn't make much sense..."
   ]
  },
  {
   "cell_type": "markdown",
   "metadata": {},
   "source": [
    "#### Workaround 2: Subclass Spectra"
   ]
  },
  {
   "cell_type": "markdown",
   "metadata": {},
   "source": [
    "A permanent workaround is to create a new baseclass from **Spectra** that doesn't have this stringency.  We do this through the **force_columns** and **force_index** keywords.  Setting them to None will remove the typecasting, or we can set them to a different type, in this case `PressureIndex`:"
   ]
  },
  {
   "cell_type": "code",
   "execution_count": null,
   "metadata": {
    "collapsed": false
   },
   "outputs": [],
   "source": [
    "from skspec.core.spectra import Spectra\n",
    "\n",
    "class PressureSpectra(Spectra):\n",
    "    \"\"\" Overwrite __init__ to force the perturbation variable to pressure \"\"\"\n",
    "\n",
    "    def __init__(self, *dfargs, **dfkwargs):\n",
    "        dfkwargs.setdefault('strict_columns', PressureIndex)\n",
    "        super(PressureSpectra, self).__init__(*dfargs, **dfkwargs)"
   ]
  },
  {
   "cell_type": "markdown",
   "metadata": {},
   "source": [
    "We'll pass the same data and spectral index from the TimeSpectra, but the columns will be automatically converted to pressure units.  Because we pass no columns, pandas assigns values 0-100, and then skspec will float-convert and force into a pressure index."
   ]
  },
  {
   "cell_type": "code",
   "execution_count": null,
   "metadata": {
    "collapsed": false
   },
   "outputs": [],
   "source": [
    "ps = PressureSpectra(data=np.array(ts.data),\n",
    "                           index=ts.index,\n",
    "                           varunit='pa',\n",
    "                           )\n",
    "ps.plot(cbar=True)\n",
    "ps.columns"
   ]
  },
  {
   "cell_type": "markdown",
   "metadata": {},
   "source": [
    "This should translate in general to the plotting and unit system API in skspec."
   ]
  },
  {
   "cell_type": "code",
   "execution_count": null,
   "metadata": {
    "collapsed": false
   },
   "outputs": [],
   "source": [
    "from skspec.plotting import areaplot\n",
    "areaplot(ps.as_varunit('atm'));"
   ]
  },
  {
   "cell_type": "markdown",
   "metadata": {},
   "source": [
    "### A Complete Example"
   ]
  },
  {
   "cell_type": "markdown",
   "metadata": {},
   "source": [
    "Here is the code required (sans custom logging) to create the skspec `TempSpectra`:"
   ]
  },
  {
   "cell_type": "code",
   "execution_count": null,
   "metadata": {
    "collapsed": false
   },
   "outputs": [],
   "source": [
    "\"\"\"Provides core \"TempSpectra\" class. \"\"\"\n",
    "\n",
    "from skspec.core.spectra import Spectra\n",
    "from skspec.units import TEMPUNITS\n",
    "from skspec.core.specindex import SpecIndex\n",
    "from skspec.core.abcindex import ConversionFloat64Index\n",
    "\n",
    "class TempIndex(ConversionFloat64Index):\n",
    "   \"\"\" Temperature Index of Float64 values \"\"\"\n",
    "   unitdict = TEMPUNITS  \n",
    "\n",
    "class TempSpectra(Spectra):\n",
    "   \"\"\"Spectral Index (rows) with Temperature Variation (columns) \"\"\"\n",
    "   def __init__(self, *dfargs, **dfkwargs):\n",
    "      dfkwargs['strict_columns'] = TempIndex\n",
    "      dfkwargs['strict_index'] = SpecIndex\n",
    "      super(TempSpectra, self).__init__(*dfargs, **dfkwargs)"
   ]
  },
  {
   "cell_type": "markdown",
   "metadata": {},
   "source": [
    "And to test it:"
   ]
  },
  {
   "cell_type": "code",
   "execution_count": null,
   "metadata": {
    "collapsed": false
   },
   "outputs": [],
   "source": [
    "tempspec = TempSpectra(np.random.randn(100,100), \n",
    "                       specunit='ev',\n",
    "                       varunit='C')\n",
    "\n",
    "tempspec.plot(cbar=True,\n",
    "              kind='waterfall',\n",
    "              cmap='cool',\n",
    "              title='Temperature Spectra Example');"
   ]
  },
  {
   "cell_type": "markdown",
   "metadata": {},
   "source": [
    "<hr>\n",
    "<br>\n",
    "\n",
    "\n",
    "<div style=\"float:left; \\\">\n",
    "    <img src=\"https://avatars0.githubusercontent.com/u/1972276?s=460\" \n",
    " align=left; text-align:center; style=\"float:left; margin-left: 5px; margin-top: -25px; width:150px; height:150px\" /> \n",
    "</div>\n",
    "\n",
    "<div style=\"float:left; \\\"><a href=\"https://github.com/hugadams\">\n",
    "    <img src=\"https://assets-cdn.github.com/images/modules/logos_page/GitHub-Mark.png\" \n",
    " align=left; text-align:center; style=\"float:left; margin-left: 25px; margin-top: -25px; width:75px; height:75px\" /> \n",
    "</div>\n",
    "\n",
    "\n",
    "<div style=\"float:left; \\\"><a href=\"https://twitter.com/hughesadam87\">\n",
    "    <img src=\"http://paymentmagnates.com/wp-content/uploads/2014/04/twitter-icon.png\" \n",
    " align=left; text-align:center; style=\"float:left; margin-left: 25px; margin-top: -25px; width:75px; height:75px\" /> \n",
    "</div>\n",
    "\n",
    "<div style=\"float:left; \\\"><a href=\"https://www.researchgate.net/profile/Adam_Hughes2?ev=hdr_xprf\">\n",
    "    <img src=\"http://www.txhughes.com/images/button-researchgate.png\" \n",
    " align=left; text-align:center; style=\"float:left; margin-left: -175px; margin-top: 55px; width:75px; height:75px\" /> \n",
    "</div>\n",
    "\n",
    "<div style=\"float:left; \\\"><a href=\"https://www.linkedin.com/profile/view?id=121484744&trk=nav_responsive_tab_profile_picg\">\n",
    "    <img src=\"http://smallbusinessesdoitbetter.com/wordpress/wp-content/uploads/li.png\" \n",
    " align=left; text-align:center; style=\"float:left; margin-left: -75px; margin-top: 55px; width:75px; height:75px\" /> \n",
    "</div>\n",
    "\n",
    "<div style=\"float:center; \\\"><a href=\"http://www.gwu.edu/\">\n",
    "    <img src=\"https://raw.githubusercontent.com/hugadams/pyparty/master/pyparty/data/gwu.png\" \n",
    " align=center style=\"float:center; margin-right: 30px; margin-top: -35px; width:335px; height:180px\" />\n",
    "</div>\n",
    "\n",
    "\n",
    "<h4 style=\"margin-top:0px;\"> This notebook is free for redistribution. If citing, please reference as: </h4>\n",
    "- *Hughes, A. (2012). [A Computational Framework for Plasmonic Nanobiosensing](https://www.researchgate.net/publication/236672995_A_Computational_Framework_for_Plasmonic_Nanobiosensing).  Python in Science Conference [SCIPY].* \n",
    "\n",
    "\n",
    "<h3 style=\"margin-top:30px;\"> Questions or Feedback? </h3>\n",
    "\n",
    "* hugadams@gwmail.gwu.edu \n",
    "* twitter:  <a href=\"https://twitter.com/hughesadam87\" target=\"_blank\">@hughesadam87</a>\n",
    "* <a href=\"http://www.gwu.edu/~condmat/CME/reeves.html\" target=\"_blank\">Mark Reeves Biophysics Group</a>\n",
    "\n",
    "\n",
    "\n",
    "\n",
    "<h3 style=\"margin-top:30px;\"> References: </h3>\n",
    "\n",
    "* [1] : **REF 1**\n",
    "* [2] : **REF 2**\n",
    "\n",
    "\n",
    "\n",
    "\n",
    "\n",
    "<h3 style=\"margin-top:30px;\"> Related: </h3>\n",
    "\n",
    "   * <a href=\"https://github.com/hugadams/pyparty\" target=\"_blank\">skspec: Exploratory Spectral Data Analysis</a>\n",
    "   * <a href=\"https://github.com/hugadams/pyparty\" target=\"_blank\">pyparty: Image Analysis of Particles</a>\n",
    "   * <a href=\"http://lorenabarba.com/\" target=\"_blank\">Lorena A. Barba (GWU Engineering)</a>\n",
    "   * <a href=\"http://www.youtube.com/watch?v=W7RgkHM-B60\" target=\"_blank\">xray: extended arrays for scientific datasets</a>\n",
    "\n",
    "\n",
    "\n",
    "<h3 style=\"margin-top:30px;\">Notebook styling ideas:</h3>\n",
    "\n",
    "* <a href=\"http://blog.louic.nl/?p=683\" target=\"_blank\">Louic's web blog</a>\n",
    "* <a href=\"https://plot.ly/feed\" target=\"_blank\">Plotly</a>\n",
    "* <a href=\"http://damon-is-a-geek.com/publication-ready-the-first-time-beautiful-reproducible-plots-with-matplotlib.html\" target=\"_blank\">Publication-ready the first time: Beautiful, reproducible plots with Matplotlib</a>\n",
    "\n",
    "<br>\n",
    "<hr>"
   ]
  }
 ],
 "metadata": {
  "kernelspec": {
   "display_name": "IPython (Python 2)",
   "name": "python2"
  },
  "language_info": {
   "codemirror_mode": {
    "name": "ipython",
    "version": 2
   },
   "file_extension": ".py",
   "mimetype": "text/x-python",
   "name": "python",
   "nbconvert_exporter": "python",
   "pygments_lexer": "ipython2",
   "version": "2.7.9"
  },
  "signature": "sha256:6fab0a16ed95480b952983df034c644fef172966c40cc982f2aed25d4cd355bf"
 },
 "nbformat": 4,
 "nbformat_minor": 0
}