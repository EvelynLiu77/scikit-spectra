{
 "metadata": {
  "name": "",
  "signature": "sha256:60b007f94a39543fe21825563538b2be4cdff535df34f3743e85420b15aa8773"
 },
 "nbformat": 3,
 "nbformat_minor": 0,
 "worksheets": [
  {
   "cells": [
    {
     "cell_type": "heading",
     "level": 1,
     "metadata": {},
     "source": [
      "Units Systems and Custom Index Objects"
     ]
    },
    {
     "cell_type": "heading",
     "level": 3,
     "metadata": {},
     "source": [
      "Objective"
     ]
    },
    {
     "cell_type": "markdown",
     "metadata": {},
     "source": [
      "This guide gets into the nuts and bolts of pyuvvis units and Indexing objects.  This will explain how pyuvvis converts between various units (e.g. nm $\\rightarrow$ hz) and how you can implement your own Index objects with their own conversions.  We demonstrate this by building a `PressureIndex` to represent pressure as the perturbation in a spectroscopy experiment."
     ]
    },
    {
     "cell_type": "heading",
     "level": 3,
     "metadata": {},
     "source": [
      "Environment Setup"
     ]
    },
    {
     "cell_type": "markdown",
     "metadata": {},
     "source": [
      "Configure notebook style (see NBCONFIG.ipynb), add imports and paths.  The **%run** magic used below <font color='red'>**requires IPython 2.0 or higher.**</font>"
     ]
    },
    {
     "cell_type": "code",
     "collapsed": false,
     "input": [
      "%run NBCONFIG.ipynb"
     ],
     "language": "python",
     "metadata": {},
     "outputs": []
    },
    {
     "cell_type": "heading",
     "level": 3,
     "metadata": {},
     "source": [
      "The SpecIndex"
     ]
    },
    {
     "cell_type": "markdown",
     "metadata": {},
     "source": [
      "Let's take a look at a `TimeSpectra` and its underlying `SpecIndex`"
     ]
    },
    {
     "cell_type": "code",
     "collapsed": false,
     "input": [
      "from pyuvvis.data import aunps_glass\n",
      "ts=aunps_glass()\n",
      "\n",
      "ts.index[0:3]"
     ],
     "language": "python",
     "metadata": {},
     "outputs": [
      {
       "metadata": {},
       "output_type": "pyout",
       "prompt_number": 16,
       "text": [
        "SpecIndex[nm]([430.1, 430.47, 430.85], dtype='float64')"
       ]
      }
     ],
     "prompt_number": 16
    },
    {
     "cell_type": "markdown",
     "metadata": {},
     "source": [
      "Recall that we can convert to various unit systems:"
     ]
    },
    {
     "cell_type": "code",
     "collapsed": false,
     "input": [
      "ts.list_specunits()\n",
      "\n",
      "print ts.as_specunit('ev').index[0:3]\n",
      "print ts.as_specunit('k').index[0:3]\n",
      "print ts.as_specunit(None).index[0:3]"
     ],
     "language": "python",
     "metadata": {},
     "outputs": [
      {
       "output_type": "stream",
       "stream": "stdout",
       "text": [
        "\n",
        "Key \tDescription\n",
        "-------------------\n",
        "\n",
        "None \tno unit\n",
        "cm \tcentimeters\n",
        "cm-1 \tinverse centimeters\n",
        "ev \telectron volts\n",
        "f \thertz\n",
        "k \tinverse meters\n",
        "m \tmeters\n",
        "nm \tnanometers\n",
        "um \tmicrons\n",
        "um-1 \tinverse microns\n",
        "w \tradians per second\n",
        "\n",
        "\n",
        "SpecIndex[ev]([2.88268243823, 2.88020469878, 2.87766442308], dtype='float64')\n",
        "SpecIndex[k]([2325040.68821, 2323042.25614, 2320993.38517], dtype='float64')\n",
        "SpecIndex[None]([430.1, 430.47, 430.85], dtype='float64')\n"
       ]
      }
     ],
     "prompt_number": 17
    },
    {
     "cell_type": "markdown",
     "metadata": {},
     "source": [
      "Under the hood, `SpecIndex` is using a `convert()` method to transfer between the unit types.  Let's instantiate a SpecIndex() from scratch and convert units through the SpecIndex's API directly:"
     ]
    },
    {
     "cell_type": "code",
     "collapsed": false,
     "input": [
      "from pyuvvis.core.specindex import SpecIndex\n",
      "\n",
      "index = SpecIndex([1,2,3], unit='cm')\n",
      "print index\n",
      "print index.convert('nm')"
     ],
     "language": "python",
     "metadata": {},
     "outputs": [
      {
       "output_type": "stream",
       "stream": "stdout",
       "text": [
        "SpecIndex[cm]([1.0, 2.0, 3.0], dtype='float64')\n",
        "SpecIndex[nm]([10000000.0, 20000000.0, 30000000.0], dtype='float64')\n"
       ]
      }
     ],
     "prompt_number": 18
    },
    {
     "cell_type": "heading",
     "level": 3,
     "metadata": {},
     "source": [
      "The TimeIndex"
     ]
    },
    {
     "cell_type": "markdown",
     "metadata": {},
     "source": [
      "The `TimeIndex` is a slightly more complex Index (supports dtype=`object` and `float64` used to store interval representations of time.  It can store datetimes (timestamps), timedeltas and cumulative time intervals like the number of seconds passed."
     ]
    },
    {
     "cell_type": "code",
     "collapsed": false,
     "input": [
      "ts.list_varunits()"
     ],
     "language": "python",
     "metadata": {},
     "outputs": [
      {
       "output_type": "stream",
       "stream": "stdout",
       "text": [
        "\n",
        "Key \tDescription\n",
        "-------------------\n",
        "\n",
        "None \tno unit\n",
        "d \tdays\n",
        "dti \ttimestamp\n",
        "h \thours\n",
        "intvl \tinterval\n",
        "m \tminutes\n",
        "ms \tmilliseconds\n",
        "ns \tnanoseconds\n",
        "s \tseconds\n",
        "us \tmicroseconds\n",
        "\n",
        "\n"
       ]
      }
     ],
     "prompt_number": 19
    },
    {
     "cell_type": "markdown",
     "metadata": {},
     "source": [
      "On the test data, we have stored timestamps:"
     ]
    },
    {
     "cell_type": "code",
     "collapsed": false,
     "input": [
      "ts.columns[0:5]"
     ],
     "language": "python",
     "metadata": {},
     "outputs": [
      {
       "metadata": {},
       "output_type": "pyout",
       "prompt_number": 20,
       "text": [
        "TimeIndex[dti]([2014-05-22 15:38:23, 2014-05-22 15:38:26, 2014-05-22 15:38:30, 2014-05-22 15:38:34, 2014-05-22 15:38:37], dtype='object')"
       ]
      }
     ],
     "prompt_number": 20
    },
    {
     "cell_type": "markdown",
     "metadata": {},
     "source": [
      "We can convert these to timedeltas (`unit=intv`) or cumulative minutes (`unit=m`)."
     ]
    },
    {
     "cell_type": "code",
     "collapsed": false,
     "input": [
      "print ts.as_varunit('intvl').columns[0:5]\n",
      "print ts.as_varunit('m').columns[0:5]\n"
     ],
     "language": "python",
     "metadata": {},
     "outputs": [
      {
       "output_type": "stream",
       "stream": "stdout",
       "text": [
        "TimeIndex[intvl]([0:00:00, 0:00:03, 0:00:07, 0:00:11, 0:00:14], dtype='object')\n",
        "TimeIndex[m]([0.0, 0.05, 0.116666666667, 0.183333333333, 0.233333333333], dtype='float64')\n"
       ]
      }
     ],
     "prompt_number": 37
    },
    {
     "cell_type": "markdown",
     "metadata": {},
     "source": [
      "The TimeIndex stores metadata from the TimeStamps to let it regenerate the timestamp data after converting to an interval:"
     ]
    },
    {
     "cell_type": "code",
     "collapsed": false,
     "input": [
      "ts.as_varunit('m').as_varunit('dti').columns[0:5]"
     ],
     "language": "python",
     "metadata": {},
     "outputs": [
      {
       "metadata": {},
       "output_type": "pyout",
       "prompt_number": 39,
       "text": [
        "TimeIndex[dti]([2014-05-22 15:38:23, 2014-05-22 15:38:26, 2014-05-22 15:38:30, 2014-05-22 15:38:34, 2014-05-22 15:38:37], dtype='object')"
       ]
      }
     ],
     "prompt_number": 39
    },
    {
     "cell_type": "markdown",
     "metadata": {},
     "source": [
      "Internally, the datetimeindex is stored in `ts.columns.datetimeindex`:"
     ]
    },
    {
     "cell_type": "code",
     "collapsed": false,
     "input": [
      "ts.columns.datetimeindex"
     ],
     "language": "python",
     "metadata": {},
     "outputs": [
      {
       "metadata": {},
       "output_type": "pyout",
       "prompt_number": 40,
       "text": [
        "<class 'pandas.tseries.index.DatetimeIndex'>\n",
        "[2014-05-22 15:38:23, ..., 2014-05-22 15:44:25]\n",
        "Length: 100, Freq: None, Timezone: None"
       ]
      }
     ],
     "prompt_number": 40
    },
    {
     "cell_type": "heading",
     "level": 3,
     "metadata": {},
     "source": [
      "The Unit Class"
     ]
    },
    {
     "cell_type": "markdown",
     "metadata": {},
     "source": [
      "`SpecIndex` and `TimeIndex` use stored `Units`, which are a special datastructure that contain all of the metadata of a particular unit system, including *conversion metadata.*  This is stored in the `_unit` attribute on the index."
     ]
    },
    {
     "cell_type": "code",
     "collapsed": false,
     "input": [
      "print index._unit"
     ],
     "language": "python",
     "metadata": {},
     "outputs": [
      {
       "output_type": "stream",
       "stream": "stdout",
       "text": [
        "<pyuvvis.units.specunits.Centimeters object at 0x4b0e910>\n"
       ]
      }
     ],
     "prompt_number": 25
    },
    {
     "cell_type": "markdown",
     "metadata": {},
     "source": [
      "The unit stores a short name, long name, mathematical symbol, and other metadata about the spectral unit, in this case **cm**:"
     ]
    },
    {
     "cell_type": "code",
     "collapsed": false,
     "input": [
      "u = index._unit\n",
      "print u.short\n",
      "print u.full\n",
      "print u.symbol\n",
      "print u.category"
     ],
     "language": "python",
     "metadata": {},
     "outputs": [
      {
       "output_type": "stream",
       "stream": "stdout",
       "text": [
        "cm\n",
        "centimeters\n",
        "\\lambda\n",
        "wavelength\n"
       ]
      }
     ],
     "prompt_number": 26
    },
    {
     "cell_type": "markdown",
     "metadata": {},
     "source": [
      "`TimeSpectra` plotting and printout will refer to this metadata for various formatting cases.  For example, in 2d correlation plots, the `unit.symbol` attribute is used for annotating the cross plot."
     ]
    },
    {
     "cell_type": "heading",
     "level": 3,
     "metadata": {},
     "source": [
      "Building a Custom Unit System"
     ]
    },
    {
     "cell_type": "markdown",
     "metadata": {},
     "source": [
      "Imagine now we want to create an index that stores values of pressure, for example in Pascals.  To do so, we subclass from the `Unit` pyuvvis baseclass:"
     ]
    },
    {
     "cell_type": "code",
     "collapsed": false,
     "input": [
      "from pyuvvis.units.abcunits import Unit\n",
      "\n",
      "class Pascal(Unit):\n",
      "    short = 'pa'\n",
      "    full = 'Pascals'\n",
      "    symbol = 'r$\\rho$' #For math rendering in certain plots\n",
      "    _canonical = True\n",
      "    \n",
      "    def to_canonical(self, x):\n",
      "       return x\n",
      "      \n",
      "    def from_canonical(self, x):\n",
      "       return x"
     ],
     "language": "python",
     "metadata": {},
     "outputs": [],
     "prompt_number": 27
    },
    {
     "cell_type": "markdown",
     "metadata": {},
     "source": [
      "Ok, so let's try to understand this.  First, we created a new class called `Pascals` with various metadata.  If we needed the pressure unit system to have additional metadata or methods, we could have created an intermediate subclass, `PressureUnit`, but because we aren't adding any custom functionality, we'll subclass directly from `Unit`.  \n",
      "\n",
      "Notice the use of `_canonical`.  This indicates that we choose Pascals as our primary pressure unit.  Therefore, when we do conversions from and to other pressure units, they will pass through Pascals.  This will be more clear when we make our next system of units.  In addition, the `to_canonical()` and `from_canonical()` are functions that convert an array from Pascals to the canonical pressure unit.  Since Pascals is the canonical unit, these don't actually do anything!\n",
      "\n",
      "Now let's show what the class for `Atmosphere` units should look like.  Recall that to convert from **Pa** to **Atm**:\n",
      "\n",
      "$1 atm = 1.01325 \\times 10^{5} Pa$\n",
      "\n",
      "Likewise, to convert from Atm to Pa:\n",
      "\n",
      "$1 pa = 9.86923267 \\times 10^{-6} atm$"
     ]
    },
    {
     "cell_type": "code",
     "collapsed": false,
     "input": [
      "Pa2Atm = 101325 #pa in 1 atm\n",
      "\n",
      "class Atmosphere(Unit):\n",
      "    short = 'atm'\n",
      "    full = 'Atmospheres'\n",
      "    symbol = 'r$\\rho$' #For math rendering in certain plots\n",
      "    \n",
      "    def to_canonical(self, x):\n",
      "       return x * Pa2Atm\n",
      "      \n",
      "    def from_canonical(self, x):\n",
      "       return x / Pa2Atm"
     ],
     "language": "python",
     "metadata": {},
     "outputs": [],
     "prompt_number": 28
    },
    {
     "cell_type": "markdown",
     "metadata": {},
     "source": [
      "Notice that we've defined the conversion: $\\;\\;atm \\rightarrow Pa\\;\\;\\;$    via `to_canonical()` \n",
      "\n",
      "and\n",
      "\n",
      "$Pa \\rightarrow atm\\;\\;\\;$ via `from_canonical()`.\n",
      "\n",
      "Let's double check they are correct:"
     ]
    },
    {
     "cell_type": "code",
     "collapsed": false,
     "input": [
      "atm = Atmosphere()\n",
      "print '1 atm to pa', atm.to_canonical(1.0)\n",
      "print '1 pa to atm', atm.from_canonical(1.0)"
     ],
     "language": "python",
     "metadata": {},
     "outputs": [
      {
       "output_type": "stream",
       "stream": "stdout",
       "text": [
        "1 atm to pa 101325.0\n",
        "1 pa to atm 9.86923266716e-06\n"
       ]
      }
     ],
     "prompt_number": 29
    },
    {
     "cell_type": "markdown",
     "metadata": {},
     "source": [
      "As expected, this also works on Numpy arrays:"
     ]
    },
    {
     "cell_type": "code",
     "collapsed": false,
     "input": [
      "atmospheres = np.linspace(1,5,5)\n",
      "\n",
      "print 'atmospheres', atmospheres\n",
      "print 'pascals', atm.to_canonical(atmospheres)"
     ],
     "language": "python",
     "metadata": {},
     "outputs": [
      {
       "output_type": "stream",
       "stream": "stdout",
       "text": [
        "atmospheres [ 1.  2.  3.  4.  5.]\n",
        "pascals [ 101325.  202650.  303975.  405300.  506625.]\n"
       ]
      }
     ],
     "prompt_number": 30
    },
    {
     "cell_type": "heading",
     "level": 4,
     "metadata": {},
     "source": [
      "Pressure units of Bars"
     ]
    },
    {
     "cell_type": "markdown",
     "metadata": {},
     "source": [
      "We repeat this process for `Bars`.  Again, we only need to worry about converting to Pascals, the canonical unit.  <font color='blue'>**By going through the canonical unit, we don't have to worry about all of the various permutations of different units**</font>; defining `to_canonical()` and `from_canonical()` is sufficient.  Here's the correct class for Bars:"
     ]
    },
    {
     "cell_type": "code",
     "collapsed": false,
     "input": [
      "Pa2Bar = 100000 #pa in 1 bar\n",
      "\n",
      "class Bar(Unit):\n",
      "    short = 'b'\n",
      "    full = 'Bars'\n",
      "    symbol = 'r$\\rho$' #For math rendering in certain plots\n",
      "    \n",
      "    def to_canonical(self, x):\n",
      "       return x * Pa2Bar\n",
      "      \n",
      "    def from_canonical(self, x):\n",
      "       return x / Pa2Bar\n",
      "    \n",
      "bunit = Bar()\n",
      "bars = np.linspace(1,5,5)\n",
      "\n",
      "print 'bars', bars\n",
      "print 'pascals', bunit.to_canonical(bars)    "
     ],
     "language": "python",
     "metadata": {},
     "outputs": [
      {
       "output_type": "stream",
       "stream": "stdout",
       "text": [
        "bars [ 1.  2.  3.  4.  5.]\n",
        "pascals [ 100000.  200000.  300000.  400000.  500000.]\n"
       ]
      }
     ],
     "prompt_number": 31
    },
    {
     "cell_type": "heading",
     "level": 3,
     "metadata": {},
     "source": [
      "Building the Custom Index"
     ]
    },
    {
     "cell_type": "markdown",
     "metadata": {},
     "source": [
      "Alright, so we've defined our 3 new pressure units.  How do we make them into a valid Index object?  It's actually quite easy and only takes 2 steps:"
     ]
    },
    {
     "cell_type": "heading",
     "level": 4,
     "metadata": {},
     "source": [
      "Step 1: Make a Dicionary of Units"
     ]
    },
    {
     "cell_type": "markdown",
     "metadata": {},
     "source": [
      "We need to take all of our new units and create a dictionary.  The keys of the dictionary should be the **short** attribute of the unit, and the values will refer to the objects themselves.  Something like:"
     ]
    },
    {
     "cell_type": "code",
     "collapsed": false,
     "input": [
      "pressure_units = [Atmosphere(), Bar(), Pascal()]\n",
      "pressure_dict = dict((unit.short, unit) for unit in pressure_units)\n",
      "pressure_dict"
     ],
     "language": "python",
     "metadata": {},
     "outputs": [
      {
       "metadata": {},
       "output_type": "pyout",
       "prompt_number": 32,
       "text": [
        "{'atm': <__main__.Atmosphere at 0x4c65290>,\n",
        " 'b': <__main__.Bar at 0x4c658d0>,\n",
        " 'pa': <__main__.Pascal at 0x4c653d0>}"
       ]
      }
     ],
     "prompt_number": 32
    },
    {
     "cell_type": "heading",
     "level": 4,
     "metadata": {},
     "source": [
      "Step 2:  Subclass the ConversionIndex class"
     ]
    },
    {
     "cell_type": "markdown",
     "metadata": {},
     "source": [
      "pyuvvis includes a `ConversionIndex` class that is designed for creating Indexes from Units as we've done.  All we need to do is sublcass and reference out `pressure_dict` dictionary that we've already created.  It's that simple:"
     ]
    },
    {
     "cell_type": "code",
     "collapsed": false,
     "input": [
      "from pyuvvis.core.abcindex import ConversionFloat64Index\n",
      "\n",
      "class PressureIndex(ConversionFloat64Index):\n",
      "    unitdict = pressure_dict"
     ],
     "language": "python",
     "metadata": {},
     "outputs": [],
     "prompt_number": 33
    },
    {
     "cell_type": "heading",
     "level": 4,
     "metadata": {},
     "source": [
      "Step 3: Test in it out"
     ]
    },
    {
     "cell_type": "code",
     "collapsed": false,
     "input": [
      "pindex = PressureIndex([1,2,3], unit='pa')\n",
      "pindex"
     ],
     "language": "python",
     "metadata": {},
     "outputs": [
      {
       "metadata": {},
       "output_type": "pyout",
       "prompt_number": 34,
       "text": [
        "PressureIndex[pa]([1.0, 2.0, 3.0], dtype='float64')"
       ]
      }
     ],
     "prompt_number": 34
    },
    {
     "cell_type": "code",
     "collapsed": false,
     "input": [
      "print pindex.convert('atm')\n",
      "print pindex.convert('b')\n",
      "print pindex.convert(None)"
     ],
     "language": "python",
     "metadata": {},
     "outputs": [
      {
       "output_type": "stream",
       "stream": "stdout",
       "text": [
        "PressureIndex[atm]([9.86923266716e-06, 1.97384653343e-05, 2.96076980015e-05], dtype='float64')\n",
        "PressureIndex[b]([1e-05, 2e-05, 3e-05], dtype='float64')\n",
        "PressureIndex[None]([1.0, 2.0, 3.0], dtype='float64')\n"
       ]
      }
     ],
     "prompt_number": 35
    },
    {
     "cell_type": "heading",
     "level": 3,
     "metadata": {},
     "source": [
      "Adding our Index to a pyuvvis Spectra"
     ]
    },
    {
     "cell_type": "markdown",
     "metadata": {},
     "source": [
      "Since pyuvvis Spectra are basically pandas dataframes, it should be easy to merely overwrite the Index with our custom objects; however, **pyuvvis strictly enforces Index typing** in its basic Spectra and TimeSpectra classes.  This is a design choice to prevent novices from acidentally overwriting a spectral index with a pertubation index.  For example, overwriting the wavelengths with pressures, when strictly speaking, pressure should be the perturbation variable.   <font color='red'>**Trying it will give us an error:**</font>"
     ]
    },
    {
     "cell_type": "code",
     "collapsed": false,
     "input": [
      "# THIS SHOULD RAISE AN ERROR\n",
      "ts.columns = PressureIndex(np.linspace(0,1,len(ts.index)), unit='atm')"
     ],
     "language": "python",
     "metadata": {},
     "outputs": [
      {
       "output_type": "stream",
       "stream": "stderr",
       "text": [
        "ERROR:pyuvvis.core.spectra:AuNPs Glass (good)._valid_columns() failed  {See trace below}\n",
        "\n"
       ]
      },
      {
       "output_type": "stream",
       "stream": "stderr",
       "text": [
        "Traceback (most recent call last):\n",
        "  File \"/home/glue/Desktop/PYUVVIS/pyuvvis/pyuvvis/logger.py\", line 228, in _wraps\n",
        "    return fcn(*args, **kwargs)\n",
        "  File \"/home/glue/Desktop/PYUVVIS/pyuvvis/pyuvvis/core/spectra.py\", line 973, in _valid_columns\n",
        "    raise SpecError('User passed columns of type %s but %s required.' %\n",
        "SpecError: User passed columns of type <class '__main__.PressureIndex'> but <class 'pyuvvis.core.specindex.SpecIndex'> required.\n"
       ]
      },
      {
       "ename": "LogExit",
       "evalue": "",
       "output_type": "pyerr",
       "traceback": [
        "An exception has occurred, use %tb to see the full traceback.\n",
        "\u001b[1;31mLogExit\u001b[0m\n"
       ]
      },
      {
       "output_type": "stream",
       "stream": "stderr",
       "text": [
        "To exit: use 'exit', 'quit', or Ctrl-D.\n"
       ]
      }
     ],
     "prompt_number": 42
    },
    {
     "cell_type": "heading",
     "level": 4,
     "metadata": {},
     "source": [
      "Workaround 1: Remove this typing on TimeSpectra object creation"
     ]
    },
    {
     "cell_type": "markdown",
     "metadata": {},
     "source": [
      "We can override the typecasting rules through the **strict_columns** and **strict_index** keywords.  Setting them to `False` will remove the dependency.  This is boilerplate that can be copied directly:"
     ]
    },
    {
     "cell_type": "code",
     "collapsed": false,
     "input": [
      "test = aunps_glass(strict_columns=False, specunit='nm')"
     ],
     "language": "python",
     "metadata": {},
     "outputs": [
      {
       "ename": "AttributeError",
       "evalue": "'DatetimeIndex' object has no attribute 'convert'",
       "output_type": "pyerr",
       "traceback": [
        "\u001b[1;31m---------------------------------------------------------------------------\u001b[0m",
        "\u001b[1;31mAttributeError\u001b[0m                            Traceback (most recent call last)",
        "\u001b[1;32m<ipython-input-43-03d580a993b4>\u001b[0m in \u001b[0;36m<module>\u001b[1;34m()\u001b[0m\n\u001b[1;32m----> 1\u001b[1;33m \u001b[0mtest\u001b[0m \u001b[1;33m=\u001b[0m \u001b[0maunps_glass\u001b[0m\u001b[1;33m(\u001b[0m\u001b[0mstrict_columns\u001b[0m\u001b[1;33m=\u001b[0m\u001b[0mFalse\u001b[0m\u001b[1;33m,\u001b[0m \u001b[0mspecunit\u001b[0m\u001b[1;33m=\u001b[0m\u001b[1;34m'nm'\u001b[0m\u001b[1;33m)\u001b[0m\u001b[1;33m\u001b[0m\u001b[0m\n\u001b[0m",
        "\u001b[1;32m/home/glue/Desktop/PYUVVIS/pyuvvis/pyuvvis/data/__init__.pyc\u001b[0m in \u001b[0;36maunps_glass\u001b[1;34m(*args, **kwargs)\u001b[0m\n\u001b[0;32m    133\u001b[0m     \u001b[1;32mif\u001b[0m \u001b[0mstyle\u001b[0m \u001b[1;33m==\u001b[0m \u001b[1;36m1\u001b[0m \u001b[1;32mor\u001b[0m \u001b[0mstyle\u001b[0m \u001b[1;33m==\u001b[0m \u001b[1;34m'good'\u001b[0m\u001b[1;33m:\u001b[0m\u001b[1;33m\u001b[0m\u001b[0m\n\u001b[0;32m    134\u001b[0m         \u001b[0mkwargs\u001b[0m\u001b[1;33m.\u001b[0m\u001b[0msetdefault\u001b[0m\u001b[1;33m(\u001b[0m\u001b[1;34m'name'\u001b[0m\u001b[1;33m,\u001b[0m \u001b[1;34m'AuNPs Glass (good)'\u001b[0m\u001b[1;33m)\u001b[0m\u001b[1;33m\u001b[0m\u001b[0m\n\u001b[1;32m--> 135\u001b[1;33m         \u001b[1;32mreturn\u001b[0m \u001b[0m_load_gwuspec\u001b[0m\u001b[1;33m(\u001b[0m\u001b[1;34m'aunps_glass_good.csv'\u001b[0m\u001b[1;33m,\u001b[0m \u001b[1;33m*\u001b[0m\u001b[0margs\u001b[0m\u001b[1;33m,\u001b[0m \u001b[1;33m**\u001b[0m\u001b[0mkwargs\u001b[0m\u001b[1;33m)\u001b[0m\u001b[1;33m\u001b[0m\u001b[0m\n\u001b[0m\u001b[0;32m    136\u001b[0m \u001b[1;33m\u001b[0m\u001b[0m\n\u001b[0;32m    137\u001b[0m \u001b[1;33m\u001b[0m\u001b[0m\n",
        "\u001b[1;32m/home/glue/Desktop/PYUVVIS/pyuvvis/pyuvvis/data/__init__.pyc\u001b[0m in \u001b[0;36m_load_gwuspec\u001b[1;34m(filepath, *args, **kwargs)\u001b[0m\n\u001b[0;32m     55\u001b[0m     \u001b[0mkwargs\u001b[0m\u001b[1;33m.\u001b[0m\u001b[0msetdefault\u001b[0m\u001b[1;33m(\u001b[0m\u001b[1;34m'varunit'\u001b[0m\u001b[1;33m,\u001b[0m \u001b[1;34m'dti'\u001b[0m\u001b[1;33m)\u001b[0m\u001b[1;33m\u001b[0m\u001b[0m\n\u001b[0;32m     56\u001b[0m \u001b[1;33m\u001b[0m\u001b[0m\n\u001b[1;32m---> 57\u001b[1;33m     \u001b[0mts\u001b[0m \u001b[1;33m=\u001b[0m \u001b[0mload_ts\u001b[0m\u001b[1;33m(\u001b[0m\u001b[0mfilepath\u001b[0m\u001b[1;33m,\u001b[0m \u001b[1;33m*\u001b[0m\u001b[0margs\u001b[0m\u001b[1;33m,\u001b[0m \u001b[1;33m**\u001b[0m\u001b[0mkwargs\u001b[0m\u001b[1;33m)\u001b[0m\u001b[1;33m\u001b[0m\u001b[0m\n\u001b[0m\u001b[0;32m     58\u001b[0m \u001b[1;33m\u001b[0m\u001b[0m\n\u001b[0;32m     59\u001b[0m     \u001b[1;31m# Baselines removed apriori with dynamic_baseline\u001b[0m\u001b[1;33m\u001b[0m\u001b[1;33m\u001b[0m\u001b[0m\n",
        "\u001b[1;32m/home/glue/Desktop/PYUVVIS/pyuvvis/pyuvvis/data/__init__.pyc\u001b[0m in \u001b[0;36mload_ts\u001b[1;34m(filepath, *args, **kwargs)\u001b[0m\n\u001b[0;32m     30\u001b[0m \u001b[1;33m\u001b[0m\u001b[0m\n\u001b[0;32m     31\u001b[0m     \u001b[1;32mif\u001b[0m \u001b[0mext\u001b[0m \u001b[1;33m==\u001b[0m \u001b[1;34m'.csv'\u001b[0m\u001b[1;33m:\u001b[0m\u001b[1;33m\u001b[0m\u001b[0m\n\u001b[1;32m---> 32\u001b[1;33m         \u001b[1;32mreturn\u001b[0m \u001b[0mTimeSpectra\u001b[0m\u001b[1;33m.\u001b[0m\u001b[0mfrom_csv\u001b[0m\u001b[1;33m(\u001b[0m\u001b[0mfilepath\u001b[0m\u001b[1;33m,\u001b[0m \u001b[1;33m*\u001b[0m\u001b[0margs\u001b[0m\u001b[1;33m,\u001b[0m \u001b[1;33m**\u001b[0m\u001b[0mkwargs\u001b[0m\u001b[1;33m)\u001b[0m\u001b[1;33m\u001b[0m\u001b[0m\n\u001b[0m\u001b[0;32m     33\u001b[0m \u001b[1;33m\u001b[0m\u001b[0m\n\u001b[0;32m     34\u001b[0m     \u001b[1;31m#  XXX INCOMPLETE FUNCTIONALITY\u001b[0m\u001b[1;33m\u001b[0m\u001b[1;33m\u001b[0m\u001b[0m\n",
        "\u001b[1;32m/home/glue/Desktop/PYUVVIS/pyuvvis/pyuvvis/core/spectra.pyc\u001b[0m in \u001b[0;36mfrom_csv\u001b[1;34m(cls, filepath_or_buffer, header_datetime, index_datetime, **kwargs)\u001b[0m\n\u001b[0;32m   1335\u001b[0m                           for s in df.index])\n\u001b[0;32m   1336\u001b[0m \u001b[1;33m\u001b[0m\u001b[0m\n\u001b[1;32m-> 1337\u001b[1;33m \u001b[1;33m\u001b[0m\u001b[0m\n\u001b[0m\u001b[0;32m   1338\u001b[0m         \u001b[1;32mreturn\u001b[0m \u001b[0mcls\u001b[0m\u001b[1;33m(\u001b[0m\u001b[0mdf\u001b[0m\u001b[1;33m,\u001b[0m \u001b[1;33m**\u001b[0m\u001b[0mkwargs\u001b[0m\u001b[1;33m)\u001b[0m\u001b[1;33m\u001b[0m\u001b[0m\n\u001b[0;32m   1339\u001b[0m \u001b[1;33m\u001b[0m\u001b[0m\n",
        "\u001b[1;32m/home/glue/Desktop/PYUVVIS/pyuvvis/pyuvvis/core/timespectra.pyc\u001b[0m in \u001b[0;36m__init__\u001b[1;34m(self, *dfargs, **dfkwargs)\u001b[0m\n\u001b[0;32m     35\u001b[0m     \u001b[1;32mdef\u001b[0m \u001b[0m__init__\u001b[0m\u001b[1;33m(\u001b[0m\u001b[0mself\u001b[0m\u001b[1;33m,\u001b[0m \u001b[1;33m*\u001b[0m\u001b[0mdfargs\u001b[0m\u001b[1;33m,\u001b[0m \u001b[1;33m**\u001b[0m\u001b[0mdfkwargs\u001b[0m\u001b[1;33m)\u001b[0m\u001b[1;33m:\u001b[0m\u001b[1;33m\u001b[0m\u001b[0m\n\u001b[0;32m     36\u001b[0m         \u001b[0mdfkwargs\u001b[0m\u001b[1;33m.\u001b[0m\u001b[0msetdefault\u001b[0m\u001b[1;33m(\u001b[0m\u001b[1;34m'strict_columns'\u001b[0m\u001b[1;33m,\u001b[0m \u001b[0mTimeIndex\u001b[0m\u001b[1;33m)\u001b[0m\u001b[1;33m\u001b[0m\u001b[0m\n\u001b[1;32m---> 37\u001b[1;33m         \u001b[0msuper\u001b[0m\u001b[1;33m(\u001b[0m\u001b[0mTimeSpectra\u001b[0m\u001b[1;33m,\u001b[0m \u001b[0mself\u001b[0m\u001b[1;33m)\u001b[0m\u001b[1;33m.\u001b[0m\u001b[0m__init__\u001b[0m\u001b[1;33m(\u001b[0m\u001b[1;33m*\u001b[0m\u001b[0mdfargs\u001b[0m\u001b[1;33m,\u001b[0m \u001b[1;33m**\u001b[0m\u001b[0mdfkwargs\u001b[0m\u001b[1;33m)\u001b[0m\u001b[1;33m\u001b[0m\u001b[0m\n\u001b[0m\u001b[0;32m     38\u001b[0m \u001b[1;33m\u001b[0m\u001b[0m\n\u001b[0;32m     39\u001b[0m \u001b[1;33m\u001b[0m\u001b[0m\n",
        "\u001b[1;32m/home/glue/Desktop/PYUVVIS/pyuvvis/pyuvvis/core/spectra.pyc\u001b[0m in \u001b[0;36m__init__\u001b[1;34m(self, *dfargs, **dfkwargs)\u001b[0m\n\u001b[0;32m    176\u001b[0m         \u001b[1;32mif\u001b[0m \u001b[0mvarunit\u001b[0m\u001b[1;33m:\u001b[0m\u001b[1;33m\u001b[0m\u001b[0m\n\u001b[0;32m    177\u001b[0m             \u001b[0mself\u001b[0m\u001b[1;33m.\u001b[0m\u001b[0m_df\u001b[0m\u001b[1;33m.\u001b[0m\u001b[0mcolumns\u001b[0m \u001b[1;33m=\u001b[0m \u001b[0mself\u001b[0m\u001b[1;33m.\u001b[0m\u001b[0m_df\u001b[0m\u001b[1;33m.\u001b[0m\u001b[0mcolumns\u001b[0m\u001b[1;33m.\u001b[0m\u001b[0mconvert\u001b[0m\u001b[1;33m(\u001b[0m\u001b[0mvarunit\u001b[0m\u001b[1;33m)\u001b[0m\u001b[1;33m\u001b[0m\u001b[0m\n\u001b[1;32m--> 178\u001b[1;33m \u001b[1;33m\u001b[0m\u001b[0m\n\u001b[0m\u001b[0;32m    179\u001b[0m         \u001b[1;31m# Assign spectral intensity related stuff but\u001b[0m\u001b[1;33m\u001b[0m\u001b[1;33m\u001b[0m\u001b[0m\n\u001b[0;32m    180\u001b[0m         \u001b[1;31m# DONT CALL _set_itype function\u001b[0m\u001b[1;33m\u001b[0m\u001b[1;33m\u001b[0m\u001b[0m\n",
        "\u001b[1;31mAttributeError\u001b[0m: 'DatetimeIndex' object has no attribute 'convert'"
       ]
      }
     ],
     "prompt_number": 43
    },
    {
     "cell_type": "markdown",
     "metadata": {},
     "source": [
      "Try it out with the data from the previous TimeSpectra with the timecolumns replace with pressure units."
     ]
    },
    {
     "cell_type": "code",
     "collapsed": false,
     "input": [
      "test.columns = PressureIndex(np.linspace(0,50,len(ts.columns)), unit='pa')\n",
      "test.plot(cbar=True);"
     ],
     "language": "python",
     "metadata": {},
     "outputs": []
    },
    {
     "cell_type": "markdown",
     "metadata": {},
     "source": [
      "Where this is really sensless; pascals is not a spectral variable, it is perturbative variable, but we see the stringency has been removed."
     ]
    },
    {
     "cell_type": "heading",
     "level": 4,
     "metadata": {},
     "source": [
      "Workaround 2: Subclass Spectra"
     ]
    },
    {
     "cell_type": "markdown",
     "metadata": {},
     "source": [
      "A permanent workaround is to create a new baseclass from **Spectra** that doesn't have this stringency.  We do this through the **force_columns** and **force_index** keywords.  Setting them to None will remove the typecasting, or we can set them to a different type, in this case `PressureIndex`:"
     ]
    },
    {
     "cell_type": "code",
     "collapsed": false,
     "input": [
      "from pyuvvis.core.spectra import Spectra\n",
      "\n",
      "class PressureSpectra(Spectra):\n",
      "    \"\"\" Overwrite __init__ to force the perturbation variable to pressure \"\"\"\n",
      "\n",
      "    def __init__(self, *dfargs, **dfkwargs):\n",
      "        dfkwargs.setdefault('strict_columns', PressureIndex)\n",
      "        super(PressureSpectra, self).__init__(*dfargs, **dfkwargs)"
     ],
     "language": "python",
     "metadata": {},
     "outputs": []
    },
    {
     "cell_type": "markdown",
     "metadata": {},
     "source": [
      "We'll pass the same data and spectral index from the TimeSpectra, but the columns will be automatically converted to pressure units.  Because we pass no columns, pandas assigns values 0-100, and then pyuvvis will float-convert and force into a pressure index."
     ]
    },
    {
     "cell_type": "code",
     "collapsed": false,
     "input": [
      "ps = PressureSpectra(data=np.array(ts.data),\n",
      "                           index=ts.index,\n",
      "                           varunit='pa',\n",
      "                           )\n",
      "ps.plot(cbar=True)\n",
      "ps.columns"
     ],
     "language": "python",
     "metadata": {},
     "outputs": []
    },
    {
     "cell_type": "markdown",
     "metadata": {},
     "source": [
      "This should translate in general to the plotting and unit system API in pyuvvis."
     ]
    },
    {
     "cell_type": "code",
     "collapsed": false,
     "input": [
      "from pyuvvis.plotting import areaplot\n",
      "areaplot(ps.as_varunit('atm'));"
     ],
     "language": "python",
     "metadata": {},
     "outputs": []
    },
    {
     "cell_type": "heading",
     "level": 3,
     "metadata": {},
     "source": [
      "A Complete Example"
     ]
    },
    {
     "cell_type": "markdown",
     "metadata": {},
     "source": [
      "Here is the code required (sans custom logging) to create the pyuvvis `TempSpectra`:"
     ]
    },
    {
     "cell_type": "code",
     "collapsed": false,
     "input": [
      "\"\"\"Provides core \"TempSpectra\" class. \"\"\"\n",
      "\n",
      "from pyuvvis.core.spectra import Spectra\n",
      "from pyuvvis.units import TEMPUNITS\n",
      "from pyuvvis.core.specindex import SpecIndex\n",
      "from pyuvvis.core.abcindex import ConversionFloat64Index\n",
      "\n",
      "class TempIndex(ConversionFloat64Index):\n",
      "   \"\"\" Temperature Index of Float64 values \"\"\"\n",
      "   unitdict = TEMPUNITS  \n",
      "\n",
      "class TempSpectra(Spectra):\n",
      "   \"\"\"Spectral Index (rows) with Temperature Variation (columns) \"\"\"\n",
      "   def __init__(self, *dfargs, **dfkwargs):\n",
      "      dfkwargs['strict_columns'] = TempIndex\n",
      "      dfkwargs['strict_index'] = SpecIndex\n",
      "      super(TempSpectra, self).__init__(*dfargs, **dfkwargs)"
     ],
     "language": "python",
     "metadata": {},
     "outputs": []
    },
    {
     "cell_type": "markdown",
     "metadata": {},
     "source": [
      "And to test it:"
     ]
    },
    {
     "cell_type": "code",
     "collapsed": false,
     "input": [
      "tempspec = TempSpectra(np.random.randn(50,50), \n",
      "                       specunit='ev',\n",
      "                       varunit='C')\n",
      "\n",
      "tempspec.plot(cbar=True,\n",
      "              colormap='BuGn',\n",
      "              title='Temperature Spectra Example');"
     ],
     "language": "python",
     "metadata": {},
     "outputs": []
    },
    {
     "cell_type": "markdown",
     "metadata": {},
     "source": [
      "<hr>\n",
      "<br>\n",
      "\n",
      "\n",
      "<div style=\"float:left; \\\">\n",
      "    <img src=\"https://avatars0.githubusercontent.com/u/1972276?s=460\" \n",
      " align=left; text-align:center; style=\"float:left; margin-left: 5px; margin-top: -25px; width:150px; height:150px\" /> \n",
      "</div>\n",
      "\n",
      "<div style=\"float:left; \\\"><a href=\"https://github.com/hugadams\">\n",
      "    <img src=\"https://assets-cdn.github.com/images/modules/logos_page/GitHub-Mark.png\" \n",
      " align=left; text-align:center; style=\"float:left; margin-left: 25px; margin-top: -25px; width:75px; height:75px\" /> \n",
      "</div>\n",
      "\n",
      "\n",
      "<div style=\"float:left; \\\"><a href=\"https://twitter.com/hughesadam87\">\n",
      "    <img src=\"http://paymentmagnates.com/wp-content/uploads/2014/04/twitter-icon.png\" \n",
      " align=left; text-align:center; style=\"float:left; margin-left: 25px; margin-top: -25px; width:75px; height:75px\" /> \n",
      "</div>\n",
      "\n",
      "<div style=\"float:left; \\\"><a href=\"https://www.researchgate.net/profile/Adam_Hughes2?ev=hdr_xprf\">\n",
      "    <img src=\"http://www.txhughes.com/images/button-researchgate.png\" \n",
      " align=left; text-align:center; style=\"float:left; margin-left: -175px; margin-top: 55px; width:75px; height:75px\" /> \n",
      "</div>\n",
      "\n",
      "<div style=\"float:left; \\\"><a href=\"https://www.linkedin.com/profile/view?id=121484744&trk=nav_responsive_tab_profile_picg\">\n",
      "    <img src=\"http://smallbusinessesdoitbetter.com/wordpress/wp-content/uploads/li.png\" \n",
      " align=left; text-align:center; style=\"float:left; margin-left: -75px; margin-top: 55px; width:75px; height:75px\" /> \n",
      "</div>\n",
      "\n",
      "<div style=\"float:center; \\\"><a href=\"http://www.gwu.edu/\">\n",
      "    <img src=\"https://raw.githubusercontent.com/hugadams/pyparty/master/pyparty/data/gwu.png\" \n",
      " align=center style=\"float:center; margin-right: 30px; margin-top: -35px; width:335px; height:180px\" />\n",
      "</div>\n",
      "\n",
      "\n",
      "<h4 style=\"margin-top:0px;\"> This notebook is free for redistribution. If citing, please reference as: </h4>\n",
      "- *Hughes, A. (2012). [A Computational Framework for Plasmonic Nanobiosensing](https://www.researchgate.net/publication/236672995_A_Computational_Framework_for_Plasmonic_Nanobiosensing).  Python in Science Conference [SCIPY].* \n",
      "\n",
      "\n",
      "<h3 style=\"margin-top:30px;\"> Questions or Feedback? </h3>\n",
      "\n",
      "* hugadams@gwmail.gwu.edu \n",
      "* twitter:  <a href=\"https://twitter.com/hughesadam87\" target=\"_blank\">@hughesadam87</a>\n",
      "* <a href=\"http://www.gwu.edu/~condmat/CME/reeves.html\" target=\"_blank\">Mark Reeves Biophysics Group</a>\n",
      "\n",
      "\n",
      "\n",
      "\n",
      "<h3 style=\"margin-top:30px;\"> References: </h3>\n",
      "\n",
      "* [1] : **REF 1**\n",
      "* [2] : **REF 2**\n",
      "\n",
      "\n",
      "\n",
      "\n",
      "\n",
      "<h3 style=\"margin-top:30px;\"> Related: </h3>\n",
      "\n",
      "   * <a href=\"https://github.com/hugadams/pyparty\" target=\"_blank\">pyuvvis: Exploratory Spectral Data Analysis</a>\n",
      "   * <a href=\"https://github.com/hugadams/pyparty\" target=\"_blank\">pyparty: Image Analysis of Particles</a>\n",
      "   * <a href=\"http://lorenabarba.com/\" target=\"_blank\">Lorena A. Barba (GWU Engineering)</a>\n",
      "   * <a href=\"http://www.youtube.com/watch?v=W7RgkHM-B60\" target=\"_blank\">xray: extended arrays for scientific datasets</a>\n",
      "\n",
      "\n",
      "\n",
      "<h3 style=\"margin-top:30px;\">Notebook styling ideas:</h3>\n",
      "\n",
      "* <a href=\"http://blog.louic.nl/?p=683\" target=\"_blank\">Louic's web blog</a>\n",
      "* <a href=\"https://plot.ly/feed\" target=\"_blank\">Plotly</a>\n",
      "* <a href=\"http://damon-is-a-geek.com/publication-ready-the-first-time-beautiful-reproducible-plots-with-matplotlib.html\" target=\"_blank\">Publication-ready the first time: Beautiful, reproducible plots with Matplotlib</a>\n",
      "\n",
      "<br>\n",
      "<hr>"
     ]
    }
   ],
   "metadata": {}
  }
 ]
}