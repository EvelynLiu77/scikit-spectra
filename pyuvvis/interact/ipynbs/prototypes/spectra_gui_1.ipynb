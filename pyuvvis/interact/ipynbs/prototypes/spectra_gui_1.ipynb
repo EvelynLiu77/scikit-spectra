{
 "cells": [
  {
   "cell_type": "code",
   "execution_count": 11,
   "metadata": {
    "collapsed": false
   },
   "outputs": [
    {
     "name": "stdout",
     "output_type": "stream",
     "text": [
      "Populating the interactive namespace from numpy and matplotlib\n"
     ]
    },
    {
     "name": "stderr",
     "output_type": "stream",
     "text": [
      "WARNING: pylab import has clobbered these variables: ['Text', 'Button', 'datetime']\n",
      "`%matplotlib` prevents importing * from pylab and numpy\n"
     ]
    }
   ],
   "source": [
    "#%run '/Users/zhaowenliu/Documents/Tooklits/pyuvvis/examples/Notebooks/NBCONFIG.ipynb'\n",
    "#%run '/home/glue/Desktop/PYUVVIS/pyuvvis/examples/Notebooks/NBCONFIG.ipynb'\n",
    "%pylab inline"
   ]
  },
  {
   "cell_type": "code",
   "execution_count": 12,
   "metadata": {
    "collapsed": false
   },
   "outputs": [],
   "source": [
    "import re\n",
    "import pyuvvis\n",
    "import pyuvvis.data\n",
    "import matplotlib.pyplot as plt\n",
    "\n",
    "from datetime import datetime\n",
    "from collections import OrderedDict\n",
    "from pyuvvis import Spectra\n",
    "\n",
    "\n",
    "from IPython.html.widgets import (\n",
    "    FlexBox, VBox, HBox, HTML, Box, RadioButtons,\n",
    "    FloatText, Dropdown, Checkbox, Image, \n",
    "    IntSlider, Button, Text, FloatSlider, IntText, ContainerWidget\n",
    ")\n",
    "from IPython.utils.traitlets import (\n",
    "    link, Unicode, Float, Int, Enum, Bool, Instance, Any\n",
    ")"
   ]
  },
  {
   "cell_type": "markdown",
   "metadata": {},
   "source": [
    "Use [`OrderedDict`](https://docs.python.org/2/library/collections.html#collections.OrderedDict) for predictable display of key-value pairs."
   ]
  },
  {
   "cell_type": "code",
   "execution_count": 13,
   "metadata": {
    "collapsed": false
   },
   "outputs": [
    {
     "data": {
      "text/html": [
       "<style>\n",
       "/*\n",
       "    This contents of this would go in a separate CSS file.\n",
       "\n",
       "    Note the namespacing: this is important for two reasons.\n",
       "    1) doesn't pollute the global namespace\n",
       "    2) is _more specific_ than the base styles.\n",
       "*/\n",
       "\n",
       ".widget-area .spectroscopy .panel-body{\n",
       "    padding: 0.5;\n",
       "}\n",
       ".widget-area .spectroscopy .widget-numeric-text{\n",
       "    width: 5em;\n",
       "}\n",
       ".widget-area .spectroscopy .widget-box.start{\n",
       "    margin-left: 0;\n",
       "}\n",
       ".widget-area .spectroscopy .widget-hslider{\n",
       "    width: 12em;\n",
       "}\n",
       ".widget-area .spectroscopy .widget-text{\n",
       "    width: 13em;\n",
       "}\n",
       "    \n",
       "</style>"
      ],
      "text/plain": [
       "<IPython.core.display.HTML object>"
      ]
     },
     "metadata": {},
     "output_type": "display_data"
    }
   ],
   "source": [
    "%%html\n",
    "<style>\n",
    "/*\n",
    "    This contents of this would go in a separate CSS file.\n",
    "\n",
    "    Note the namespacing: this is important for two reasons.\n",
    "    1) doesn't pollute the global namespace\n",
    "    2) is _more specific_ than the base styles.\n",
    "*/\n",
    "\n",
    ".widget-area .spectroscopy .panel-body{\n",
    "    padding: 0.5;\n",
    "}\n",
    ".widget-area .spectroscopy .widget-numeric-text{\n",
    "    width: 5em;\n",
    "}\n",
    ".widget-area .spectroscopy .widget-box.start{\n",
    "    margin-left: 0;\n",
    "}\n",
    ".widget-area .spectroscopy .widget-hslider{\n",
    "    width: 12em;\n",
    "}\n",
    ".widget-area .spectroscopy .widget-text{\n",
    "    width: 13em;\n",
    "}\n",
    "    \n",
    "</style>"
   ]
  },
  {
   "cell_type": "markdown",
   "metadata": {
    "collapsed": false
   },
   "source": [
    "### SPECTROGRAM"
   ]
  },
  {
   "cell_type": "code",
   "execution_count": 14,
   "metadata": {
    "collapsed": false
   },
   "outputs": [],
   "source": [
    "from specgui import Box, HTML\n",
    "from nbtools import mpl2html\n",
    "\n",
    "from pyuvvis.core.spectra import _normdic as NUdic\n",
    "import pyuvvis.config as pvconf\n",
    "from pyuvvis.data import aunps_glass\n",
    "from pyuvvis.plotting.advanced_plots import PLOTPARSER\n",
    "\n",
    "class Spectrogram(HTML, Box):\n",
    "    \"\"\"\n",
    "    A notional \"complex widget\" that knows how to redraw itself when key properties change.\n",
    "    \"\"\"\n",
    "\n",
    "    # CONSTANTS (These are not traits)\n",
    "    DONT_DRAW = re.compile(r'^(_.+|value|keys|comm|children|visible|parent|log|config|msg_throttle)$')\n",
    "    NORMUNITS = NUdic\n",
    "    NORMUNITS_REV = OrderedDict((v,k) for k,v in NORMUNITS.items())\n",
    "    COLORS = [\"b\",\"g\",\"r\",\"y\",\"k\"]\n",
    "    COLORMAPS = sorted(m for m in plt.cm.datad if not m.endswith(\"_r\"))        \n",
    "    SLIDER_STEPS = Float(25)\n",
    "    \n",
    "    # IO traitlets\n",
    "    load_spec = Bool(False,sync=True)\n",
    "    load_file = Bool(True,sync=True) #\n",
    "    file_name = Unicode(\"\", sync=True)\n",
    "    save_spec = Bool(False,sync=True)\n",
    "    save_spec_as = Unicode('Test',sync=True)\n",
    "\n",
    "    # Spectra traits\n",
    "    spec = Instance(Spectra)\n",
    "    specname = Unicode('???', sync=True) # What should this be?\n",
    "    spec_modified = Instance(Spectra)\n",
    "    \n",
    "    # Plotting Traits\n",
    "    figwidth = Float(8)\n",
    "    figheight = Float(8)\n",
    "    interactive = Bool(False, sync=True)\n",
    "    colorbar = Bool(False, sync=True)\n",
    "    autoupdate = Bool(True, sync=True)\n",
    "    colormap = Enum(COLORMAPS ,sync=True)\n",
    "    color = Enum(COLORS, default_value = 'k', sync=True)\n",
    "    kind = Enum(PLOTPARSER.keys(), default_value = 'spec', sync=True)\n",
    "\n",
    "    # Units\n",
    "    spec_unit = Unicode\n",
    "    var_unit = Unicode \n",
    "    iunit = Unicode \n",
    "    norm_unit = Enum(NORMUNITS.values(),  sync=True)\n",
    "    \n",
    "    # Sampling/slicing\n",
    "    slice_axis = Enum([0,1], default_value=0, sync=True)\n",
    "    slice_position_start = Float(sync=True)\n",
    "    slice_position_end = Float(sync=True)\n",
    "    slider_start = Float(sync=True)\n",
    "    slider_end = Float(sync=True)\n",
    "    step_spec = Float(sync=True)\n",
    "    spacing = Int(1, sync=True)\n",
    "    \n",
    "    selectlines = Bool(False, sync=True)\n",
    "    \n",
    "    \n",
    "    def __init__(self, *args, **kwargs):\n",
    "\n",
    "        # Initialize traits (_spec_changed calls initial draw)\n",
    "        super(Spectrogram, self).__init__(*args, **kwargs)\n",
    "        self._dom_classes += (\"col-xs-9\",)\n",
    "        \n",
    "        \n",
    "    # DEFAULTS\n",
    "    # --------\n",
    "    def _spec_default(self):\n",
    "        return getattr(pyuvvis.data, 'aunps_water')()\n",
    "\n",
    "    def _colormap_default(self):\n",
    "        return pvconf.CMAP_1DSPECPLOT #Use pyuvvis config default (red/blue map)\n",
    "                \n",
    "    # Events\n",
    "    # ------\n",
    "    def _spec_changed(self, name, old, new):\n",
    "        \"\"\"Overall spectrum changes; triggers most events.\"\"\"\n",
    "\n",
    "        # Leave this at this position in loop\n",
    "        self.spec_modified= self.spec\n",
    "        # --------------\n",
    "\n",
    "        self._FREEZE = True #pause draws/slicing\n",
    "\n",
    "        # Units\n",
    "        self.spec_unit = self.spec.full_specunit\n",
    "        self.var_unit = self.spec.full_varunit\n",
    "        self.norm_unit = self.spec.full_norm\n",
    "        self.iunit = self.spec.full_iunit\n",
    "\n",
    "                \n",
    "        # Spec slicing\n",
    "        print self.spec.index[0], 'specindex 0'\n",
    "        self.slice_position_start = self.spec.index[0]\n",
    "        self.slice_position_end = self.spec.index[-1]\n",
    "        self.slider_start = self.spec.index[0]\n",
    "        self.slider_end = self.spec.index[-1]\n",
    "        self.step_spec = (self.spec.index.max() - self.spec.index.min())/self.SLIDER_STEPS\n",
    "        self.spacing = 1\n",
    "      \n",
    "        # Plot defaults to color map\n",
    "        self._color_state = False\n",
    "    \n",
    "        self._FREEZE = False\n",
    "        self.draw(name, old, new)\n",
    "        \n",
    "\n",
    "    def _norm_unit_changed(self, name, old, new):\n",
    "        self.spec_modified = self.spec_modified.as_norm(self.NORMUNITS_REV[new])\n",
    "        self.draw(name, old, new)\n",
    "        \n",
    "    def _iunit_changed(self, name, old, new):\n",
    "        self.spec_modified.iunit = new\n",
    "        # redraw?\n",
    "\n",
    "    # Plotting events\n",
    "    # ---------------\n",
    "       \n",
    "    def _colormap_changed(self, name, old, new):\n",
    "        self._color_state = False        \n",
    "        self.draw(name, old, new)\n",
    "        \n",
    "    def _slicing_changed(self, name, old, new):\n",
    "        self.draw(name, old, new)\n",
    "        \n",
    "    def _color_changed(self):\n",
    "        \"\"\" Because this sets colorbar, might cause 2 redraws,\n",
    "        so _FREEZE used to prevent this \n",
    "        \"\"\"\n",
    "        self._FREEZE = True\n",
    "        self.colorbar=False\n",
    "        self._color_state = True\n",
    "        self._FREEZE = False\n",
    "        self.draw()\n",
    "        \n",
    "    def _colorbar_changed(self, name, old, new):\n",
    "        self._color_state = False\n",
    "        self.draw(name, old, new)\n",
    "        \n",
    "    def _interactive_changed(self, name, old, new):\n",
    "        self.draw(name, old, new)\n",
    "        \n",
    "    # This should be phased out; plots should support colormap, area should handle accordingly\n",
    "    def _kind_changed(self, name, old, new):\n",
    "        self.draw(name, old, new)\n",
    "\n",
    "    def _selectlines_changed(self, name, old, new):\n",
    "        if self.interactive:\n",
    "            self.draw(name, old, new)\n",
    "\n",
    "    # IO Events\n",
    "    # ---------\n",
    "    # THIS SHOULD BE LOAD BUTTON CLICKED!!!!\n",
    "    def _file_name_changed(self):\n",
    "        try:\n",
    "            self.spec = getattr(pyuvvis.data, self.file_name)()\n",
    "        except AttributeError:\n",
    "            pass\n",
    "        \n",
    "    def save_to_ns(self):\n",
    "        get_ipython().user_ns[self.save_spec_as]=self.spec_modified\n",
    "        print \"SAVED TO: %s\" % self.save_spec_as\n",
    "\n",
    "    \n",
    "    # Slicing events\n",
    "    # --------------\n",
    "    def _slice_position_start_changed(self, name, old, new):\n",
    "        if not self._FREEZE:\n",
    "            self.slice_spectrum()\n",
    "            self.draw(name, old, new)\n",
    "\n",
    "    def _slice_position_end_changed(self, name, old, new):\n",
    "        if not self._FREEZE:\n",
    "            self.slice_spectrum()\n",
    "            self.draw(name, old, new)\n",
    "\n",
    "    def _spacing_changed(self, name, old, new):\n",
    "        \"\"\" Don't let user set less than 1 or more than dataset size\"\"\"\n",
    "        # Will have to update when add var/spec slicing\n",
    "        axis = self.slice_axis\n",
    "        if self.spacing < 1:\n",
    "            self.spacing = 1\n",
    "        elif self.spacing > self.spec_modified.shape[axis]:\n",
    "            self.spacing = self.spec_modified.shape[axis]\n",
    "            \n",
    "        self.slice_spectrum()\n",
    "        self.draw(name, old, new)            \n",
    "        \n",
    "            \n",
    "    # Draw/Slice updates\n",
    "    # ------------------\n",
    "    \n",
    "    def slice_spectrum(self):\n",
    "        # spec not spec mod, want to slice full spectra\n",
    "        if self.slice_axis == 0:\n",
    "            self.spec_modified = self.spec.nearby[self.slice_position_start:self.slice_position_end,::self.spacing]\n",
    "        else:\n",
    "            NotImplemented\n",
    "#            self.spec_modified = self.spec.transpose().nearby[self.slice_position_start:self.slice_position_end:self.spacing].transpose()\n",
    "            \n",
    "    \n",
    "    def draw(self, name=None, old=None, new=None):\n",
    "        if name is not None and self.DONT_DRAW.match(name):\n",
    "            return\n",
    "        \n",
    "        if self._FREEZE:\n",
    "            return\n",
    "        \n",
    "        print 'in draw', name\n",
    "\n",
    "        plot_and_message = ''\n",
    "\n",
    "        # Add a header bubble to plot.             \n",
    "       # if name is None:\n",
    "       #     plot_and_message += '<div class=\"alert alert-info\">redraw forced at %s!</div>' % (\n",
    "       #         datetime.now().isoformat(' ')\n",
    "       #     )\n",
    "                        \n",
    "        # Better way would be a decorator or something that only goes into draw if not autoupdate\n",
    "        if self.autoupdate:\n",
    "                        \n",
    "            # Generate new figure object\n",
    "            f = plt.figure(figsize=(self.figwidth, self.figheight))\n",
    "            if PLOTPARSER.is_3d(self.kind):\n",
    "                projection = '3d'\n",
    "            else:\n",
    "                projection = None\n",
    "            ax = f.add_subplot(111, projection=projection)\n",
    "            \n",
    "            if self._color_state or self.kind not in ['spec', 'waterfall', 'contour', 'contour3d']:\n",
    "                colorkwags = dict(color=self.color)\n",
    "            else:\n",
    "                colorkwags = dict(cmap=self.colormap, cbar=self.colorbar)\n",
    "                \n",
    "            self.spec_modified.plot(ax=ax, \n",
    "                  fig=f, \n",
    "                  kind=self.kind, \n",
    "                  norm=self.NORMUNITS_REV[self.norm_unit],\n",
    "                  **colorkwags\n",
    "                    )\n",
    "            f.tight_layout() #Padding around plot\n",
    "            lines = ax.get_lines()\n",
    "            plt.close(f)\n",
    "\n",
    "            #http://mpld3.github.io/modules/API.html\n",
    "            if self.interactive:\n",
    "                import mpld3\n",
    "                if self.selectlines:\n",
    "                    from line_plugin import HighlightLines\n",
    "                    mpld3.plugins.connect(f, HighlightLines(lines))\n",
    "\n",
    "                plot_and_message += mpld3.fig_to_html(f)\n",
    "            else:\n",
    "                plot_and_message += mpl2html(f)\n",
    "\n",
    "            self.fig_old = f\n",
    "                \n",
    "        else:\n",
    "            plot_and_message += html_figure(self.fig_old)\n",
    "\n",
    "        # VALUE IS WHAT GUI LOOKS UP!!!\n",
    "        self.value = plot_and_message"
   ]
  },
  {
   "cell_type": "markdown",
   "metadata": {},
   "source": [
    "### RUN IT"
   ]
  },
  {
   "cell_type": "code",
   "execution_count": 15,
   "metadata": {
    "collapsed": false
   },
   "outputs": [
    {
     "name": "stderr",
     "output_type": "stream",
     "text": [
      "WARNING:pyuvvis.core.spectra:Spectrum does not have subtracted baseline; could affect result in specious absorbance data.\n"
     ]
    },
    {
     "name": "stdout",
     "output_type": "stream",
     "text": [
      "430.1 specindex 0\n",
      "in draw spec\n"
     ]
    },
    {
     "name": "stderr",
     "output_type": "stream",
     "text": [
      "WARNING:pyuvvis.core.spectra:Spectrum does not have subtracted baseline; could affect result in specious absorbance data.\n"
     ]
    },
    {
     "name": "stdout",
     "output_type": "stream",
     "text": [
      "in draw colormap\n"
     ]
    },
    {
     "name": "stderr",
     "output_type": "stream",
     "text": [
      "WARNING:pyuvvis.core.spectra:Spectrum does not have subtracted baseline; could affect result in specious absorbance data.\n"
     ]
    },
    {
     "name": "stdout",
     "output_type": "stream",
     "text": [
      "in draw interactive\n"
     ]
    },
    {
     "name": "stderr",
     "output_type": "stream",
     "text": [
      "WARNING:pyuvvis.core.spectra:Spectrum does not have subtracted baseline; could affect result in specious absorbance data.\n"
     ]
    },
    {
     "name": "stdout",
     "output_type": "stream",
     "text": [
      "in draw selectlines\n"
     ]
    }
   ],
   "source": [
    "from pyuvvis.data import trip_peaks, aunps_glass\n",
    "from specgui import SpectralGUI\n",
    "\n",
    "testspectra = aunps_glass().as_varunit('s')\n",
    "testspectra.reference = 0\n",
    "\n",
    "specmodel = Spectrogram(spec=testspectra) #I can initialize/set traits here\n",
    "#specmodel.spacing = 10\n",
    "\n",
    "gui = SpectralGUI(model=specmodel)\n",
    "gui\n"
   ]
  }
 ],
 "metadata": {
  "kernelspec": {
   "display_name": "IPython (Python 2)",
   "name": "python2"
  },
  "language_info": {
   "codemirror_mode": {
    "name": "ipython",
    "version": 2
   },
   "mimetype": "text/x-python",
   "name": "python",
   "pygments_lexer": "ipython2"
  },
  "signature": "sha256:7208ccc5b0fe8b0caae6c1eb38621a41078a206112b74d41c01d3b57b3f5a944"
 },
 "nbformat": 4,
 "nbformat_minor": 0
}