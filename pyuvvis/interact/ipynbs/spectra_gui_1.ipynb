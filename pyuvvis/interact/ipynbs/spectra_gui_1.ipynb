{
 "cells": [
  {
   "cell_type": "code",
   "execution_count": 1,
   "metadata": {
    "collapsed": false
   },
   "outputs": [
    {
     "name": "stdout",
     "output_type": "stream",
     "text": [
      "Populating the interactive namespace from numpy and matplotlib\n"
     ]
    }
   ],
   "source": [
    "#%run 'NBCONFIG.ipynb'\n",
    "%pylab inline"
   ]
  },
  {
   "cell_type": "markdown",
   "metadata": {},
   "source": [
    "### LAYOUT SETTINGS"
   ]
  },
  {
   "cell_type": "code",
   "execution_count": 2,
   "metadata": {
    "collapsed": false
   },
   "outputs": [
    {
     "data": {
      "text/html": [
       "<style>\n",
       "/*\n",
       "    This contents of this would go in a separate CSS file.\n",
       "\n",
       "    Note the namespacing: this is important for two reasons.\n",
       "    1) doesn't pollute the global namespace\n",
       "    2) is _more specific_ than the base styles.\n",
       "*/\n",
       "\n",
       ".widget-area .spectroscopy .panel-body{\n",
       "    padding: 0.5;\n",
       "}\n",
       ".widget-area .spectroscopy .widget-numeric-text{\n",
       "    width: 5em;\n",
       "}\n",
       ".widget-area .spectroscopy .widget-box.start{\n",
       "    margin-left: 0;\n",
       "}\n",
       ".widget-area .spectroscopy .widget-hslider{\n",
       "    width: 12em;\n",
       "}\n",
       ".widget-area .spectroscopy .widget-text{\n",
       "    width: 13em;\n",
       "}\n",
       "    \n",
       "</style>"
      ],
      "text/plain": [
       "<IPython.core.display.HTML object>"
      ]
     },
     "metadata": {},
     "output_type": "display_data"
    }
   ],
   "source": [
    "%%html\n",
    "<style>\n",
    "/*\n",
    "    This contents of this would go in a separate CSS file.\n",
    "\n",
    "    Note the namespacing: this is important for two reasons.\n",
    "    1) doesn't pollute the global namespace\n",
    "    2) is _more specific_ than the base styles.\n",
    "*/\n",
    "\n",
    ".widget-area .spectroscopy .panel-body{\n",
    "    padding: 0.5;\n",
    "}\n",
    ".widget-area .spectroscopy .widget-numeric-text{\n",
    "    width: 5em;\n",
    "}\n",
    ".widget-area .spectroscopy .widget-box.start{\n",
    "    margin-left: 0;\n",
    "}\n",
    ".widget-area .spectroscopy .widget-hslider{\n",
    "    width: 12em;\n",
    "}\n",
    ".widget-area .spectroscopy .widget-text{\n",
    "    width: 13em;\n",
    "}\n",
    "    \n",
    "</style>"
   ]
  },
  {
   "cell_type": "code",
   "execution_count": 3,
   "metadata": {
    "collapsed": true
   },
   "outputs": [],
   "source": [
    "css = \"\"\"\n",
    "table\n",
    "{\n",
    "  border-collapse: collapse;\n",
    "}\n",
    "th\n",
    "{\n",
    "  color: #ffffff;\n",
    "  background-color: #000000;\n",
    "}\n",
    "td\n",
    "{\n",
    "  background-color: #cccccc;\n",
    "}\n",
    "table, th, td\n",
    "{\n",
    "  font-family:Arial, Helvetica, sans-serif;\n",
    "  border: 1px solid black;\n",
    "  text-align: right;\n",
    "}\n",
    "\"\"\"\n"
   ]
  },
  {
   "cell_type": "markdown",
   "metadata": {},
   "source": [
    "### RUN THE GUI"
   ]
  },
  {
   "cell_type": "code",
   "execution_count": 4,
   "metadata": {
    "collapsed": false
   },
   "outputs": [
    {
     "name": "stdout",
     "output_type": "stream",
     "text": [
      "['dti', 'd', 'h', 'm', 'us', 's', 'ms', 'intvl', 'ns']\n",
      "430.1"
     ]
    },
    {
     "name": "stderr",
     "output_type": "stream",
     "text": [
      "WARNING:pyuvvis.core.spectra:Spectrum does not have subtracted baseline; could affect result in specious absorbance data.\n"
     ]
    },
    {
     "name": "stdout",
     "output_type": "stream",
     "text": [
      " specindex 0\n",
      "changing slice start to 430.1\n"
     ]
    }
   ],
   "source": [
    "from pyuvvis.data import trip_peaks, aunps_glass\n",
    "from specgui import SpectralGUI\n",
    "from specgram import Spectrogram\n",
    "\n",
    "testspectra = aunps_glass().as_varunit('s')\n",
    "testspectra.reference = 0\n",
    "\n",
    "specmodel = Spectrogram(spec=testspectra) #I can initialize/set traits here\n",
    "#specmodel.spacing = 10\n",
    "\n",
    "gui = SpectralGUI(model=specmodel)\n",
    "gui\n"
   ]
  }
 ],
 "metadata": {
  "kernelspec": {
   "display_name": "IPython (Python 2)",
   "name": "python2"
  },
  "language_info": {
   "codemirror_mode": {
    "name": "ipython",
    "version": 2
   },
   "file_extension": ".py",
   "mimetype": "text/x-python",
   "name": "python",
   "nbconvert_exporter": "python",
   "pygments_lexer": "ipython2",
   "version": "2.7.6"
  },
  "signature": "sha256:56f2c11d456be0b51a0046a0b2d7a6397dd641a9998320be0e5d94943ba1b4b2"
 },
 "nbformat": 4,
 "nbformat_minor": 0
}