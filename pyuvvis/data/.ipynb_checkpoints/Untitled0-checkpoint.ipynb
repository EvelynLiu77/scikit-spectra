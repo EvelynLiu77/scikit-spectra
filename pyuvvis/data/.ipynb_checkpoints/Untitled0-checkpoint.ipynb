{
 "metadata": {
  "name": "",
  "signature": "sha256:3d7e0298df5ca4d3b26d8357c85af82dc30c83a8a425ce0275069520a53532fc"
 },
 "nbformat": 3,
 "nbformat_minor": 0,
 "worksheets": []
}