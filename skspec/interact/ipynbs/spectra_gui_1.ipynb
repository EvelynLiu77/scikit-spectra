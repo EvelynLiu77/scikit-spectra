{
 "cells": [
  {
   "cell_type": "code",
   "execution_count": 1,
   "metadata": {
    "collapsed": false
   },
   "outputs": [
    {
     "name": "stdout",
     "output_type": "stream",
     "text": [
      "Populating the interactive namespace from numpy and matplotlib\n"
     ]
    }
   ],
   "source": [
    "#%run 'NBCONFIG.ipynb'\n",
    "%pylab inline"
   ]
  },
  {
   "cell_type": "markdown",
   "metadata": {},
   "source": [
    "### RUN THE GUI"
   ]
  },
  {
   "cell_type": "code",
   "execution_count": 2,
   "metadata": {
    "collapsed": false
   },
   "outputs": [
    {
     "name": "stderr",
     "output_type": "stream",
     "text": [
      "WARNING:skspec.core.spectra:Spectrum does not have subtracted baseline; could affect result in specious absorbance data.\n"
     ]
    },
    {
     "name": "stdout",
     "output_type": "stream",
     "text": [
      "['dti', 'd', 'h', 'm', 'us', 's', 'ms', 'intvl', 'ns']\n"
     ]
    },
    {
     "name": "stderr",
     "output_type": "stream",
     "text": [
      "WARNING:skspec.core.spectra:Spectrum does not have subtracted baseline; could affect result in specious absorbance data.\n",
      "WARNING:skspec.core.spectra:Spectrum does not have subtracted baseline; could affect result in specious absorbance data.\n"
     ]
    }
   ],
   "source": [
    "from skspec.data import trip_peaks, aunps_glass\n",
    "from skspec.interact import SpectraGui\n",
    "from skspec.interact import SpectraModel\n",
    "\n",
    "testspectra = aunps_glass().as_varunit('s')\n",
    "testspectra.reference = 0\n",
    "\n",
    "specmodel = SpectraModel(spec=testspectra) #I can initialize/set traits here\n",
    "#specmodel.spacing = 10\n",
    "\n",
    "gui = SpectraGui(model=specmodel)\n",
    "gui\n"
   ]
  },
  {
   "cell_type": "code",
   "execution_count": 3,
   "metadata": {
    "collapsed": false
   },
   "outputs": [
    {
     "data": {
      "text/html": [
       "<style>\n",
       "/*\n",
       "    This contents of this would go in a separate CSS file.\n",
       "\n",
       "    Note the namespacing: this is important for two reasons.\n",
       "    1) doesn't pollute the global namespace\n",
       "    2) is _more specific_ than the base styles.\n",
       "*/\n",
       "\n",
       ".widget-area .spectroscopy .panel-body{\n",
       "    padding: 0.5;\n",
       "}\n",
       ".widget-area .spectroscopy .widget-numeric-text{\n",
       "    width: 3em;\n",
       "}\n",
       ".widget-area .spectroscopy .widget-box.start{\n",
       "    margin-left: 0;\n",
       "}\n",
       ".widget-area .spectroscopy .widget-hslider{\n",
       "    width: 10em;\n",
       "}\n",
       ".widget-area .spectroscopy .widget-text{\n",
       "    width: 10em;\n",
       "}\n",
       "    \n",
       "</style>\n"
      ],
      "text/plain": [
       "<IPython.core.display.HTML object>"
      ]
     },
     "execution_count": 3,
     "metadata": {},
     "output_type": "execute_result"
    }
   ],
   "source": [
    "gui.set_layout()"
   ]
  },
  {
   "cell_type": "code",
   "execution_count": null,
   "metadata": {
    "collapsed": true
   },
   "outputs": [],
   "source": []
  }
 ],
 "metadata": {
  "kernelspec": {
   "display_name": "IPython (Python 2)",
   "name": "python2"
  },
  "language_info": {
   "codemirror_mode": {
    "name": "ipython",
    "version": 2
   },
   "file_extension": ".py",
   "mimetype": "text/x-python",
   "name": "python",
   "nbconvert_exporter": "python",
   "pygments_lexer": "ipython2",
   "version": "2.7.6"
  },
  "signature": "sha256:4b4afbe5657f68dbfb817eb2166e2fc214f308b054fce2a2062c54d38acd917c"
 },
 "nbformat": 4,
 "nbformat_minor": 0
}